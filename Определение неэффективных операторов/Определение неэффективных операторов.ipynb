{
 "cells": [
  {
   "cell_type": "markdown",
   "id": "7e26cc64",
   "metadata": {
    "toc": true
   },
   "source": [
    "<h1>Table of Contents<span class=\"tocSkip\"></span></h1>\n",
    "<div class=\"toc\"><ul class=\"toc-item\"><li><span><a href=\"#Общие-цели,-этапы-проекта\" data-toc-modified-id=\"Общие-цели,-этапы-проекта-1\"><span class=\"toc-item-num\">1&nbsp;&nbsp;</span>Общие цели, этапы проекта</a></span></li><li><span><a href=\"#Обзор-данных\" data-toc-modified-id=\"Обзор-данных-2\"><span class=\"toc-item-num\">2&nbsp;&nbsp;</span>Обзор данных</a></span></li><li><span><a href=\"#Загрузим-данные-и-изучим-общую-информацию\" data-toc-modified-id=\"Загрузим-данные-и-изучим-общую-информацию-3\"><span class=\"toc-item-num\">3&nbsp;&nbsp;</span>Загрузим данные и изучим общую информацию</a></span></li><li><span><a href=\"#Исследовательский-анализ-данных\" data-toc-modified-id=\"Исследовательский-анализ-данных-4\"><span class=\"toc-item-num\">4&nbsp;&nbsp;</span>Исследовательский анализ данных</a></span><ul class=\"toc-item\"><li><span><a href=\"#Категоризируем-колл-центры-по-специализации.-В-качестве-порога-возьмём-порог-в-50%.-Для-этого-напишем-функцию-для-одной-строки\" data-toc-modified-id=\"Категоризируем-колл-центры-по-специализации.-В-качестве-порога-возьмём-порог-в-50%.-Для-этого-напишем-функцию-для-одной-строки-4.1\"><span class=\"toc-item-num\">4.1&nbsp;&nbsp;</span>Категоризируем колл-центры по специализации. В качестве порога возьмём порог в 50%. Для этого напишем функцию для одной строки</a></span></li><li><span><a href=\"#Визуализируем-данные\" data-toc-modified-id=\"Визуализируем-данные-4.2\"><span class=\"toc-item-num\">4.2&nbsp;&nbsp;</span>Визуализируем данные</a></span></li><li><span><a href=\"#Категоризируем-операторов\" data-toc-modified-id=\"Категоризируем-операторов-4.3\"><span class=\"toc-item-num\">4.3&nbsp;&nbsp;</span>Категоризируем операторов</a></span></li><li><span><a href=\"#Критерии-для-колл-центров,-специализирующихся-на-входящих-вызовах\" data-toc-modified-id=\"Критерии-для-колл-центров,-специализирующихся-на-входящих-вызовах-4.4\"><span class=\"toc-item-num\">4.4&nbsp;&nbsp;</span>Критерии для колл-центров, специализирующихся на входящих вызовах</a></span><ul class=\"toc-item\"><li><span><a href=\"#Рассчитаем-среднее-пропущенных-внешних-входящих-вызовов-в-день.\" data-toc-modified-id=\"Рассчитаем-среднее-пропущенных-внешних-входящих-вызовов-в-день.-4.4.1\"><span class=\"toc-item-num\">4.4.1&nbsp;&nbsp;</span>Рассчитаем среднее пропущенных внешних входящих вызовов в день.</a></span></li><li><span><a href=\"#Рассчитаем-среднюю-длительность-звонков\" data-toc-modified-id=\"Рассчитаем-среднюю-длительность-звонков-4.4.2\"><span class=\"toc-item-num\">4.4.2&nbsp;&nbsp;</span>Рассчитаем среднюю длительность звонков</a></span></li><li><span><a href=\"#Рассчитаем-среднее-время-ожидания-ответа-при-входящих-вызовах\" data-toc-modified-id=\"Рассчитаем-среднее-время-ожидания-ответа-при-входящих-вызовах-4.4.3\"><span class=\"toc-item-num\">4.4.3&nbsp;&nbsp;</span>Рассчитаем среднее время ожидания ответа при входящих вызовах</a></span></li><li><span><a href=\"#Напишем-функцию-для-категоризации-операторов-(порог-для-пропущенных-определен-по-среднему-среднего)\" data-toc-modified-id=\"Напишем-функцию-для-категоризации-операторов-(порог-для-пропущенных-определен-по-среднему-среднего)-4.4.4\"><span class=\"toc-item-num\">4.4.4&nbsp;&nbsp;</span>Напишем функцию для категоризации операторов (порог для пропущенных определен по среднему среднего)</a></span></li><li><span><a href=\"#Визуализируем-долю-эффективных-и-неэффективных-операторов.-Построим-круговую-диаграмму.\" data-toc-modified-id=\"Визуализируем-долю-эффективных-и-неэффективных-операторов.-Построим-круговую-диаграмму.-4.4.5\"><span class=\"toc-item-num\">4.4.5&nbsp;&nbsp;</span>Визуализируем долю эффективных и неэффективных операторов. Построим круговую диаграмму.</a></span></li><li><span><a href=\"#Напишем-функцию-для-категоризации-операторов-(порог-для-пропущенных-определен-по-%-пропущенных-от-входящих-в-день)\" data-toc-modified-id=\"Напишем-функцию-для-категоризации-операторов-(порог-для-пропущенных-определен-по-%-пропущенных-от-входящих-в-день)-4.4.6\"><span class=\"toc-item-num\">4.4.6&nbsp;&nbsp;</span>Напишем функцию для категоризации операторов (порог для пропущенных определен по % пропущенных от входящих в день)</a></span></li></ul></li><li><span><a href=\"#Критерии-для-колл-центров,-специализирующихся-на-исходящих-вызовах\" data-toc-modified-id=\"Критерии-для-колл-центров,-специализирующихся-на-исходящих-вызовах-4.5\"><span class=\"toc-item-num\">4.5&nbsp;&nbsp;</span>Критерии для колл-центров, специализирующихся на исходящих вызовах</a></span><ul class=\"toc-item\"><li><span><a href=\"#Рассчитаем-среднее-количество-внешних-исходящих-звонков\" data-toc-modified-id=\"Рассчитаем-среднее-количество-внешних-исходящих-звонков-4.5.1\"><span class=\"toc-item-num\">4.5.1&nbsp;&nbsp;</span>Рассчитаем среднее количество внешних исходящих звонков</a></span></li><li><span><a href=\"#Помимо-количества-звонков-важна-и-средняя-длительность.-Рассчитаем-её.\" data-toc-modified-id=\"Помимо-количества-звонков-важна-и-средняя-длительность.-Рассчитаем-её.-4.5.2\"><span class=\"toc-item-num\">4.5.2&nbsp;&nbsp;</span>Помимо количества звонков важна и средняя длительность. Рассчитаем её.</a></span></li><li><span><a href=\"#Напишем-функцию-для-категоризации-операторов\" data-toc-modified-id=\"Напишем-функцию-для-категоризации-операторов-4.5.3\"><span class=\"toc-item-num\">4.5.3&nbsp;&nbsp;</span>Напишем функцию для категоризации операторов</a></span></li><li><span><a href=\"#Визуализируем-долю-эффективных-и-неэффективных-операторов.-Построим-круговую-диаграмму.\" data-toc-modified-id=\"Визуализируем-долю-эффективных-и-неэффективных-операторов.-Построим-круговую-диаграмму.-4.5.4\"><span class=\"toc-item-num\">4.5.4&nbsp;&nbsp;</span>Визуализируем долю эффективных и неэффективных операторов. Построим круговую диаграмму.</a></span></li></ul></li></ul></li><li><span><a href=\"#Проверим-статистические-гипотезы.\" data-toc-modified-id=\"Проверим-статистические-гипотезы.-5\"><span class=\"toc-item-num\">5&nbsp;&nbsp;</span>Проверим статистические гипотезы.</a></span><ul class=\"toc-item\"><li><span><a href=\"#Первая-гипотеза\" data-toc-modified-id=\"Первая-гипотеза-5.1\"><span class=\"toc-item-num\">5.1&nbsp;&nbsp;</span>Первая гипотеза</a></span></li><li><span><a href=\"#Вторая-гипотеза\" data-toc-modified-id=\"Вторая-гипотеза-5.2\"><span class=\"toc-item-num\">5.2&nbsp;&nbsp;</span>Вторая гипотеза</a></span></li></ul></li><li><span><a href=\"#Выводы\" data-toc-modified-id=\"Выводы-6\"><span class=\"toc-item-num\">6&nbsp;&nbsp;</span>Выводы</a></span></li></ul></div>"
   ]
  },
  {
   "cell_type": "markdown",
   "id": "05f75c52",
   "metadata": {},
   "source": [
    "Дашборд: https://public.tableau.com/app/profile/liuba.borzykina/viz/MyDashboard_16870989368450/MyDashboard?publish=yes"
   ]
  },
  {
   "cell_type": "markdown",
   "id": "04463b46",
   "metadata": {},
   "source": [
    "## Общие цели, этапы проекта"
   ]
  },
  {
   "cell_type": "markdown",
   "id": "465102f9",
   "metadata": {},
   "source": [
    "В нашем распоряжении есть аггрегированные данные о звонках с разбивкой по дням. \"Нупозвони\" разработала сервис для регулярного мониторинга \"Нупозвони мне, нупозвони!\", показывающий колл-центрам, сколько у них работает неэффективных операторов. Цель нашего исследования понять, насколько этот сервис востребован, есть ли смысл его внедрять.\n",
    "Наши клиенты делятся на 2 группы: колл-центры, специализирующиеся на обработке входящих звонков, и колл-центры, специализирующиеся на обзвонах.  \n",
    "Проведем исследовательский анализ данных, определим критерии эффективности и их пороги, категоризируем колл-центры по специализации и операторов по критериям эффективности."
   ]
  },
  {
   "cell_type": "markdown",
   "id": "4bde67b7",
   "metadata": {},
   "source": [
    "## Обзор данных"
   ]
  },
  {
   "cell_type": "markdown",
   "id": "ed1774d6",
   "metadata": {},
   "source": [
    "\n",
    "Датасеты описывают использование услуг «Нупозвони» — провайдера виртуальный телефонии. Его клиенты — колл-центры, которые:   \n",
    "\n",
    "- распределяют входящие вызовы на операторов,\n",
    "- совершают исходящие вызовы силами операторов.\n",
    "\n",
    "Также операторы могут делать внутренние вызовы —  вызовы друг между другом внутри сети виртуальной телефонии.\n",
    "\n",
    "Колонки в `telecom_dataset.csv.zip`:\n",
    "\n",
    "- `user_id` — Идентификатор клиентского аккаунта колл-центра в сервисе\n",
    "- `date` — Дата статистики\n",
    "- `direction` — Направление вызовов (out - исходящий вызов, in — входящий вызов)\n",
    "- `internal` — Является ли звонок внутренним звонком между операторами клиента\n",
    "- `operator_id` — Идентификатор оператора\n",
    "- `is_missed_call` — Является ли звонок пропущенным\n",
    "- `calls_count` — Количество звонков\n",
    "- `call_duration` — Длительность звонка (без учета времени ожидания)\n",
    "- `total_call_duration` — Длительность звонка (с учетом времени ожидания)\n",
    "\n",
    "Колонки в `telecom_clients.csv`:\n",
    "\n",
    "- `user_id` — Идентификатор клиентского аккаунта в сервисе  \n",
    "- `tariff_plan` — Текущий тарифный план клиента\n",
    "- `date_start` — Дата регистрации клиентв в сервисе"
   ]
  },
  {
   "cell_type": "markdown",
   "id": "7097ddd1",
   "metadata": {},
   "source": [
    "## Загрузим данные и изучим общую информацию"
   ]
  },
  {
   "cell_type": "code",
   "execution_count": 1,
   "id": "b24b64af",
   "metadata": {},
   "outputs": [],
   "source": [
    "import pandas as pd\n",
    "import matplotlib.pyplot as plt\n",
    "import seaborn as sns\n",
    "import numpy as np\n",
    "from plotly import graph_objects as go\n",
    "import scipy\n",
    "from scipy import stats as st \n",
    "import plotly.express as px"
   ]
  },
  {
   "cell_type": "code",
   "execution_count": 2,
   "id": "594239e8",
   "metadata": {},
   "outputs": [],
   "source": [
    "try:\n",
    "    dataset = pd.read_csv('datasets/telecom_dataset.csv')\n",
    "    clients = pd.read_csv('datasets/telecom_clients.csv')\n",
    "except:\n",
    "    dataset = pd.read_csv('C://Users//79111//OneDrive//Рабочий стол//My_Folders//Practicum//Final//telecom_dataset.csv')\n",
    "    clients = pd.read_csv('C://Users//79111//OneDrive//Рабочий стол//My_Folders//Practicum//Final//telecom_clients.csv')"
   ]
  },
  {
   "cell_type": "code",
   "execution_count": 3,
   "id": "568da60c",
   "metadata": {},
   "outputs": [
    {
     "data": {
      "text/html": [
       "<div>\n",
       "<style scoped>\n",
       "    .dataframe tbody tr th:only-of-type {\n",
       "        vertical-align: middle;\n",
       "    }\n",
       "\n",
       "    .dataframe tbody tr th {\n",
       "        vertical-align: top;\n",
       "    }\n",
       "\n",
       "    .dataframe thead th {\n",
       "        text-align: right;\n",
       "    }\n",
       "</style>\n",
       "<table border=\"1\" class=\"dataframe\">\n",
       "  <thead>\n",
       "    <tr style=\"text-align: right;\">\n",
       "      <th></th>\n",
       "      <th>user_id</th>\n",
       "      <th>date</th>\n",
       "      <th>direction</th>\n",
       "      <th>internal</th>\n",
       "      <th>operator_id</th>\n",
       "      <th>is_missed_call</th>\n",
       "      <th>calls_count</th>\n",
       "      <th>call_duration</th>\n",
       "      <th>total_call_duration</th>\n",
       "    </tr>\n",
       "  </thead>\n",
       "  <tbody>\n",
       "    <tr>\n",
       "      <th>0</th>\n",
       "      <td>166377</td>\n",
       "      <td>2019-08-04 00:00:00+03:00</td>\n",
       "      <td>in</td>\n",
       "      <td>False</td>\n",
       "      <td>NaN</td>\n",
       "      <td>True</td>\n",
       "      <td>2</td>\n",
       "      <td>0</td>\n",
       "      <td>4</td>\n",
       "    </tr>\n",
       "    <tr>\n",
       "      <th>1</th>\n",
       "      <td>166377</td>\n",
       "      <td>2019-08-05 00:00:00+03:00</td>\n",
       "      <td>out</td>\n",
       "      <td>True</td>\n",
       "      <td>880022.0</td>\n",
       "      <td>True</td>\n",
       "      <td>3</td>\n",
       "      <td>0</td>\n",
       "      <td>5</td>\n",
       "    </tr>\n",
       "    <tr>\n",
       "      <th>2</th>\n",
       "      <td>166377</td>\n",
       "      <td>2019-08-05 00:00:00+03:00</td>\n",
       "      <td>out</td>\n",
       "      <td>True</td>\n",
       "      <td>880020.0</td>\n",
       "      <td>True</td>\n",
       "      <td>1</td>\n",
       "      <td>0</td>\n",
       "      <td>1</td>\n",
       "    </tr>\n",
       "    <tr>\n",
       "      <th>3</th>\n",
       "      <td>166377</td>\n",
       "      <td>2019-08-05 00:00:00+03:00</td>\n",
       "      <td>out</td>\n",
       "      <td>True</td>\n",
       "      <td>880020.0</td>\n",
       "      <td>False</td>\n",
       "      <td>1</td>\n",
       "      <td>10</td>\n",
       "      <td>18</td>\n",
       "    </tr>\n",
       "    <tr>\n",
       "      <th>4</th>\n",
       "      <td>166377</td>\n",
       "      <td>2019-08-05 00:00:00+03:00</td>\n",
       "      <td>out</td>\n",
       "      <td>False</td>\n",
       "      <td>880022.0</td>\n",
       "      <td>True</td>\n",
       "      <td>3</td>\n",
       "      <td>0</td>\n",
       "      <td>25</td>\n",
       "    </tr>\n",
       "  </tbody>\n",
       "</table>\n",
       "</div>"
      ],
      "text/plain": [
       "   user_id                       date direction internal  operator_id  \\\n",
       "0   166377  2019-08-04 00:00:00+03:00        in    False          NaN   \n",
       "1   166377  2019-08-05 00:00:00+03:00       out     True     880022.0   \n",
       "2   166377  2019-08-05 00:00:00+03:00       out     True     880020.0   \n",
       "3   166377  2019-08-05 00:00:00+03:00       out     True     880020.0   \n",
       "4   166377  2019-08-05 00:00:00+03:00       out    False     880022.0   \n",
       "\n",
       "   is_missed_call  calls_count  call_duration  total_call_duration  \n",
       "0            True            2              0                    4  \n",
       "1            True            3              0                    5  \n",
       "2            True            1              0                    1  \n",
       "3           False            1             10                   18  \n",
       "4            True            3              0                   25  "
      ]
     },
     "metadata": {},
     "output_type": "display_data"
    },
    {
     "data": {
      "text/html": [
       "<div>\n",
       "<style scoped>\n",
       "    .dataframe tbody tr th:only-of-type {\n",
       "        vertical-align: middle;\n",
       "    }\n",
       "\n",
       "    .dataframe tbody tr th {\n",
       "        vertical-align: top;\n",
       "    }\n",
       "\n",
       "    .dataframe thead th {\n",
       "        text-align: right;\n",
       "    }\n",
       "</style>\n",
       "<table border=\"1\" class=\"dataframe\">\n",
       "  <thead>\n",
       "    <tr style=\"text-align: right;\">\n",
       "      <th></th>\n",
       "      <th>user_id</th>\n",
       "      <th>tariff_plan</th>\n",
       "      <th>date_start</th>\n",
       "    </tr>\n",
       "  </thead>\n",
       "  <tbody>\n",
       "    <tr>\n",
       "      <th>0</th>\n",
       "      <td>166713</td>\n",
       "      <td>A</td>\n",
       "      <td>2019-08-15</td>\n",
       "    </tr>\n",
       "    <tr>\n",
       "      <th>1</th>\n",
       "      <td>166901</td>\n",
       "      <td>A</td>\n",
       "      <td>2019-08-23</td>\n",
       "    </tr>\n",
       "    <tr>\n",
       "      <th>2</th>\n",
       "      <td>168527</td>\n",
       "      <td>A</td>\n",
       "      <td>2019-10-29</td>\n",
       "    </tr>\n",
       "    <tr>\n",
       "      <th>3</th>\n",
       "      <td>167097</td>\n",
       "      <td>A</td>\n",
       "      <td>2019-09-01</td>\n",
       "    </tr>\n",
       "    <tr>\n",
       "      <th>4</th>\n",
       "      <td>168193</td>\n",
       "      <td>A</td>\n",
       "      <td>2019-10-16</td>\n",
       "    </tr>\n",
       "  </tbody>\n",
       "</table>\n",
       "</div>"
      ],
      "text/plain": [
       "   user_id tariff_plan  date_start\n",
       "0   166713           A  2019-08-15\n",
       "1   166901           A  2019-08-23\n",
       "2   168527           A  2019-10-29\n",
       "3   167097           A  2019-09-01\n",
       "4   168193           A  2019-10-16"
      ]
     },
     "metadata": {},
     "output_type": "display_data"
    }
   ],
   "source": [
    "display(dataset.head(), clients.head())"
   ]
  },
  {
   "cell_type": "markdown",
   "id": "cdb4d620",
   "metadata": {},
   "source": [
    "Датасет clients для нашего исследования пока не нужен, поэтому будем работать с датасетом dataset. Если потребуется, потом ознакомимся подробнее с датасетом clients. Посмотрим общую информацию по dataset"
   ]
  },
  {
   "cell_type": "code",
   "execution_count": 4,
   "id": "9f8a612f",
   "metadata": {},
   "outputs": [
    {
     "name": "stdout",
     "output_type": "stream",
     "text": [
      "<class 'pandas.core.frame.DataFrame'>\n",
      "RangeIndex: 53902 entries, 0 to 53901\n",
      "Data columns (total 9 columns):\n",
      " #   Column               Non-Null Count  Dtype  \n",
      "---  ------               --------------  -----  \n",
      " 0   user_id              53902 non-null  int64  \n",
      " 1   date                 53902 non-null  object \n",
      " 2   direction            53902 non-null  object \n",
      " 3   internal             53785 non-null  object \n",
      " 4   operator_id          45730 non-null  float64\n",
      " 5   is_missed_call       53902 non-null  bool   \n",
      " 6   calls_count          53902 non-null  int64  \n",
      " 7   call_duration        53902 non-null  int64  \n",
      " 8   total_call_duration  53902 non-null  int64  \n",
      "dtypes: bool(1), float64(1), int64(4), object(3)\n",
      "memory usage: 3.3+ MB\n"
     ]
    }
   ],
   "source": [
    "dataset.info()"
   ]
  },
  {
   "cell_type": "markdown",
   "id": "b62aad3e",
   "metadata": {},
   "source": [
    "На данном этапе мы видим, что нужно поменять тип данных в столбце с датой, столбце internal (на булев). Прежде, чем перейти к смене типов данных, посмотрим на пропуски."
   ]
  },
  {
   "cell_type": "code",
   "execution_count": 5,
   "id": "98a094e3",
   "metadata": {},
   "outputs": [
    {
     "data": {
      "text/plain": [
       "operator_id            8172\n",
       "internal                117\n",
       "user_id                   0\n",
       "date                      0\n",
       "direction                 0\n",
       "is_missed_call            0\n",
       "calls_count               0\n",
       "call_duration             0\n",
       "total_call_duration       0\n",
       "dtype: int64"
      ]
     },
     "execution_count": 5,
     "metadata": {},
     "output_type": "execute_result"
    }
   ],
   "source": [
    "dataset.isna().sum().sort_values(ascending=False)"
   ]
  },
  {
   "cell_type": "markdown",
   "id": "0406867d",
   "metadata": {},
   "source": [
    "Видим большое количество пропусков в столбце с идентификатором оператора. Возможно, это пропущенные вызовы. Если это так, то их можно удалить, к тому же для целей нашего исследования идентификатор оператора необходим.  \n",
    "Проверим, пропущенные ли это вызовы."
   ]
  },
  {
   "cell_type": "code",
   "execution_count": 6,
   "id": "57d1612c",
   "metadata": {},
   "outputs": [
    {
     "data": {
      "text/html": [
       "<div>\n",
       "<style scoped>\n",
       "    .dataframe tbody tr th:only-of-type {\n",
       "        vertical-align: middle;\n",
       "    }\n",
       "\n",
       "    .dataframe tbody tr th {\n",
       "        vertical-align: top;\n",
       "    }\n",
       "\n",
       "    .dataframe thead th {\n",
       "        text-align: right;\n",
       "    }\n",
       "</style>\n",
       "<table border=\"1\" class=\"dataframe\">\n",
       "  <thead>\n",
       "    <tr style=\"text-align: right;\">\n",
       "      <th></th>\n",
       "      <th>direction</th>\n",
       "      <th>internal</th>\n",
       "      <th>is_missed_call</th>\n",
       "    </tr>\n",
       "  </thead>\n",
       "  <tbody>\n",
       "    <tr>\n",
       "      <th>0</th>\n",
       "      <td>in</td>\n",
       "      <td>False</td>\n",
       "      <td>7603</td>\n",
       "    </tr>\n",
       "    <tr>\n",
       "      <th>1</th>\n",
       "      <td>in</td>\n",
       "      <td>True</td>\n",
       "      <td>314</td>\n",
       "    </tr>\n",
       "    <tr>\n",
       "      <th>2</th>\n",
       "      <td>out</td>\n",
       "      <td>False</td>\n",
       "      <td>157</td>\n",
       "    </tr>\n",
       "    <tr>\n",
       "      <th>3</th>\n",
       "      <td>out</td>\n",
       "      <td>True</td>\n",
       "      <td>41</td>\n",
       "    </tr>\n",
       "  </tbody>\n",
       "</table>\n",
       "</div>"
      ],
      "text/plain": [
       "  direction internal  is_missed_call\n",
       "0        in    False            7603\n",
       "1        in     True             314\n",
       "2       out    False             157\n",
       "3       out     True              41"
      ]
     },
     "execution_count": 6,
     "metadata": {},
     "output_type": "execute_result"
    }
   ],
   "source": [
    "(\n",
    "    dataset[dataset['operator_id'].isna()]\n",
    "    .groupby(['direction', 'internal'], as_index=False).agg({'is_missed_call':'count'})\n",
    "    .sort_values(by='is_missed_call', ascending=False).reset_index(drop=True)\n",
    ")"
   ]
  },
  {
   "cell_type": "markdown",
   "id": "707ad754",
   "metadata": {},
   "source": [
    "Подавляющая часть вызовов - это пропущенные внешние входящие вызовы. Возможно, абонент набрал и сбросил вызов, и система не распределила его на оператора, поэтому нет идентификатора. Удалим строки с пропусками в этом столбце и в internal, так как их в последнем очень мало."
   ]
  },
  {
   "cell_type": "code",
   "execution_count": 7,
   "id": "1128ff99",
   "metadata": {},
   "outputs": [
    {
     "data": {
      "text/plain": [
       "user_id                0\n",
       "date                   0\n",
       "direction              0\n",
       "internal               0\n",
       "operator_id            0\n",
       "is_missed_call         0\n",
       "calls_count            0\n",
       "call_duration          0\n",
       "total_call_duration    0\n",
       "dtype: int64"
      ]
     },
     "execution_count": 7,
     "metadata": {},
     "output_type": "execute_result"
    }
   ],
   "source": [
    "dataset = dataset.dropna(subset=['operator_id', 'internal'])\n",
    "dataset.isna().sum().sort_values(ascending=False)"
   ]
  },
  {
   "cell_type": "markdown",
   "id": "086be4b9",
   "metadata": {},
   "source": [
    "Проверим на явные дубликаты и удалим их, если есть. Проверять на неявные дубликаты нет необходимости, поскольку все столбцы булевы, дата и числовые."
   ]
  },
  {
   "cell_type": "code",
   "execution_count": 8,
   "id": "1590c3bb",
   "metadata": {},
   "outputs": [
    {
     "data": {
      "text/plain": [
       "4179"
      ]
     },
     "execution_count": 8,
     "metadata": {},
     "output_type": "execute_result"
    }
   ],
   "source": [
    "dataset.duplicated().sum()"
   ]
  },
  {
   "cell_type": "code",
   "execution_count": 9,
   "id": "daab153c",
   "metadata": {},
   "outputs": [
    {
     "data": {
      "text/plain": [
       "0"
      ]
     },
     "execution_count": 9,
     "metadata": {},
     "output_type": "execute_result"
    }
   ],
   "source": [
    "dataset = dataset.drop_duplicates()\n",
    "dataset.duplicated().sum()"
   ]
  },
  {
   "cell_type": "markdown",
   "id": "445e3e53",
   "metadata": {},
   "source": [
    "Перейдем к смене типов данных"
   ]
  },
  {
   "cell_type": "code",
   "execution_count": 10,
   "id": "02a25b00",
   "metadata": {},
   "outputs": [],
   "source": [
    "dataset['date'] = pd.to_datetime(dataset['date'])"
   ]
  },
  {
   "cell_type": "code",
   "execution_count": 11,
   "id": "5552f06a",
   "metadata": {},
   "outputs": [],
   "source": [
    "dataset = dataset.astype({'internal': 'bool', 'operator_id': 'int64'})"
   ]
  },
  {
   "cell_type": "code",
   "execution_count": 12,
   "id": "40845090",
   "metadata": {},
   "outputs": [
    {
     "name": "stdout",
     "output_type": "stream",
     "text": [
      "<class 'pandas.core.frame.DataFrame'>\n",
      "Int64Index: 41491 entries, 1 to 53899\n",
      "Data columns (total 9 columns):\n",
      " #   Column               Non-Null Count  Dtype                                \n",
      "---  ------               --------------  -----                                \n",
      " 0   user_id              41491 non-null  int64                                \n",
      " 1   date                 41491 non-null  datetime64[ns, pytz.FixedOffset(180)]\n",
      " 2   direction            41491 non-null  object                               \n",
      " 3   internal             41491 non-null  bool                                 \n",
      " 4   operator_id          41491 non-null  int64                                \n",
      " 5   is_missed_call       41491 non-null  bool                                 \n",
      " 6   calls_count          41491 non-null  int64                                \n",
      " 7   call_duration        41491 non-null  int64                                \n",
      " 8   total_call_duration  41491 non-null  int64                                \n",
      "dtypes: bool(2), datetime64[ns, pytz.FixedOffset(180)](1), int64(5), object(1)\n",
      "memory usage: 2.6+ MB\n"
     ]
    }
   ],
   "source": [
    "dataset.info()"
   ]
  },
  {
   "cell_type": "markdown",
   "id": "dfba2480",
   "metadata": {},
   "source": [
    "Типы данных приведены к нужным, для удобства переведем секунды в минуты, рассмотрим распределения."
   ]
  },
  {
   "cell_type": "code",
   "execution_count": 13,
   "id": "bfbb157c",
   "metadata": {},
   "outputs": [],
   "source": [
    "dataset['call_duration'] = (dataset['call_duration'] / 60).round(2)\n",
    "dataset['total_call_duration'] = (dataset['total_call_duration'] / 60).round(2)\n"
   ]
  },
  {
   "cell_type": "code",
   "execution_count": 14,
   "id": "7d6a9836",
   "metadata": {
    "scrolled": false
   },
   "outputs": [
    {
     "data": {
      "image/png": "[encoded data removed]",
      "text/plain": [
       "<Figure size 1080x1440 with 6 Axes>"
      ]
     },
     "metadata": {
      "needs_background": "light"
     },
     "output_type": "display_data"
    }
   ],
   "source": [
    "dataset.hist(figsize=(15,20))\n",
    "plt.show()"
   ]
  },
  {
   "cell_type": "markdown",
   "id": "18f14fe2",
   "metadata": {},
   "source": [
    "Сразу бросается в глаза, что распределение по дате смещено вправо, в длительности звонков без ожидания чаще встречаются значения до 5 минут. Рассмотрим подробнее длительность звонков. Построим диаграмму размаха."
   ]
  },
  {
   "cell_type": "code",
   "execution_count": 15,
   "id": "9d9ab5c3",
   "metadata": {},
   "outputs": [
    {
     "data": {
      "image/png": "[encoded data removed]",
      "text/plain": [
       "<Figure size 1080x504 with 1 Axes>"
      ]
     },
     "metadata": {
      "needs_background": "light"
     },
     "output_type": "display_data"
    }
   ],
   "source": [
    "plt.figure(figsize=(15,7))\n",
    "ax = sns.boxplot(x='call_duration', y='direction', data=dataset, orient='h')\n",
    "plt.title('Диаграмма размаха длительности звонков без времени ожидания в разбивке на исходящие и входящие')\n",
    "plt.xlabel('Длительность звонка')\n",
    "plt.ylabel('Направление вызовов (out - исходящий вызов, in — входящий вызов)')\n",
    "plt.grid()\n",
    "plt.show()"
   ]
  },
  {
   "cell_type": "markdown",
   "id": "cbda63a1",
   "metadata": {},
   "source": [
    "Видим выбросы, особенно их много в исходящих звонках. Посмотрим перецентили в разбивке по направлению"
   ]
  },
  {
   "cell_type": "code",
   "execution_count": 16,
   "id": "0dafbfcb",
   "metadata": {},
   "outputs": [
    {
     "name": "stdout",
     "output_type": "stream",
     "text": [
      "[  1.1    4.35  49.03 112.12] [  0.     0.38  80.46 215.07]\n"
     ]
    }
   ],
   "source": [
    "print(np.percentile(dataset.query('direction == \"in\"')['call_duration'], [25, 50, 95, 99]).round(2),\n",
    "np.percentile(dataset.query('direction == \"out\"')['call_duration'], [25, 50, 95, 99]).round(2))"
   ]
  },
  {
   "cell_type": "markdown",
   "id": "2079479c",
   "metadata": {},
   "source": [
    "В категории входящих звонков без времени ожидания 50% данных - звонки продолжительностью 4,5 минут, в исходящих - 40 секунд. 95% данных во входящих - 49 минут, в исходящих - 80 минут. Оставим 95% данных, выбросы выше этой перцентили удалим. 0 минут пока оставим и рассмотрим подробнее после категоризации и разделения колл-центров на специализирующиеся на входящих и исходящих вызовах. "
   ]
  },
  {
   "cell_type": "code",
   "execution_count": 17,
   "id": "351ca123",
   "metadata": {},
   "outputs": [],
   "source": [
    "dataset = dataset[dataset['call_duration'] <= dataset['call_duration'].quantile(.95)]\n",
    "                          "
   ]
  },
  {
   "cell_type": "markdown",
   "id": "c7876ebd",
   "metadata": {},
   "source": [
    "## Исследовательский анализ данных"
   ]
  },
  {
   "cell_type": "markdown",
   "id": "b44a18ed",
   "metadata": {},
   "source": [
    "Разделим колл-центры на специализирующиеся на входящих и исходящих вызовах. Внутренние звонки учитывать не будем, потому что они не показательны  и могут исказить картину. Посчитаем общее количество внешних звонков в каждом колл-центре"
   ]
  },
  {
   "cell_type": "code",
   "execution_count": 18,
   "id": "85dda0bd",
   "metadata": {},
   "outputs": [],
   "source": [
    "total_call_per_user_id = (\n",
    "dataset[dataset['internal'] == False].groupby('user_id', as_index=False).agg({'calls_count': 'sum'})\n",
    ")"
   ]
  },
  {
   "cell_type": "code",
   "execution_count": 19,
   "id": "6d422bfe",
   "metadata": {},
   "outputs": [],
   "source": [
    "# Посчитаем количество внешних звонков с разбивкой на входящие и исходящие\n",
    "in_out_calls = (dataset[dataset['internal'] == False]\n",
    " .groupby(['direction', 'user_id'], as_index=False).agg({'calls_count': 'sum'})\n",
    ")\n",
    "#  Объединим две таблицы\n",
    "cat_user_id = (in_out_calls.merge(total_call_per_user_id, how='left', on='user_id')\n",
    "               .rename(columns={'calls_count_x': 'count_per_direction', 'calls_count_y': 'external_calls_total'})\n",
    "              )"
   ]
  },
  {
   "cell_type": "markdown",
   "id": "5bfce83d",
   "metadata": {},
   "source": [
    "Посчитаем процент входящих и исходящих вызовов в каждом колл-центре              "
   ]
  },
  {
   "cell_type": "code",
   "execution_count": 20,
   "id": "4ba1bddf",
   "metadata": {},
   "outputs": [],
   "source": [
    "cat_user_id['direction_ratio'] = round(cat_user_id['count_per_direction'] / cat_user_id['external_calls_total'] * 100, 2)"
   ]
  },
  {
   "cell_type": "markdown",
   "id": "cb37c20f",
   "metadata": {},
   "source": [
    "### Категоризируем колл-центры по специализации. В качестве порога возьмём порог в 50%. Для этого напишем функцию для одной строки"
   ]
  },
  {
   "cell_type": "code",
   "execution_count": 21,
   "id": "577d8ac5",
   "metadata": {},
   "outputs": [],
   "source": [
    "def user_category(row):\n",
    "    direction = row['direction']\n",
    "    direction_ratio = row['direction_ratio']\n",
    "    \n",
    "    if direction == 'in':\n",
    "        if direction_ratio > 50:\n",
    "            return 'in'\n",
    "    if direction == 'in':\n",
    "        if direction_ratio < 50:\n",
    "            return 'out'\n",
    "    if direction == 'out':\n",
    "        if direction_ratio > 50:\n",
    "            return 'out'\n",
    "    if direction == 'out':\n",
    "        if direction_ratio < 50:\n",
    "            return 'in'\n",
    "        "
   ]
  },
  {
   "cell_type": "markdown",
   "id": "d50a374a",
   "metadata": {},
   "source": [
    "Применим функцию к таблице и посмотрим количество пропусков"
   ]
  },
  {
   "cell_type": "code",
   "execution_count": 22,
   "id": "406b57c1",
   "metadata": {},
   "outputs": [
    {
     "data": {
      "text/html": [
       "<div>\n",
       "<style scoped>\n",
       "    .dataframe tbody tr th:only-of-type {\n",
       "        vertical-align: middle;\n",
       "    }\n",
       "\n",
       "    .dataframe tbody tr th {\n",
       "        vertical-align: top;\n",
       "    }\n",
       "\n",
       "    .dataframe thead th {\n",
       "        text-align: right;\n",
       "    }\n",
       "</style>\n",
       "<table border=\"1\" class=\"dataframe\">\n",
       "  <thead>\n",
       "    <tr style=\"text-align: right;\">\n",
       "      <th></th>\n",
       "      <th>direction</th>\n",
       "      <th>user_id</th>\n",
       "      <th>count_per_direction</th>\n",
       "      <th>external_calls_total</th>\n",
       "      <th>direction_ratio</th>\n",
       "      <th>user_category</th>\n",
       "    </tr>\n",
       "  </thead>\n",
       "  <tbody>\n",
       "    <tr>\n",
       "      <th>0</th>\n",
       "      <td>in</td>\n",
       "      <td>166377</td>\n",
       "      <td>102</td>\n",
       "      <td>4999</td>\n",
       "      <td>2.04</td>\n",
       "      <td>out</td>\n",
       "    </tr>\n",
       "    <tr>\n",
       "      <th>1</th>\n",
       "      <td>in</td>\n",
       "      <td>166391</td>\n",
       "      <td>4</td>\n",
       "      <td>4</td>\n",
       "      <td>100.00</td>\n",
       "      <td>in</td>\n",
       "    </tr>\n",
       "    <tr>\n",
       "      <th>2</th>\n",
       "      <td>in</td>\n",
       "      <td>166392</td>\n",
       "      <td>102</td>\n",
       "      <td>102</td>\n",
       "      <td>100.00</td>\n",
       "      <td>in</td>\n",
       "    </tr>\n",
       "    <tr>\n",
       "      <th>3</th>\n",
       "      <td>in</td>\n",
       "      <td>166399</td>\n",
       "      <td>11</td>\n",
       "      <td>11</td>\n",
       "      <td>100.00</td>\n",
       "      <td>in</td>\n",
       "    </tr>\n",
       "    <tr>\n",
       "      <th>4</th>\n",
       "      <td>in</td>\n",
       "      <td>166405</td>\n",
       "      <td>1444</td>\n",
       "      <td>7487</td>\n",
       "      <td>19.29</td>\n",
       "      <td>out</td>\n",
       "    </tr>\n",
       "  </tbody>\n",
       "</table>\n",
       "</div>"
      ],
      "text/plain": [
       "  direction  user_id  count_per_direction  external_calls_total  \\\n",
       "0        in   166377                  102                  4999   \n",
       "1        in   166391                    4                     4   \n",
       "2        in   166392                  102                   102   \n",
       "3        in   166399                   11                    11   \n",
       "4        in   166405                 1444                  7487   \n",
       "\n",
       "   direction_ratio user_category  \n",
       "0             2.04           out  \n",
       "1           100.00            in  \n",
       "2           100.00            in  \n",
       "3           100.00            in  \n",
       "4            19.29           out  "
      ]
     },
     "execution_count": 22,
     "metadata": {},
     "output_type": "execute_result"
    }
   ],
   "source": [
    "cat_user_id['user_category'] = cat_user_id.apply(user_category, axis=1)\n",
    "cat_user_id.head()"
   ]
  },
  {
   "cell_type": "code",
   "execution_count": 23,
   "id": "5641593b",
   "metadata": {},
   "outputs": [
    {
     "data": {
      "text/plain": [
       "direction               0\n",
       "user_id                 0\n",
       "count_per_direction     0\n",
       "external_calls_total    0\n",
       "direction_ratio         0\n",
       "user_category           8\n",
       "dtype: int64"
      ]
     },
     "execution_count": 23,
     "metadata": {},
     "output_type": "execute_result"
    }
   ],
   "source": [
    "cat_user_id.isna().sum()"
   ]
  },
  {
   "cell_type": "markdown",
   "id": "827b205f",
   "metadata": {},
   "source": [
    "У нас есть 8 пропусков. Посмотрим, что это за данные"
   ]
  },
  {
   "cell_type": "code",
   "execution_count": 24,
   "id": "488f76fe",
   "metadata": {},
   "outputs": [
    {
     "data": {
      "text/html": [
       "<div>\n",
       "<style scoped>\n",
       "    .dataframe tbody tr th:only-of-type {\n",
       "        vertical-align: middle;\n",
       "    }\n",
       "\n",
       "    .dataframe tbody tr th {\n",
       "        vertical-align: top;\n",
       "    }\n",
       "\n",
       "    .dataframe thead th {\n",
       "        text-align: right;\n",
       "    }\n",
       "</style>\n",
       "<table border=\"1\" class=\"dataframe\">\n",
       "  <thead>\n",
       "    <tr style=\"text-align: right;\">\n",
       "      <th></th>\n",
       "      <th>direction</th>\n",
       "      <th>user_id</th>\n",
       "      <th>count_per_direction</th>\n",
       "      <th>external_calls_total</th>\n",
       "      <th>direction_ratio</th>\n",
       "      <th>user_category</th>\n",
       "    </tr>\n",
       "  </thead>\n",
       "  <tbody>\n",
       "    <tr>\n",
       "      <th>46</th>\n",
       "      <td>in</td>\n",
       "      <td>166732</td>\n",
       "      <td>5</td>\n",
       "      <td>10</td>\n",
       "      <td>50.0</td>\n",
       "      <td>None</td>\n",
       "    </tr>\n",
       "    <tr>\n",
       "      <th>101</th>\n",
       "      <td>in</td>\n",
       "      <td>167113</td>\n",
       "      <td>1</td>\n",
       "      <td>2</td>\n",
       "      <td>50.0</td>\n",
       "      <td>None</td>\n",
       "    </tr>\n",
       "    <tr>\n",
       "      <th>153</th>\n",
       "      <td>in</td>\n",
       "      <td>167543</td>\n",
       "      <td>9</td>\n",
       "      <td>18</td>\n",
       "      <td>50.0</td>\n",
       "      <td>None</td>\n",
       "    </tr>\n",
       "    <tr>\n",
       "      <th>237</th>\n",
       "      <td>in</td>\n",
       "      <td>168185</td>\n",
       "      <td>8</td>\n",
       "      <td>16</td>\n",
       "      <td>50.0</td>\n",
       "      <td>None</td>\n",
       "    </tr>\n",
       "    <tr>\n",
       "      <th>306</th>\n",
       "      <td>out</td>\n",
       "      <td>166732</td>\n",
       "      <td>5</td>\n",
       "      <td>10</td>\n",
       "      <td>50.0</td>\n",
       "      <td>None</td>\n",
       "    </tr>\n",
       "    <tr>\n",
       "      <th>352</th>\n",
       "      <td>out</td>\n",
       "      <td>167113</td>\n",
       "      <td>1</td>\n",
       "      <td>2</td>\n",
       "      <td>50.0</td>\n",
       "      <td>None</td>\n",
       "    </tr>\n",
       "    <tr>\n",
       "      <th>399</th>\n",
       "      <td>out</td>\n",
       "      <td>167543</td>\n",
       "      <td>9</td>\n",
       "      <td>18</td>\n",
       "      <td>50.0</td>\n",
       "      <td>None</td>\n",
       "    </tr>\n",
       "    <tr>\n",
       "      <th>469</th>\n",
       "      <td>out</td>\n",
       "      <td>168185</td>\n",
       "      <td>8</td>\n",
       "      <td>16</td>\n",
       "      <td>50.0</td>\n",
       "      <td>None</td>\n",
       "    </tr>\n",
       "  </tbody>\n",
       "</table>\n",
       "</div>"
      ],
      "text/plain": [
       "    direction  user_id  count_per_direction  external_calls_total  \\\n",
       "46         in   166732                    5                    10   \n",
       "101        in   167113                    1                     2   \n",
       "153        in   167543                    9                    18   \n",
       "237        in   168185                    8                    16   \n",
       "306       out   166732                    5                    10   \n",
       "352       out   167113                    1                     2   \n",
       "399       out   167543                    9                    18   \n",
       "469       out   168185                    8                    16   \n",
       "\n",
       "     direction_ratio user_category  \n",
       "46              50.0          None  \n",
       "101             50.0          None  \n",
       "153             50.0          None  \n",
       "237             50.0          None  \n",
       "306             50.0          None  \n",
       "352             50.0          None  \n",
       "399             50.0          None  \n",
       "469             50.0          None  "
      ]
     },
     "execution_count": 24,
     "metadata": {},
     "output_type": "execute_result"
    }
   ],
   "source": [
    "cat_user_id[cat_user_id['user_category'].isna()]"
   ]
  },
  {
   "cell_type": "markdown",
   "id": "8d2fc8ac",
   "metadata": {},
   "source": [
    "Пропуски при категоризации колл-центров остались там, где процент внешних исходящих и входящих звонков 50 на 50. Для целей нашего исследования колл-центры с процентным соотношением входящих и исходящих вызовов 50 на 50 не подходят. Удалим их."
   ]
  },
  {
   "cell_type": "code",
   "execution_count": 25,
   "id": "f98992ce",
   "metadata": {},
   "outputs": [
    {
     "data": {
      "text/plain": [
       "direction               0\n",
       "user_id                 0\n",
       "count_per_direction     0\n",
       "external_calls_total    0\n",
       "direction_ratio         0\n",
       "user_category           0\n",
       "dtype: int64"
      ]
     },
     "execution_count": 25,
     "metadata": {},
     "output_type": "execute_result"
    }
   ],
   "source": [
    "cat_user_id = cat_user_id.dropna()\n",
    "cat_user_id.isna().sum()"
   ]
  },
  {
   "cell_type": "markdown",
   "id": "2d79713b",
   "metadata": {},
   "source": [
    "Удалим ненужные столбцы"
   ]
  },
  {
   "cell_type": "code",
   "execution_count": 26,
   "id": "2d8c7a07",
   "metadata": {},
   "outputs": [
    {
     "data": {
      "text/html": [
       "<div>\n",
       "<style scoped>\n",
       "    .dataframe tbody tr th:only-of-type {\n",
       "        vertical-align: middle;\n",
       "    }\n",
       "\n",
       "    .dataframe tbody tr th {\n",
       "        vertical-align: top;\n",
       "    }\n",
       "\n",
       "    .dataframe thead th {\n",
       "        text-align: right;\n",
       "    }\n",
       "</style>\n",
       "<table border=\"1\" class=\"dataframe\">\n",
       "  <thead>\n",
       "    <tr style=\"text-align: right;\">\n",
       "      <th></th>\n",
       "      <th>direction</th>\n",
       "      <th>user_id</th>\n",
       "      <th>user_category</th>\n",
       "    </tr>\n",
       "  </thead>\n",
       "  <tbody>\n",
       "    <tr>\n",
       "      <th>0</th>\n",
       "      <td>in</td>\n",
       "      <td>166377</td>\n",
       "      <td>out</td>\n",
       "    </tr>\n",
       "    <tr>\n",
       "      <th>1</th>\n",
       "      <td>in</td>\n",
       "      <td>166391</td>\n",
       "      <td>in</td>\n",
       "    </tr>\n",
       "    <tr>\n",
       "      <th>2</th>\n",
       "      <td>in</td>\n",
       "      <td>166392</td>\n",
       "      <td>in</td>\n",
       "    </tr>\n",
       "    <tr>\n",
       "      <th>3</th>\n",
       "      <td>in</td>\n",
       "      <td>166399</td>\n",
       "      <td>in</td>\n",
       "    </tr>\n",
       "    <tr>\n",
       "      <th>4</th>\n",
       "      <td>in</td>\n",
       "      <td>166405</td>\n",
       "      <td>out</td>\n",
       "    </tr>\n",
       "  </tbody>\n",
       "</table>\n",
       "</div>"
      ],
      "text/plain": [
       "  direction  user_id user_category\n",
       "0        in   166377           out\n",
       "1        in   166391            in\n",
       "2        in   166392            in\n",
       "3        in   166399            in\n",
       "4        in   166405           out"
      ]
     },
     "execution_count": 26,
     "metadata": {},
     "output_type": "execute_result"
    }
   ],
   "source": [
    "cat_user_id = cat_user_id.drop(columns=['count_per_direction', 'external_calls_total', 'direction_ratio'])\n",
    "cat_user_id.head()"
   ]
  },
  {
   "cell_type": "markdown",
   "id": "734e941f",
   "metadata": {},
   "source": [
    "Мы получили таблицу с категоризацией колл-центров на специализирующихся на входящих (in) и исходящих (out) вызовах. Объединим её с основной таблицей."
   ]
  },
  {
   "cell_type": "code",
   "execution_count": 27,
   "id": "49662339",
   "metadata": {},
   "outputs": [
    {
     "data": {
      "text/html": [
       "<div>\n",
       "<style scoped>\n",
       "    .dataframe tbody tr th:only-of-type {\n",
       "        vertical-align: middle;\n",
       "    }\n",
       "\n",
       "    .dataframe tbody tr th {\n",
       "        vertical-align: top;\n",
       "    }\n",
       "\n",
       "    .dataframe thead th {\n",
       "        text-align: right;\n",
       "    }\n",
       "</style>\n",
       "<table border=\"1\" class=\"dataframe\">\n",
       "  <thead>\n",
       "    <tr style=\"text-align: right;\">\n",
       "      <th></th>\n",
       "      <th>user_id</th>\n",
       "      <th>date</th>\n",
       "      <th>direction</th>\n",
       "      <th>internal</th>\n",
       "      <th>operator_id</th>\n",
       "      <th>is_missed_call</th>\n",
       "      <th>calls_count</th>\n",
       "      <th>call_duration</th>\n",
       "      <th>total_call_duration</th>\n",
       "      <th>user_category</th>\n",
       "    </tr>\n",
       "  </thead>\n",
       "  <tbody>\n",
       "    <tr>\n",
       "      <th>0</th>\n",
       "      <td>166377</td>\n",
       "      <td>2019-08-12 00:00:00+03:00</td>\n",
       "      <td>in</td>\n",
       "      <td>False</td>\n",
       "      <td>880028</td>\n",
       "      <td>False</td>\n",
       "      <td>1</td>\n",
       "      <td>6.78</td>\n",
       "      <td>6.85</td>\n",
       "      <td>out</td>\n",
       "    </tr>\n",
       "    <tr>\n",
       "      <th>1</th>\n",
       "      <td>166377</td>\n",
       "      <td>2019-08-13 00:00:00+03:00</td>\n",
       "      <td>in</td>\n",
       "      <td>False</td>\n",
       "      <td>880028</td>\n",
       "      <td>False</td>\n",
       "      <td>1</td>\n",
       "      <td>1.47</td>\n",
       "      <td>1.70</td>\n",
       "      <td>out</td>\n",
       "    </tr>\n",
       "    <tr>\n",
       "      <th>2</th>\n",
       "      <td>166377</td>\n",
       "      <td>2019-08-14 00:00:00+03:00</td>\n",
       "      <td>in</td>\n",
       "      <td>False</td>\n",
       "      <td>880026</td>\n",
       "      <td>False</td>\n",
       "      <td>2</td>\n",
       "      <td>3.28</td>\n",
       "      <td>3.63</td>\n",
       "      <td>out</td>\n",
       "    </tr>\n",
       "    <tr>\n",
       "      <th>3</th>\n",
       "      <td>166377</td>\n",
       "      <td>2019-08-14 00:00:00+03:00</td>\n",
       "      <td>in</td>\n",
       "      <td>False</td>\n",
       "      <td>880028</td>\n",
       "      <td>False</td>\n",
       "      <td>1</td>\n",
       "      <td>0.55</td>\n",
       "      <td>0.62</td>\n",
       "      <td>out</td>\n",
       "    </tr>\n",
       "    <tr>\n",
       "      <th>4</th>\n",
       "      <td>166377</td>\n",
       "      <td>2019-08-15 00:00:00+03:00</td>\n",
       "      <td>in</td>\n",
       "      <td>False</td>\n",
       "      <td>880028</td>\n",
       "      <td>False</td>\n",
       "      <td>1</td>\n",
       "      <td>0.38</td>\n",
       "      <td>0.45</td>\n",
       "      <td>out</td>\n",
       "    </tr>\n",
       "  </tbody>\n",
       "</table>\n",
       "</div>"
      ],
      "text/plain": [
       "   user_id                      date direction  internal  operator_id  \\\n",
       "0   166377 2019-08-12 00:00:00+03:00        in     False       880028   \n",
       "1   166377 2019-08-13 00:00:00+03:00        in     False       880028   \n",
       "2   166377 2019-08-14 00:00:00+03:00        in     False       880026   \n",
       "3   166377 2019-08-14 00:00:00+03:00        in     False       880028   \n",
       "4   166377 2019-08-15 00:00:00+03:00        in     False       880028   \n",
       "\n",
       "   is_missed_call  calls_count  call_duration  total_call_duration  \\\n",
       "0           False            1           6.78                 6.85   \n",
       "1           False            1           1.47                 1.70   \n",
       "2           False            2           3.28                 3.63   \n",
       "3           False            1           0.55                 0.62   \n",
       "4           False            1           0.38                 0.45   \n",
       "\n",
       "  user_category  \n",
       "0           out  \n",
       "1           out  \n",
       "2           out  \n",
       "3           out  \n",
       "4           out  "
      ]
     },
     "execution_count": 27,
     "metadata": {},
     "output_type": "execute_result"
    }
   ],
   "source": [
    "dataset = dataset.merge(cat_user_id, how='right', on=['user_id', 'direction'])\n",
    "dataset.head()"
   ]
  },
  {
   "cell_type": "markdown",
   "id": "71a8c8c1",
   "metadata": {},
   "source": [
    "### Визуализируем данные"
   ]
  },
  {
   "cell_type": "code",
   "execution_count": 28,
   "id": "565ba122",
   "metadata": {},
   "outputs": [
    {
     "data": {
      "image/png": "[encoded data removed]",
      "text/plain": [
       "<Figure size 1080x504 with 1 Axes>"
      ]
     },
     "metadata": {},
     "output_type": "display_data"
    }
   ],
   "source": [
    "# Построим круговую диаграмму\n",
    "cat_ratio = (\n",
    "    dataset.groupby('user_category').agg({'user_id':'nunique'})\n",
    "    .rename(columns={'user_id': 'Количество колл-центров'})\n",
    "   .plot(figsize=(15,7), kind='pie', y='Количество колл-центров', autopct='%.1f')\n",
    ")\n",
    "plt.title('Соотношение колл-центров, специализирующихся на входящих (in) и исходящих (out) звонках')\n",
    "plt.show()"
   ]
  },
  {
   "cell_type": "markdown",
   "id": "45496e5a",
   "metadata": {},
   "source": [
    "56,3% колл-центров в наших данных специализируются на обзвонах.  "
   ]
  },
  {
   "cell_type": "markdown",
   "id": "77ba241b",
   "metadata": {},
   "source": [
    "### Категоризируем операторов "
   ]
  },
  {
   "cell_type": "markdown",
   "id": "15316d01",
   "metadata": {},
   "source": [
    "Теперь у нас есть все данные для категоризации операторов на эффективных и неэффективных. \n",
    "Все критерии мы определяем на основании внешних вызовов, поэтому перед категоризацией уберем строки с внутренними."
   ]
  },
  {
   "cell_type": "markdown",
   "id": "9fc3241f",
   "metadata": {},
   "source": [
    "### Критерии для колл-центров, специализирующихся на входящих вызовах"
   ]
  },
  {
   "cell_type": "markdown",
   "id": "3652e236",
   "metadata": {},
   "source": [
    "Для начала рассмотрим критерии неэффективности для колл-центров, специализирующихся на входящих вызовах. Для этих колл-центров один из критериев неэффективности оператора - это большое количество пропущенных входящих вызовов. Определим пороги большого и приемлемого количества пропущенных вызовов для операторов. Расчитаем среднее пропущенных вызовов от общего количества входящих для каждого оператора в день. Определим порог по среднему этого показателя."
   ]
  },
  {
   "cell_type": "code",
   "execution_count": 29,
   "id": "e038522f",
   "metadata": {},
   "outputs": [],
   "source": [
    "user_cat_in = dataset.copy()\n",
    "user_cat_in = (\n",
    "    user_cat_in[(user_cat_in['internal'] == False) & (user_cat_in['user_category'] == 'in')] \n",
    "              \n",
    ")"
   ]
  },
  {
   "cell_type": "markdown",
   "id": "c053635a",
   "metadata": {},
   "source": [
    "#### Рассчитаем среднее пропущенных внешних входящих вызовов в день."
   ]
  },
  {
   "cell_type": "code",
   "execution_count": 30,
   "id": "141b9f8f",
   "metadata": {},
   "outputs": [],
   "source": [
    "avg_missed_calls = (\n",
    "    round(user_cat_in[(user_cat_in['is_missed_call'] == True) & (user_cat_in['direction'] == 'in')]\n",
    "          .groupby('operator_id', as_index=False).agg({'calls_count': 'mean'}), 2)\n",
    "    .rename(columns={'calls_count': 'avg_missed_calls'})\n",
    ")\n"
   ]
  },
  {
   "cell_type": "code",
   "execution_count": 31,
   "id": "fa8a357a",
   "metadata": {},
   "outputs": [],
   "source": [
    "user_cat_in = user_cat_in.merge(avg_missed_calls, on='operator_id', how='left')"
   ]
  },
  {
   "cell_type": "code",
   "execution_count": 32,
   "id": "39d4443e",
   "metadata": {},
   "outputs": [
    {
     "data": {
      "text/html": [
       "<div>\n",
       "<style scoped>\n",
       "    .dataframe tbody tr th:only-of-type {\n",
       "        vertical-align: middle;\n",
       "    }\n",
       "\n",
       "    .dataframe tbody tr th {\n",
       "        vertical-align: top;\n",
       "    }\n",
       "\n",
       "    .dataframe thead th {\n",
       "        text-align: right;\n",
       "    }\n",
       "</style>\n",
       "<table border=\"1\" class=\"dataframe\">\n",
       "  <thead>\n",
       "    <tr style=\"text-align: right;\">\n",
       "      <th></th>\n",
       "      <th>user_id</th>\n",
       "      <th>date</th>\n",
       "      <th>direction</th>\n",
       "      <th>internal</th>\n",
       "      <th>operator_id</th>\n",
       "      <th>is_missed_call</th>\n",
       "      <th>calls_count</th>\n",
       "      <th>call_duration</th>\n",
       "      <th>total_call_duration</th>\n",
       "      <th>user_category</th>\n",
       "      <th>avg_missed_calls</th>\n",
       "    </tr>\n",
       "  </thead>\n",
       "  <tbody>\n",
       "    <tr>\n",
       "      <th>0</th>\n",
       "      <td>166391</td>\n",
       "      <td>2019-08-06 00:00:00+03:00</td>\n",
       "      <td>in</td>\n",
       "      <td>False</td>\n",
       "      <td>882476</td>\n",
       "      <td>False</td>\n",
       "      <td>1</td>\n",
       "      <td>2.92</td>\n",
       "      <td>3.10</td>\n",
       "      <td>in</td>\n",
       "      <td>NaN</td>\n",
       "    </tr>\n",
       "    <tr>\n",
       "      <th>1</th>\n",
       "      <td>166391</td>\n",
       "      <td>2019-08-07 00:00:00+03:00</td>\n",
       "      <td>in</td>\n",
       "      <td>False</td>\n",
       "      <td>882478</td>\n",
       "      <td>False</td>\n",
       "      <td>1</td>\n",
       "      <td>0.95</td>\n",
       "      <td>1.17</td>\n",
       "      <td>in</td>\n",
       "      <td>NaN</td>\n",
       "    </tr>\n",
       "    <tr>\n",
       "      <th>2</th>\n",
       "      <td>166391</td>\n",
       "      <td>2019-09-23 00:00:00+03:00</td>\n",
       "      <td>in</td>\n",
       "      <td>False</td>\n",
       "      <td>882476</td>\n",
       "      <td>False</td>\n",
       "      <td>1</td>\n",
       "      <td>0.07</td>\n",
       "      <td>0.40</td>\n",
       "      <td>in</td>\n",
       "      <td>NaN</td>\n",
       "    </tr>\n",
       "    <tr>\n",
       "      <th>3</th>\n",
       "      <td>166391</td>\n",
       "      <td>2019-11-22 00:00:00+03:00</td>\n",
       "      <td>in</td>\n",
       "      <td>False</td>\n",
       "      <td>882476</td>\n",
       "      <td>False</td>\n",
       "      <td>1</td>\n",
       "      <td>0.22</td>\n",
       "      <td>1.28</td>\n",
       "      <td>in</td>\n",
       "      <td>NaN</td>\n",
       "    </tr>\n",
       "    <tr>\n",
       "      <th>4</th>\n",
       "      <td>166392</td>\n",
       "      <td>2019-08-20 00:00:00+03:00</td>\n",
       "      <td>in</td>\n",
       "      <td>False</td>\n",
       "      <td>886892</td>\n",
       "      <td>False</td>\n",
       "      <td>2</td>\n",
       "      <td>1.20</td>\n",
       "      <td>2.17</td>\n",
       "      <td>in</td>\n",
       "      <td>NaN</td>\n",
       "    </tr>\n",
       "  </tbody>\n",
       "</table>\n",
       "</div>"
      ],
      "text/plain": [
       "   user_id                      date direction  internal  operator_id  \\\n",
       "0   166391 2019-08-06 00:00:00+03:00        in     False       882476   \n",
       "1   166391 2019-08-07 00:00:00+03:00        in     False       882478   \n",
       "2   166391 2019-09-23 00:00:00+03:00        in     False       882476   \n",
       "3   166391 2019-11-22 00:00:00+03:00        in     False       882476   \n",
       "4   166392 2019-08-20 00:00:00+03:00        in     False       886892   \n",
       "\n",
       "   is_missed_call  calls_count  call_duration  total_call_duration  \\\n",
       "0           False            1           2.92                 3.10   \n",
       "1           False            1           0.95                 1.17   \n",
       "2           False            1           0.07                 0.40   \n",
       "3           False            1           0.22                 1.28   \n",
       "4           False            2           1.20                 2.17   \n",
       "\n",
       "  user_category  avg_missed_calls  \n",
       "0            in               NaN  \n",
       "1            in               NaN  \n",
       "2            in               NaN  \n",
       "3            in               NaN  \n",
       "4            in               NaN  "
      ]
     },
     "execution_count": 32,
     "metadata": {},
     "output_type": "execute_result"
    }
   ],
   "source": [
    "user_cat_in.head()"
   ]
  },
  {
   "cell_type": "markdown",
   "id": "6696dedf",
   "metadata": {},
   "source": [
    "Видим пропуски в столбце avg_missed_calls. Если пропусков в непропущенных входящих звонках нет, значит мы правильно посчитали, и пропуски можно заполнить 0."
   ]
  },
  {
   "cell_type": "code",
   "execution_count": 33,
   "id": "8696ef0d",
   "metadata": {},
   "outputs": [
    {
     "data": {
      "text/plain": [
       "0"
      ]
     },
     "execution_count": 33,
     "metadata": {},
     "output_type": "execute_result"
    }
   ],
   "source": [
    "user_cat_in[(user_cat_in['is_missed_call'] == True) & (user_cat_in['direction'] == 'in')]['avg_missed_calls'].isna().sum()"
   ]
  },
  {
   "cell_type": "code",
   "execution_count": 34,
   "id": "b8d7caf9",
   "metadata": {},
   "outputs": [
    {
     "data": {
      "text/plain": [
       "user_id                0\n",
       "date                   0\n",
       "direction              0\n",
       "internal               0\n",
       "operator_id            0\n",
       "is_missed_call         0\n",
       "calls_count            0\n",
       "call_duration          0\n",
       "total_call_duration    0\n",
       "user_category          0\n",
       "avg_missed_calls       0\n",
       "dtype: int64"
      ]
     },
     "execution_count": 34,
     "metadata": {},
     "output_type": "execute_result"
    }
   ],
   "source": [
    "user_cat_in['avg_missed_calls'] = user_cat_in['avg_missed_calls'].fillna(0)\n",
    "user_cat_in.isna().sum()"
   ]
  },
  {
   "cell_type": "code",
   "execution_count": 35,
   "id": "0c383afa",
   "metadata": {},
   "outputs": [
    {
     "name": "stdout",
     "output_type": "stream",
     "text": [
      "В среднем у оператора колл-центра, специализирующегося на входящих вызовах, пропущенных вызовов: 0.8\n"
     ]
    }
   ],
   "source": [
    "print('В среднем у оператора колл-центра, специализирующегося на входящих вызовах, пропущенных вызовов:', \\\n",
    "     round(user_cat_in['avg_missed_calls'].mean(), 2))"
   ]
  },
  {
   "cell_type": "code",
   "execution_count": 36,
   "id": "365b0e0f",
   "metadata": {},
   "outputs": [
    {
     "data": {
      "text/html": [
       "<div>\n",
       "<style scoped>\n",
       "    .dataframe tbody tr th:only-of-type {\n",
       "        vertical-align: middle;\n",
       "    }\n",
       "\n",
       "    .dataframe tbody tr th {\n",
       "        vertical-align: top;\n",
       "    }\n",
       "\n",
       "    .dataframe thead th {\n",
       "        text-align: right;\n",
       "    }\n",
       "</style>\n",
       "<table border=\"1\" class=\"dataframe\">\n",
       "  <thead>\n",
       "    <tr style=\"text-align: right;\">\n",
       "      <th></th>\n",
       "      <th>user_id</th>\n",
       "      <th>date</th>\n",
       "      <th>direction</th>\n",
       "      <th>internal</th>\n",
       "      <th>operator_id</th>\n",
       "      <th>is_missed_call</th>\n",
       "      <th>calls_count</th>\n",
       "      <th>call_duration</th>\n",
       "      <th>total_call_duration</th>\n",
       "      <th>user_category</th>\n",
       "      <th>avg_missed_calls</th>\n",
       "    </tr>\n",
       "  </thead>\n",
       "  <tbody>\n",
       "    <tr>\n",
       "      <th>0</th>\n",
       "      <td>166391</td>\n",
       "      <td>2019-08-06 00:00:00+03:00</td>\n",
       "      <td>in</td>\n",
       "      <td>False</td>\n",
       "      <td>882476</td>\n",
       "      <td>False</td>\n",
       "      <td>1</td>\n",
       "      <td>2.92</td>\n",
       "      <td>3.10</td>\n",
       "      <td>in</td>\n",
       "      <td>0.0</td>\n",
       "    </tr>\n",
       "    <tr>\n",
       "      <th>1</th>\n",
       "      <td>166391</td>\n",
       "      <td>2019-08-07 00:00:00+03:00</td>\n",
       "      <td>in</td>\n",
       "      <td>False</td>\n",
       "      <td>882478</td>\n",
       "      <td>False</td>\n",
       "      <td>1</td>\n",
       "      <td>0.95</td>\n",
       "      <td>1.17</td>\n",
       "      <td>in</td>\n",
       "      <td>0.0</td>\n",
       "    </tr>\n",
       "    <tr>\n",
       "      <th>2</th>\n",
       "      <td>166391</td>\n",
       "      <td>2019-09-23 00:00:00+03:00</td>\n",
       "      <td>in</td>\n",
       "      <td>False</td>\n",
       "      <td>882476</td>\n",
       "      <td>False</td>\n",
       "      <td>1</td>\n",
       "      <td>0.07</td>\n",
       "      <td>0.40</td>\n",
       "      <td>in</td>\n",
       "      <td>0.0</td>\n",
       "    </tr>\n",
       "    <tr>\n",
       "      <th>3</th>\n",
       "      <td>166391</td>\n",
       "      <td>2019-11-22 00:00:00+03:00</td>\n",
       "      <td>in</td>\n",
       "      <td>False</td>\n",
       "      <td>882476</td>\n",
       "      <td>False</td>\n",
       "      <td>1</td>\n",
       "      <td>0.22</td>\n",
       "      <td>1.28</td>\n",
       "      <td>in</td>\n",
       "      <td>0.0</td>\n",
       "    </tr>\n",
       "    <tr>\n",
       "      <th>4</th>\n",
       "      <td>166392</td>\n",
       "      <td>2019-08-20 00:00:00+03:00</td>\n",
       "      <td>in</td>\n",
       "      <td>False</td>\n",
       "      <td>886892</td>\n",
       "      <td>False</td>\n",
       "      <td>2</td>\n",
       "      <td>1.20</td>\n",
       "      <td>2.17</td>\n",
       "      <td>in</td>\n",
       "      <td>0.0</td>\n",
       "    </tr>\n",
       "  </tbody>\n",
       "</table>\n",
       "</div>"
      ],
      "text/plain": [
       "   user_id                      date direction  internal  operator_id  \\\n",
       "0   166391 2019-08-06 00:00:00+03:00        in     False       882476   \n",
       "1   166391 2019-08-07 00:00:00+03:00        in     False       882478   \n",
       "2   166391 2019-09-23 00:00:00+03:00        in     False       882476   \n",
       "3   166391 2019-11-22 00:00:00+03:00        in     False       882476   \n",
       "4   166392 2019-08-20 00:00:00+03:00        in     False       886892   \n",
       "\n",
       "   is_missed_call  calls_count  call_duration  total_call_duration  \\\n",
       "0           False            1           2.92                 3.10   \n",
       "1           False            1           0.95                 1.17   \n",
       "2           False            1           0.07                 0.40   \n",
       "3           False            1           0.22                 1.28   \n",
       "4           False            2           1.20                 2.17   \n",
       "\n",
       "  user_category  avg_missed_calls  \n",
       "0            in               0.0  \n",
       "1            in               0.0  \n",
       "2            in               0.0  \n",
       "3            in               0.0  \n",
       "4            in               0.0  "
      ]
     },
     "execution_count": 36,
     "metadata": {},
     "output_type": "execute_result"
    }
   ],
   "source": [
    "user_cat_in.head()"
   ]
  },
  {
   "cell_type": "markdown",
   "id": "214537c2",
   "metadata": {},
   "source": [
    "Будем использовать это среднее в качестве порога для определения эффективности оператора."
   ]
  },
  {
   "cell_type": "code",
   "execution_count": 37,
   "id": "ab04d1cb",
   "metadata": {},
   "outputs": [],
   "source": [
    "# посчитаю кол-во всех входящих звонков в день\n",
    "total_calls = (\n",
    "    user_cat_in[user_cat_in['direction'] == 'in']\n",
    "    .groupby(['date', 'operator_id'], as_index=False)\n",
    "    .agg({'calls_count': 'sum'})\n",
    "    .rename(columns={'calls_count': 'total_calls'})\n",
    ")\n",
    "# посчитаю кол-во пропущенных входящих в день\n",
    "missed_calls = (\n",
    "    user_cat_in[(user_cat_in['direction'] == 'in') & (user_cat_in['is_missed_call'] == True)]\n",
    "    .groupby(['date', 'operator_id'], as_index=False).agg({'calls_count': 'sum'})\n",
    "    .rename(columns={'calls_count': 'missed_calls'})\n",
    ")\n",
    "# объединю таблицы, расчитаю % пропущенных. Пропуски заполню 0. Удалю лишние столбцы\n",
    "all_calls = total_calls.merge(missed_calls, on=['date', 'operator_id'], how='left')\n",
    "all_calls['missed_calls'] = all_calls['missed_calls'].fillna(0)\n",
    "all_calls['missed_call_ratio'] = round(all_calls['missed_calls'] / all_calls['total_calls'] *100, 2)\n",
    "all_calls = all_calls.drop(columns=['total_calls', 'missed_calls'])\n",
    "# В пункте 4.4.6 доделала и визуализировала"
   ]
  },
  {
   "cell_type": "markdown",
   "id": "2912b652",
   "metadata": {},
   "source": [
    "#### Рассчитаем среднюю длительность звонков"
   ]
  },
  {
   "cell_type": "markdown",
   "id": "bb14cf40",
   "metadata": {},
   "source": [
    "У нас дана длительность звонка, но в некоторых строка несколько звонков. Поэтому, чтобы узнать длительность одного звонка, разделим длительность на количество звонков."
   ]
  },
  {
   "cell_type": "code",
   "execution_count": 38,
   "id": "38d57060",
   "metadata": {},
   "outputs": [
    {
     "data": {
      "text/html": [
       "<div>\n",
       "<style scoped>\n",
       "    .dataframe tbody tr th:only-of-type {\n",
       "        vertical-align: middle;\n",
       "    }\n",
       "\n",
       "    .dataframe tbody tr th {\n",
       "        vertical-align: top;\n",
       "    }\n",
       "\n",
       "    .dataframe thead th {\n",
       "        text-align: right;\n",
       "    }\n",
       "</style>\n",
       "<table border=\"1\" class=\"dataframe\">\n",
       "  <thead>\n",
       "    <tr style=\"text-align: right;\">\n",
       "      <th></th>\n",
       "      <th>user_id</th>\n",
       "      <th>date</th>\n",
       "      <th>direction</th>\n",
       "      <th>internal</th>\n",
       "      <th>operator_id</th>\n",
       "      <th>is_missed_call</th>\n",
       "      <th>calls_count</th>\n",
       "      <th>call_duration</th>\n",
       "      <th>total_call_duration</th>\n",
       "      <th>user_category</th>\n",
       "      <th>avg_missed_calls</th>\n",
       "      <th>duration_per_call</th>\n",
       "    </tr>\n",
       "  </thead>\n",
       "  <tbody>\n",
       "    <tr>\n",
       "      <th>0</th>\n",
       "      <td>166391</td>\n",
       "      <td>2019-08-06 00:00:00+03:00</td>\n",
       "      <td>in</td>\n",
       "      <td>False</td>\n",
       "      <td>882476</td>\n",
       "      <td>False</td>\n",
       "      <td>1</td>\n",
       "      <td>2.92</td>\n",
       "      <td>3.10</td>\n",
       "      <td>in</td>\n",
       "      <td>0.0</td>\n",
       "      <td>2.92</td>\n",
       "    </tr>\n",
       "    <tr>\n",
       "      <th>1</th>\n",
       "      <td>166391</td>\n",
       "      <td>2019-08-07 00:00:00+03:00</td>\n",
       "      <td>in</td>\n",
       "      <td>False</td>\n",
       "      <td>882478</td>\n",
       "      <td>False</td>\n",
       "      <td>1</td>\n",
       "      <td>0.95</td>\n",
       "      <td>1.17</td>\n",
       "      <td>in</td>\n",
       "      <td>0.0</td>\n",
       "      <td>0.95</td>\n",
       "    </tr>\n",
       "    <tr>\n",
       "      <th>2</th>\n",
       "      <td>166391</td>\n",
       "      <td>2019-09-23 00:00:00+03:00</td>\n",
       "      <td>in</td>\n",
       "      <td>False</td>\n",
       "      <td>882476</td>\n",
       "      <td>False</td>\n",
       "      <td>1</td>\n",
       "      <td>0.07</td>\n",
       "      <td>0.40</td>\n",
       "      <td>in</td>\n",
       "      <td>0.0</td>\n",
       "      <td>0.07</td>\n",
       "    </tr>\n",
       "    <tr>\n",
       "      <th>3</th>\n",
       "      <td>166391</td>\n",
       "      <td>2019-11-22 00:00:00+03:00</td>\n",
       "      <td>in</td>\n",
       "      <td>False</td>\n",
       "      <td>882476</td>\n",
       "      <td>False</td>\n",
       "      <td>1</td>\n",
       "      <td>0.22</td>\n",
       "      <td>1.28</td>\n",
       "      <td>in</td>\n",
       "      <td>0.0</td>\n",
       "      <td>0.22</td>\n",
       "    </tr>\n",
       "    <tr>\n",
       "      <th>4</th>\n",
       "      <td>166392</td>\n",
       "      <td>2019-08-20 00:00:00+03:00</td>\n",
       "      <td>in</td>\n",
       "      <td>False</td>\n",
       "      <td>886892</td>\n",
       "      <td>False</td>\n",
       "      <td>2</td>\n",
       "      <td>1.20</td>\n",
       "      <td>2.17</td>\n",
       "      <td>in</td>\n",
       "      <td>0.0</td>\n",
       "      <td>0.60</td>\n",
       "    </tr>\n",
       "  </tbody>\n",
       "</table>\n",
       "</div>"
      ],
      "text/plain": [
       "   user_id                      date direction  internal  operator_id  \\\n",
       "0   166391 2019-08-06 00:00:00+03:00        in     False       882476   \n",
       "1   166391 2019-08-07 00:00:00+03:00        in     False       882478   \n",
       "2   166391 2019-09-23 00:00:00+03:00        in     False       882476   \n",
       "3   166391 2019-11-22 00:00:00+03:00        in     False       882476   \n",
       "4   166392 2019-08-20 00:00:00+03:00        in     False       886892   \n",
       "\n",
       "   is_missed_call  calls_count  call_duration  total_call_duration  \\\n",
       "0           False            1           2.92                 3.10   \n",
       "1           False            1           0.95                 1.17   \n",
       "2           False            1           0.07                 0.40   \n",
       "3           False            1           0.22                 1.28   \n",
       "4           False            2           1.20                 2.17   \n",
       "\n",
       "  user_category  avg_missed_calls  duration_per_call  \n",
       "0            in               0.0               2.92  \n",
       "1            in               0.0               0.95  \n",
       "2            in               0.0               0.07  \n",
       "3            in               0.0               0.22  \n",
       "4            in               0.0               0.60  "
      ]
     },
     "execution_count": 38,
     "metadata": {},
     "output_type": "execute_result"
    }
   ],
   "source": [
    "user_cat_in['duration_per_call'] = round(user_cat_in['call_duration'] / user_cat_in['calls_count'], 2)\n",
    "user_cat_in.head()"
   ]
  },
  {
   "cell_type": "code",
   "execution_count": 39,
   "id": "8c1ca0be",
   "metadata": {},
   "outputs": [],
   "source": [
    "avg_call_duration = (\n",
    "    round(user_cat_in\n",
    "          .groupby('operator_id', as_index=False).agg({'duration_per_call': 'mean'}), 2)\n",
    "    .rename(columns={'duration_per_call': 'avg_duration_per_call'})\n",
    ")"
   ]
  },
  {
   "cell_type": "code",
   "execution_count": 40,
   "id": "4732f76b",
   "metadata": {},
   "outputs": [],
   "source": [
    "user_cat_in = user_cat_in.merge(avg_call_duration, on='operator_id', how='left')"
   ]
  },
  {
   "cell_type": "code",
   "execution_count": 41,
   "id": "3d23f1de",
   "metadata": {},
   "outputs": [
    {
     "data": {
      "text/html": [
       "<div>\n",
       "<style scoped>\n",
       "    .dataframe tbody tr th:only-of-type {\n",
       "        vertical-align: middle;\n",
       "    }\n",
       "\n",
       "    .dataframe tbody tr th {\n",
       "        vertical-align: top;\n",
       "    }\n",
       "\n",
       "    .dataframe thead th {\n",
       "        text-align: right;\n",
       "    }\n",
       "</style>\n",
       "<table border=\"1\" class=\"dataframe\">\n",
       "  <thead>\n",
       "    <tr style=\"text-align: right;\">\n",
       "      <th></th>\n",
       "      <th>user_id</th>\n",
       "      <th>date</th>\n",
       "      <th>direction</th>\n",
       "      <th>internal</th>\n",
       "      <th>operator_id</th>\n",
       "      <th>is_missed_call</th>\n",
       "      <th>calls_count</th>\n",
       "      <th>call_duration</th>\n",
       "      <th>total_call_duration</th>\n",
       "      <th>user_category</th>\n",
       "      <th>avg_missed_calls</th>\n",
       "      <th>duration_per_call</th>\n",
       "      <th>avg_duration_per_call</th>\n",
       "    </tr>\n",
       "  </thead>\n",
       "  <tbody>\n",
       "    <tr>\n",
       "      <th>0</th>\n",
       "      <td>166391</td>\n",
       "      <td>2019-08-06 00:00:00+03:00</td>\n",
       "      <td>in</td>\n",
       "      <td>False</td>\n",
       "      <td>882476</td>\n",
       "      <td>False</td>\n",
       "      <td>1</td>\n",
       "      <td>2.92</td>\n",
       "      <td>3.10</td>\n",
       "      <td>in</td>\n",
       "      <td>0.0</td>\n",
       "      <td>2.92</td>\n",
       "      <td>1.07</td>\n",
       "    </tr>\n",
       "    <tr>\n",
       "      <th>1</th>\n",
       "      <td>166391</td>\n",
       "      <td>2019-08-07 00:00:00+03:00</td>\n",
       "      <td>in</td>\n",
       "      <td>False</td>\n",
       "      <td>882478</td>\n",
       "      <td>False</td>\n",
       "      <td>1</td>\n",
       "      <td>0.95</td>\n",
       "      <td>1.17</td>\n",
       "      <td>in</td>\n",
       "      <td>0.0</td>\n",
       "      <td>0.95</td>\n",
       "      <td>0.95</td>\n",
       "    </tr>\n",
       "    <tr>\n",
       "      <th>2</th>\n",
       "      <td>166391</td>\n",
       "      <td>2019-09-23 00:00:00+03:00</td>\n",
       "      <td>in</td>\n",
       "      <td>False</td>\n",
       "      <td>882476</td>\n",
       "      <td>False</td>\n",
       "      <td>1</td>\n",
       "      <td>0.07</td>\n",
       "      <td>0.40</td>\n",
       "      <td>in</td>\n",
       "      <td>0.0</td>\n",
       "      <td>0.07</td>\n",
       "      <td>1.07</td>\n",
       "    </tr>\n",
       "    <tr>\n",
       "      <th>3</th>\n",
       "      <td>166391</td>\n",
       "      <td>2019-11-22 00:00:00+03:00</td>\n",
       "      <td>in</td>\n",
       "      <td>False</td>\n",
       "      <td>882476</td>\n",
       "      <td>False</td>\n",
       "      <td>1</td>\n",
       "      <td>0.22</td>\n",
       "      <td>1.28</td>\n",
       "      <td>in</td>\n",
       "      <td>0.0</td>\n",
       "      <td>0.22</td>\n",
       "      <td>1.07</td>\n",
       "    </tr>\n",
       "    <tr>\n",
       "      <th>4</th>\n",
       "      <td>166392</td>\n",
       "      <td>2019-08-20 00:00:00+03:00</td>\n",
       "      <td>in</td>\n",
       "      <td>False</td>\n",
       "      <td>886892</td>\n",
       "      <td>False</td>\n",
       "      <td>2</td>\n",
       "      <td>1.20</td>\n",
       "      <td>2.17</td>\n",
       "      <td>in</td>\n",
       "      <td>0.0</td>\n",
       "      <td>0.60</td>\n",
       "      <td>0.60</td>\n",
       "    </tr>\n",
       "  </tbody>\n",
       "</table>\n",
       "</div>"
      ],
      "text/plain": [
       "   user_id                      date direction  internal  operator_id  \\\n",
       "0   166391 2019-08-06 00:00:00+03:00        in     False       882476   \n",
       "1   166391 2019-08-07 00:00:00+03:00        in     False       882478   \n",
       "2   166391 2019-09-23 00:00:00+03:00        in     False       882476   \n",
       "3   166391 2019-11-22 00:00:00+03:00        in     False       882476   \n",
       "4   166392 2019-08-20 00:00:00+03:00        in     False       886892   \n",
       "\n",
       "   is_missed_call  calls_count  call_duration  total_call_duration  \\\n",
       "0           False            1           2.92                 3.10   \n",
       "1           False            1           0.95                 1.17   \n",
       "2           False            1           0.07                 0.40   \n",
       "3           False            1           0.22                 1.28   \n",
       "4           False            2           1.20                 2.17   \n",
       "\n",
       "  user_category  avg_missed_calls  duration_per_call  avg_duration_per_call  \n",
       "0            in               0.0               2.92                   1.07  \n",
       "1            in               0.0               0.95                   0.95  \n",
       "2            in               0.0               0.07                   1.07  \n",
       "3            in               0.0               0.22                   1.07  \n",
       "4            in               0.0               0.60                   0.60  "
      ]
     },
     "execution_count": 41,
     "metadata": {},
     "output_type": "execute_result"
    }
   ],
   "source": [
    "user_cat_in.head()"
   ]
  },
  {
   "cell_type": "markdown",
   "id": "658ec957",
   "metadata": {},
   "source": [
    "По стандартам приемлемая длительность звонка - это 2-4 минуты"
   ]
  },
  {
   "cell_type": "markdown",
   "id": "45403f7e",
   "metadata": {},
   "source": [
    "#### Рассчитаем среднее время ожидания ответа при входящих вызовах"
   ]
  },
  {
   "cell_type": "code",
   "execution_count": 42,
   "id": "bc7294bf",
   "metadata": {},
   "outputs": [],
   "source": [
    "user_cat_in['waiting_time'] = (\n",
    "    round((user_cat_in['total_call_duration'] - user_cat_in['call_duration']) / user_cat_in['calls_count'],2)\n",
    ")"
   ]
  },
  {
   "cell_type": "code",
   "execution_count": 43,
   "id": "d9af8ed7",
   "metadata": {},
   "outputs": [
    {
     "data": {
      "text/html": [
       "<div>\n",
       "<style scoped>\n",
       "    .dataframe tbody tr th:only-of-type {\n",
       "        vertical-align: middle;\n",
       "    }\n",
       "\n",
       "    .dataframe tbody tr th {\n",
       "        vertical-align: top;\n",
       "    }\n",
       "\n",
       "    .dataframe thead th {\n",
       "        text-align: right;\n",
       "    }\n",
       "</style>\n",
       "<table border=\"1\" class=\"dataframe\">\n",
       "  <thead>\n",
       "    <tr style=\"text-align: right;\">\n",
       "      <th></th>\n",
       "      <th>operator_id</th>\n",
       "      <th>avg_waiting_time</th>\n",
       "    </tr>\n",
       "  </thead>\n",
       "  <tbody>\n",
       "    <tr>\n",
       "      <th>0</th>\n",
       "      <td>882476</td>\n",
       "      <td>0.52</td>\n",
       "    </tr>\n",
       "  </tbody>\n",
       "</table>\n",
       "</div>"
      ],
      "text/plain": [
       "   operator_id  avg_waiting_time\n",
       "0       882476              0.52"
      ]
     },
     "execution_count": 43,
     "metadata": {},
     "output_type": "execute_result"
    }
   ],
   "source": [
    "avg_waiting_time = (\n",
    "    round(user_cat_in.groupby('operator_id', as_index=False).agg({'waiting_time': 'mean'}), 2)\n",
    "    .rename(columns={'waiting_time': 'avg_waiting_time'})\n",
    ")\n",
    "avg_waiting_time.head(1)"
   ]
  },
  {
   "cell_type": "code",
   "execution_count": 44,
   "id": "b1319814",
   "metadata": {
    "scrolled": true
   },
   "outputs": [
    {
     "data": {
      "text/html": [
       "<div>\n",
       "<style scoped>\n",
       "    .dataframe tbody tr th:only-of-type {\n",
       "        vertical-align: middle;\n",
       "    }\n",
       "\n",
       "    .dataframe tbody tr th {\n",
       "        vertical-align: top;\n",
       "    }\n",
       "\n",
       "    .dataframe thead th {\n",
       "        text-align: right;\n",
       "    }\n",
       "</style>\n",
       "<table border=\"1\" class=\"dataframe\">\n",
       "  <thead>\n",
       "    <tr style=\"text-align: right;\">\n",
       "      <th></th>\n",
       "      <th>user_id</th>\n",
       "      <th>date</th>\n",
       "      <th>direction</th>\n",
       "      <th>internal</th>\n",
       "      <th>operator_id</th>\n",
       "      <th>is_missed_call</th>\n",
       "      <th>calls_count</th>\n",
       "      <th>call_duration</th>\n",
       "      <th>total_call_duration</th>\n",
       "      <th>user_category</th>\n",
       "      <th>avg_missed_calls</th>\n",
       "      <th>duration_per_call</th>\n",
       "      <th>avg_duration_per_call</th>\n",
       "      <th>waiting_time</th>\n",
       "      <th>avg_waiting_time</th>\n",
       "    </tr>\n",
       "  </thead>\n",
       "  <tbody>\n",
       "    <tr>\n",
       "      <th>0</th>\n",
       "      <td>166391</td>\n",
       "      <td>2019-08-06 00:00:00+03:00</td>\n",
       "      <td>in</td>\n",
       "      <td>False</td>\n",
       "      <td>882476</td>\n",
       "      <td>False</td>\n",
       "      <td>1</td>\n",
       "      <td>2.92</td>\n",
       "      <td>3.10</td>\n",
       "      <td>in</td>\n",
       "      <td>0.0</td>\n",
       "      <td>2.92</td>\n",
       "      <td>1.07</td>\n",
       "      <td>0.18</td>\n",
       "      <td>0.52</td>\n",
       "    </tr>\n",
       "    <tr>\n",
       "      <th>1</th>\n",
       "      <td>166391</td>\n",
       "      <td>2019-08-07 00:00:00+03:00</td>\n",
       "      <td>in</td>\n",
       "      <td>False</td>\n",
       "      <td>882478</td>\n",
       "      <td>False</td>\n",
       "      <td>1</td>\n",
       "      <td>0.95</td>\n",
       "      <td>1.17</td>\n",
       "      <td>in</td>\n",
       "      <td>0.0</td>\n",
       "      <td>0.95</td>\n",
       "      <td>0.95</td>\n",
       "      <td>0.22</td>\n",
       "      <td>0.22</td>\n",
       "    </tr>\n",
       "    <tr>\n",
       "      <th>2</th>\n",
       "      <td>166391</td>\n",
       "      <td>2019-09-23 00:00:00+03:00</td>\n",
       "      <td>in</td>\n",
       "      <td>False</td>\n",
       "      <td>882476</td>\n",
       "      <td>False</td>\n",
       "      <td>1</td>\n",
       "      <td>0.07</td>\n",
       "      <td>0.40</td>\n",
       "      <td>in</td>\n",
       "      <td>0.0</td>\n",
       "      <td>0.07</td>\n",
       "      <td>1.07</td>\n",
       "      <td>0.33</td>\n",
       "      <td>0.52</td>\n",
       "    </tr>\n",
       "    <tr>\n",
       "      <th>3</th>\n",
       "      <td>166391</td>\n",
       "      <td>2019-11-22 00:00:00+03:00</td>\n",
       "      <td>in</td>\n",
       "      <td>False</td>\n",
       "      <td>882476</td>\n",
       "      <td>False</td>\n",
       "      <td>1</td>\n",
       "      <td>0.22</td>\n",
       "      <td>1.28</td>\n",
       "      <td>in</td>\n",
       "      <td>0.0</td>\n",
       "      <td>0.22</td>\n",
       "      <td>1.07</td>\n",
       "      <td>1.06</td>\n",
       "      <td>0.52</td>\n",
       "    </tr>\n",
       "    <tr>\n",
       "      <th>4</th>\n",
       "      <td>166392</td>\n",
       "      <td>2019-08-20 00:00:00+03:00</td>\n",
       "      <td>in</td>\n",
       "      <td>False</td>\n",
       "      <td>886892</td>\n",
       "      <td>False</td>\n",
       "      <td>2</td>\n",
       "      <td>1.20</td>\n",
       "      <td>2.17</td>\n",
       "      <td>in</td>\n",
       "      <td>0.0</td>\n",
       "      <td>0.60</td>\n",
       "      <td>0.60</td>\n",
       "      <td>0.48</td>\n",
       "      <td>0.48</td>\n",
       "    </tr>\n",
       "  </tbody>\n",
       "</table>\n",
       "</div>"
      ],
      "text/plain": [
       "   user_id                      date direction  internal  operator_id  \\\n",
       "0   166391 2019-08-06 00:00:00+03:00        in     False       882476   \n",
       "1   166391 2019-08-07 00:00:00+03:00        in     False       882478   \n",
       "2   166391 2019-09-23 00:00:00+03:00        in     False       882476   \n",
       "3   166391 2019-11-22 00:00:00+03:00        in     False       882476   \n",
       "4   166392 2019-08-20 00:00:00+03:00        in     False       886892   \n",
       "\n",
       "   is_missed_call  calls_count  call_duration  total_call_duration  \\\n",
       "0           False            1           2.92                 3.10   \n",
       "1           False            1           0.95                 1.17   \n",
       "2           False            1           0.07                 0.40   \n",
       "3           False            1           0.22                 1.28   \n",
       "4           False            2           1.20                 2.17   \n",
       "\n",
       "  user_category  avg_missed_calls  duration_per_call  avg_duration_per_call  \\\n",
       "0            in               0.0               2.92                   1.07   \n",
       "1            in               0.0               0.95                   0.95   \n",
       "2            in               0.0               0.07                   1.07   \n",
       "3            in               0.0               0.22                   1.07   \n",
       "4            in               0.0               0.60                   0.60   \n",
       "\n",
       "   waiting_time  avg_waiting_time  \n",
       "0          0.18              0.52  \n",
       "1          0.22              0.22  \n",
       "2          0.33              0.52  \n",
       "3          1.06              0.52  \n",
       "4          0.48              0.48  "
      ]
     },
     "execution_count": 44,
     "metadata": {},
     "output_type": "execute_result"
    }
   ],
   "source": [
    "user_cat_in = user_cat_in.merge(avg_waiting_time, on='operator_id', how='left')\n",
    "user_cat_in.head()"
   ]
  },
  {
   "cell_type": "markdown",
   "id": "07b69849",
   "metadata": {},
   "source": [
    " Для категоризации операторов колл-центров, специализирующихся на входящих вызовах, в нашем исследовании мы опираемся на количество пропущенных вызовов и длительность звонка как основные критерии. Для целей нашего исследования этого достаточно, но наши клиенты могут для своих целей, например, выставления kpi операторам возпользоваться и данными по времени ожидания ответа. Визуализируем эти данные."
   ]
  },
  {
   "cell_type": "code",
   "execution_count": 45,
   "id": "f900e5f8",
   "metadata": {},
   "outputs": [
    {
     "data": {
      "image/png": "[encoded data removed]",
      "text/plain": [
       "<Figure size 1080x504 with 1 Axes>"
      ]
     },
     "metadata": {
      "needs_background": "light"
     },
     "output_type": "display_data"
    }
   ],
   "source": [
    "plt.figure(figsize=(15,7))\n",
    "ax = sns.boxplot(x='avg_waiting_time', data=user_cat_in, orient='h')\n",
    "plt.title('Cреднее время ожидания ответа при входящих вызовах')\n",
    "plt.xlabel('Cреднее время ожидания ответа, мин')\n",
    "plt.grid()\n",
    "plt.show()"
   ]
  },
  {
   "cell_type": "markdown",
   "id": "9d01128e",
   "metadata": {},
   "source": [
    "Мы видим, что среднее время ожидания меньше минуты."
   ]
  },
  {
   "cell_type": "markdown",
   "id": "fb741469",
   "metadata": {},
   "source": [
    "#### Напишем функцию для категоризации операторов (порог для пропущенных определен по среднему среднего)"
   ]
  },
  {
   "cell_type": "markdown",
   "id": "3c8b0e6c",
   "metadata": {},
   "source": [
    "К неэффективным отнесём операторов, не проходящих первые два критерия, потому что при стандартной длительности звонка и небольшом количестве пропущенных вызовов можно предполагать, что оператор достаточно качественно обслуживает клиентов."
   ]
  },
  {
   "cell_type": "code",
   "execution_count": 46,
   "id": "6c9e1b63",
   "metadata": {},
   "outputs": [],
   "source": [
    "def in_efficiency(row):\n",
    "    missed_ratio = row['avg_missed_calls']\n",
    "    call_duration = row['avg_duration_per_call']\n",
    "    avg_waiting_time = row['avg_waiting_time']\n",
    "# Продолжительность звонков оцениваем по стандарту 2-4 минуты.\n",
    "# Процент пропущенных вызовов - по среднему средних операторов\n",
    "    if missed_ratio <=  round(user_cat_in['avg_missed_calls'].mean(), 2):\n",
    "        if 2 < call_duration < 4:\n",
    "            return 'эффективные'\n",
    "    if missed_ratio >  round(user_cat_in['avg_missed_calls'].mean(), 2):\n",
    "        if call_duration > 4 :\n",
    "            return 'неэффективные'\n",
    "    if missed_ratio >  round(user_cat_in['avg_missed_calls'].mean(), 2):\n",
    "        if call_duration < 2:\n",
    "            return 'неэффективные'        \n",
    "# Если длительность звонка превышает 4 минуты, но % пропущенных вызовов маленький оператора можно считать эффективным\n",
    "    if call_duration > 4:\n",
    "        if missed_ratio <=  round(user_cat_in['avg_missed_calls'].mean(), 2):\n",
    "            return 'эффективные'\n",
    "# Если оператор не укладывается в границы стандартной длительности звонка, \n",
    "# и у него много пропущенных, даже при небольшом  времени ожидания его нельзя отнести к эффективным        \n",
    "    else:\n",
    "        return 'неэффективные'"
   ]
  },
  {
   "cell_type": "code",
   "execution_count": 47,
   "id": "80d6ed72",
   "metadata": {},
   "outputs": [
    {
     "data": {
      "text/html": [
       "<div>\n",
       "<style scoped>\n",
       "    .dataframe tbody tr th:only-of-type {\n",
       "        vertical-align: middle;\n",
       "    }\n",
       "\n",
       "    .dataframe tbody tr th {\n",
       "        vertical-align: top;\n",
       "    }\n",
       "\n",
       "    .dataframe thead th {\n",
       "        text-align: right;\n",
       "    }\n",
       "</style>\n",
       "<table border=\"1\" class=\"dataframe\">\n",
       "  <thead>\n",
       "    <tr style=\"text-align: right;\">\n",
       "      <th></th>\n",
       "      <th>user_id</th>\n",
       "      <th>date</th>\n",
       "      <th>direction</th>\n",
       "      <th>internal</th>\n",
       "      <th>operator_id</th>\n",
       "      <th>is_missed_call</th>\n",
       "      <th>calls_count</th>\n",
       "      <th>call_duration</th>\n",
       "      <th>total_call_duration</th>\n",
       "      <th>user_category</th>\n",
       "      <th>avg_missed_calls</th>\n",
       "      <th>duration_per_call</th>\n",
       "      <th>avg_duration_per_call</th>\n",
       "      <th>waiting_time</th>\n",
       "      <th>avg_waiting_time</th>\n",
       "      <th>operator_cat</th>\n",
       "    </tr>\n",
       "  </thead>\n",
       "  <tbody>\n",
       "    <tr>\n",
       "      <th>0</th>\n",
       "      <td>166391</td>\n",
       "      <td>2019-08-06 00:00:00+03:00</td>\n",
       "      <td>in</td>\n",
       "      <td>False</td>\n",
       "      <td>882476</td>\n",
       "      <td>False</td>\n",
       "      <td>1</td>\n",
       "      <td>2.92</td>\n",
       "      <td>3.10</td>\n",
       "      <td>in</td>\n",
       "      <td>0.0</td>\n",
       "      <td>2.92</td>\n",
       "      <td>1.07</td>\n",
       "      <td>0.18</td>\n",
       "      <td>0.52</td>\n",
       "      <td>неэффективные</td>\n",
       "    </tr>\n",
       "    <tr>\n",
       "      <th>1</th>\n",
       "      <td>166391</td>\n",
       "      <td>2019-08-07 00:00:00+03:00</td>\n",
       "      <td>in</td>\n",
       "      <td>False</td>\n",
       "      <td>882478</td>\n",
       "      <td>False</td>\n",
       "      <td>1</td>\n",
       "      <td>0.95</td>\n",
       "      <td>1.17</td>\n",
       "      <td>in</td>\n",
       "      <td>0.0</td>\n",
       "      <td>0.95</td>\n",
       "      <td>0.95</td>\n",
       "      <td>0.22</td>\n",
       "      <td>0.22</td>\n",
       "      <td>неэффективные</td>\n",
       "    </tr>\n",
       "    <tr>\n",
       "      <th>2</th>\n",
       "      <td>166391</td>\n",
       "      <td>2019-09-23 00:00:00+03:00</td>\n",
       "      <td>in</td>\n",
       "      <td>False</td>\n",
       "      <td>882476</td>\n",
       "      <td>False</td>\n",
       "      <td>1</td>\n",
       "      <td>0.07</td>\n",
       "      <td>0.40</td>\n",
       "      <td>in</td>\n",
       "      <td>0.0</td>\n",
       "      <td>0.07</td>\n",
       "      <td>1.07</td>\n",
       "      <td>0.33</td>\n",
       "      <td>0.52</td>\n",
       "      <td>неэффективные</td>\n",
       "    </tr>\n",
       "    <tr>\n",
       "      <th>3</th>\n",
       "      <td>166391</td>\n",
       "      <td>2019-11-22 00:00:00+03:00</td>\n",
       "      <td>in</td>\n",
       "      <td>False</td>\n",
       "      <td>882476</td>\n",
       "      <td>False</td>\n",
       "      <td>1</td>\n",
       "      <td>0.22</td>\n",
       "      <td>1.28</td>\n",
       "      <td>in</td>\n",
       "      <td>0.0</td>\n",
       "      <td>0.22</td>\n",
       "      <td>1.07</td>\n",
       "      <td>1.06</td>\n",
       "      <td>0.52</td>\n",
       "      <td>неэффективные</td>\n",
       "    </tr>\n",
       "    <tr>\n",
       "      <th>4</th>\n",
       "      <td>166392</td>\n",
       "      <td>2019-08-20 00:00:00+03:00</td>\n",
       "      <td>in</td>\n",
       "      <td>False</td>\n",
       "      <td>886892</td>\n",
       "      <td>False</td>\n",
       "      <td>2</td>\n",
       "      <td>1.20</td>\n",
       "      <td>2.17</td>\n",
       "      <td>in</td>\n",
       "      <td>0.0</td>\n",
       "      <td>0.60</td>\n",
       "      <td>0.60</td>\n",
       "      <td>0.48</td>\n",
       "      <td>0.48</td>\n",
       "      <td>неэффективные</td>\n",
       "    </tr>\n",
       "  </tbody>\n",
       "</table>\n",
       "</div>"
      ],
      "text/plain": [
       "   user_id                      date direction  internal  operator_id  \\\n",
       "0   166391 2019-08-06 00:00:00+03:00        in     False       882476   \n",
       "1   166391 2019-08-07 00:00:00+03:00        in     False       882478   \n",
       "2   166391 2019-09-23 00:00:00+03:00        in     False       882476   \n",
       "3   166391 2019-11-22 00:00:00+03:00        in     False       882476   \n",
       "4   166392 2019-08-20 00:00:00+03:00        in     False       886892   \n",
       "\n",
       "   is_missed_call  calls_count  call_duration  total_call_duration  \\\n",
       "0           False            1           2.92                 3.10   \n",
       "1           False            1           0.95                 1.17   \n",
       "2           False            1           0.07                 0.40   \n",
       "3           False            1           0.22                 1.28   \n",
       "4           False            2           1.20                 2.17   \n",
       "\n",
       "  user_category  avg_missed_calls  duration_per_call  avg_duration_per_call  \\\n",
       "0            in               0.0               2.92                   1.07   \n",
       "1            in               0.0               0.95                   0.95   \n",
       "2            in               0.0               0.07                   1.07   \n",
       "3            in               0.0               0.22                   1.07   \n",
       "4            in               0.0               0.60                   0.60   \n",
       "\n",
       "   waiting_time  avg_waiting_time   operator_cat  \n",
       "0          0.18              0.52  неэффективные  \n",
       "1          0.22              0.22  неэффективные  \n",
       "2          0.33              0.52  неэффективные  \n",
       "3          1.06              0.52  неэффективные  \n",
       "4          0.48              0.48  неэффективные  "
      ]
     },
     "execution_count": 47,
     "metadata": {},
     "output_type": "execute_result"
    }
   ],
   "source": [
    "user_cat_in['operator_cat'] = user_cat_in.apply(in_efficiency, axis=1)\n",
    "user_cat_in.head()"
   ]
  },
  {
   "cell_type": "markdown",
   "id": "1d939f46",
   "metadata": {},
   "source": [
    "#### Визуализируем долю эффективных и неэффективных операторов. Построим круговую диаграмму."
   ]
  },
  {
   "cell_type": "code",
   "execution_count": 48,
   "id": "709ea268",
   "metadata": {},
   "outputs": [
    {
     "data": {
      "image/png": "[encoded data removed]",
      "text/plain": [
       "<Figure size 1080x504 with 1 Axes>"
      ]
     },
     "metadata": {},
     "output_type": "display_data"
    }
   ],
   "source": [
    "in_operator_efficiency_ratio = (\n",
    "    user_cat_in.groupby('operator_cat').agg({'operator_id': 'nunique'})\n",
    "    .rename(columns={'operator_id': 'Количество операторов'})\n",
    "   .plot(figsize=(15,7), kind='pie', y='Количество операторов', autopct='%.1f', legend=False)\n",
    ")\n",
    "plt.title('Соотношение эффективных и неэффективных операторов в колл-центрах, спец-ся на входящих')\n",
    "plt.show()"
   ]
  },
  {
   "cell_type": "markdown",
   "id": "23498ff7",
   "metadata": {},
   "source": [
    "85,3% операторов неэффективны. "
   ]
  },
  {
   "cell_type": "markdown",
   "id": "e77e73b9",
   "metadata": {},
   "source": [
    "#### Напишем функцию для категоризации операторов (порог для пропущенных определен по % пропущенных от входящих в день)"
   ]
  },
  {
   "cell_type": "code",
   "execution_count": 49,
   "id": "bf2d48fa",
   "metadata": {},
   "outputs": [
    {
     "data": {
      "text/plain": [
       "array([  0.  ,  50.  ,  16.67, 100.  ,  20.  ,   8.33,  18.18,  12.5 ,\n",
       "        14.29,  28.57,   7.14,  25.  ,   9.09,   1.96,  60.  ,  33.33,\n",
       "         5.26,   4.76,  22.22,   7.69,  66.67,  45.45,  83.33,  11.11,\n",
       "         5.  ,  13.33,  10.  ,   5.88,   6.25,   3.33,   3.45,   3.23,\n",
       "         2.63,   6.06,   7.84,   6.9 ,  42.86,  75.  ,  40.  ,   3.85,\n",
       "         4.35,   3.57,   4.17,   6.67,   2.17,  57.14,  15.38,  55.56,\n",
       "         5.56])"
      ]
     },
     "execution_count": 49,
     "metadata": {},
     "output_type": "execute_result"
    }
   ],
   "source": [
    "# объединю с таб all_calls с user_cat_in\n",
    "user_cat_in_1 = user_cat_in.copy()\n",
    "user_cat_in_1 = user_cat_in_1.merge(all_calls, on=['date', 'operator_id'], how='left')\n",
    "user_cat_in_1.isna().sum()\n",
    "user_cat_in_1[user_cat_in_1['direction']== 'out']['missed_call_ratio'].isna().sum()\n",
    "#заполним пропуски 0, так как это в исходящих. Мы категоризируем по входящим в этом критерии\n",
    "user_cat_in_1['missed_call_ratio'] = user_cat_in_1['missed_call_ratio'].fillna(0)\n",
    "user_cat_in_1['missed_call_ratio'].unique()"
   ]
  },
  {
   "cell_type": "markdown",
   "id": "cd2148f9",
   "metadata": {},
   "source": [
    "Установим порог в 30% пропущенных вызовов: для колл-центров, специализирующихся на входящих 30% - это уже много"
   ]
  },
  {
   "cell_type": "code",
   "execution_count": 50,
   "id": "2afd6286",
   "metadata": {},
   "outputs": [],
   "source": [
    "def in_efficiency_by_ratio(row):\n",
    "    missed_ratio = row['missed_call_ratio']\n",
    "    call_duration = row['avg_duration_per_call']\n",
    "    avg_waiting_time = row['avg_waiting_time']\n",
    "# Продолжительность звонков оцениваем по стандарту 2-4 минуты.\n",
    "# Процент пропущенных вызовов - по среднему средних операторов\n",
    "    if missed_ratio <=  30:\n",
    "        if 2 < call_duration < 4:\n",
    "            return 'эффективные'\n",
    "    if missed_ratio >  30:\n",
    "        if call_duration > 4 :\n",
    "            return 'неэффективные'\n",
    "    if missed_ratio >  30:\n",
    "        if call_duration < 2:\n",
    "            return 'неэффективные'        \n",
    "# Если длительность звонка превышает 4 минуты, но % пропущенных вызовов маленький оператора можно считать эффективным\n",
    "    if call_duration > 4:\n",
    "        if missed_ratio <=  30:\n",
    "            return 'эффективные'\n",
    "# Если оператор не укладывается в границы стандартной длительности звонка, \n",
    "# и у него много пропущенных, даже при небольшом  времени ожидания его нельзя отнести к эффективным        \n",
    "    else:\n",
    "        return 'неэффективные'"
   ]
  },
  {
   "cell_type": "code",
   "execution_count": 51,
   "id": "2e9a4060",
   "metadata": {},
   "outputs": [
    {
     "data": {
      "image/png": "[encoded data removed]",
      "text/plain": [
       "<Figure size 1080x504 with 1 Axes>"
      ]
     },
     "metadata": {},
     "output_type": "display_data"
    }
   ],
   "source": [
    "user_cat_in_1['operator_cat_by_ratio'] = user_cat_in_1.apply(in_efficiency_by_ratio, axis=1)\n",
    "in_operator_efficiency_ratio_1 = (\n",
    "    user_cat_in_1.groupby('operator_cat_by_ratio').agg({'operator_id': 'nunique'})\n",
    "    .rename(columns={'operator_id': 'Количество операторов'})\n",
    "   .plot(figsize=(15,7), kind='pie', y='Количество операторов', autopct='%.1f', legend=False)\n",
    ")\n",
    "plt.title('Соотношение эффективных и неэффективных операторов в колл-центрах, спец-ся на входящих')\n",
    "plt.show()"
   ]
  },
  {
   "cell_type": "markdown",
   "id": "6de217c0",
   "metadata": {},
   "source": [
    "Если считать по среднему среднего, то доля неэффективных операторов - 85,3. Если по % пропущенных с порогом в 30%, то 80,9"
   ]
  },
  {
   "cell_type": "markdown",
   "id": "20698328",
   "metadata": {},
   "source": [
    "### Критерии для колл-центров, специализирующихся на исходящих вызовах"
   ]
  },
  {
   "cell_type": "markdown",
   "id": "e73ccb3d",
   "metadata": {},
   "source": [
    "Категоризируем операторов колл-центров, специализирующихся на исходящих вызовах. Для начала выделим колл-центры в отдельную таблицу, возьмем только внешние звонки исходящие звонки."
   ]
  },
  {
   "cell_type": "code",
   "execution_count": 52,
   "id": "dfadf0f3",
   "metadata": {},
   "outputs": [],
   "source": [
    "user_cat_out = dataset.copy()\n",
    "user_cat_out = (\n",
    "    user_cat_out[(user_cat_out['internal'] == False) & (user_cat_out['user_category'] == 'out') \n",
    "                & (user_cat_out['direction'] == 'out')]\n",
    ")"
   ]
  },
  {
   "cell_type": "markdown",
   "id": "7027ec86",
   "metadata": {},
   "source": [
    "#### Рассчитаем среднее количество внешних исходящих звонков"
   ]
  },
  {
   "cell_type": "code",
   "execution_count": 53,
   "id": "e2f039b0",
   "metadata": {},
   "outputs": [],
   "source": [
    "avg_external_outgoing_calls = (\n",
    "    round(user_cat_out.groupby('operator_id', as_index=False).agg({'calls_count': 'mean'}), 2)\n",
    "    .rename(columns={'calls_count': 'avg_calls_count'})\n",
    ")"
   ]
  },
  {
   "cell_type": "markdown",
   "id": "293d44b3",
   "metadata": {},
   "source": [
    "Объединим с таблицей с колл-центрами по обзвонам."
   ]
  },
  {
   "cell_type": "code",
   "execution_count": 54,
   "id": "ece04adc",
   "metadata": {},
   "outputs": [],
   "source": [
    "user_cat_out = user_cat_out.merge(avg_external_outgoing_calls, on='operator_id', how='left')"
   ]
  },
  {
   "cell_type": "markdown",
   "id": "3d7f9044",
   "metadata": {},
   "source": [
    "Рассчитаем среднее среднего количества пропущенных вызовов в день, будем использовать его как порог при категоризации."
   ]
  },
  {
   "cell_type": "code",
   "execution_count": 55,
   "id": "c696c0d8",
   "metadata": {},
   "outputs": [
    {
     "name": "stdout",
     "output_type": "stream",
     "text": [
      "Среднее количество внешних исходящих вызовов в день 19.79\n"
     ]
    }
   ],
   "source": [
    "print('Среднее количество внешних исходящих вызовов в день', round(user_cat_out['avg_calls_count'].mean(),2))"
   ]
  },
  {
   "cell_type": "markdown",
   "id": "0f1b50e2",
   "metadata": {},
   "source": [
    "#### Помимо количества звонков важна и средняя длительность. Рассчитаем её."
   ]
  },
  {
   "cell_type": "code",
   "execution_count": 56,
   "id": "7700efb7",
   "metadata": {},
   "outputs": [
    {
     "data": {
      "text/plain": [
       "10288"
      ]
     },
     "execution_count": 56,
     "metadata": {},
     "output_type": "execute_result"
    }
   ],
   "source": [
    "user_cat_out['duration_per_call'] = (round(user_cat_out[user_cat_out['is_missed_call'] == False]['call_duration'] \n",
    "                                           / user_cat_out[user_cat_out['is_missed_call'] == False]['calls_count'],2)\n",
    ")\n",
    "# Посмотрим пропуски\n",
    "user_cat_out['duration_per_call'].isna().sum()"
   ]
  },
  {
   "cell_type": "code",
   "execution_count": 57,
   "id": "260c3b4e",
   "metadata": {},
   "outputs": [
    {
     "data": {
      "text/html": [
       "<div>\n",
       "<style scoped>\n",
       "    .dataframe tbody tr th:only-of-type {\n",
       "        vertical-align: middle;\n",
       "    }\n",
       "\n",
       "    .dataframe tbody tr th {\n",
       "        vertical-align: top;\n",
       "    }\n",
       "\n",
       "    .dataframe thead th {\n",
       "        text-align: right;\n",
       "    }\n",
       "</style>\n",
       "<table border=\"1\" class=\"dataframe\">\n",
       "  <thead>\n",
       "    <tr style=\"text-align: right;\">\n",
       "      <th></th>\n",
       "      <th>user_id</th>\n",
       "      <th>date</th>\n",
       "      <th>direction</th>\n",
       "      <th>internal</th>\n",
       "      <th>operator_id</th>\n",
       "      <th>is_missed_call</th>\n",
       "      <th>calls_count</th>\n",
       "      <th>call_duration</th>\n",
       "      <th>total_call_duration</th>\n",
       "      <th>user_category</th>\n",
       "      <th>avg_calls_count</th>\n",
       "      <th>duration_per_call</th>\n",
       "    </tr>\n",
       "  </thead>\n",
       "  <tbody>\n",
       "    <tr>\n",
       "      <th>0</th>\n",
       "      <td>166377</td>\n",
       "      <td>2019-08-05 00:00:00+03:00</td>\n",
       "      <td>out</td>\n",
       "      <td>False</td>\n",
       "      <td>880022</td>\n",
       "      <td>True</td>\n",
       "      <td>3</td>\n",
       "      <td>0.00</td>\n",
       "      <td>0.42</td>\n",
       "      <td>out</td>\n",
       "      <td>3.22</td>\n",
       "      <td>NaN</td>\n",
       "    </tr>\n",
       "    <tr>\n",
       "      <th>1</th>\n",
       "      <td>166377</td>\n",
       "      <td>2019-08-05 00:00:00+03:00</td>\n",
       "      <td>out</td>\n",
       "      <td>False</td>\n",
       "      <td>880020</td>\n",
       "      <td>False</td>\n",
       "      <td>2</td>\n",
       "      <td>0.05</td>\n",
       "      <td>0.48</td>\n",
       "      <td>out</td>\n",
       "      <td>3.40</td>\n",
       "      <td>0.02</td>\n",
       "    </tr>\n",
       "  </tbody>\n",
       "</table>\n",
       "</div>"
      ],
      "text/plain": [
       "   user_id                      date direction  internal  operator_id  \\\n",
       "0   166377 2019-08-05 00:00:00+03:00       out     False       880022   \n",
       "1   166377 2019-08-05 00:00:00+03:00       out     False       880020   \n",
       "\n",
       "   is_missed_call  calls_count  call_duration  total_call_duration  \\\n",
       "0            True            3           0.00                 0.42   \n",
       "1           False            2           0.05                 0.48   \n",
       "\n",
       "  user_category  avg_calls_count  duration_per_call  \n",
       "0           out             3.22                NaN  \n",
       "1           out             3.40               0.02  "
      ]
     },
     "execution_count": 57,
     "metadata": {},
     "output_type": "execute_result"
    }
   ],
   "source": [
    "user_cat_out.head(2)"
   ]
  },
  {
   "cell_type": "markdown",
   "id": "adc23fdb",
   "metadata": {},
   "source": [
    "Посчитаем пропуски в пропущенных звонках, если цифры совпадают, заполним пропуски 0."
   ]
  },
  {
   "cell_type": "code",
   "execution_count": 58,
   "id": "faac453f",
   "metadata": {},
   "outputs": [
    {
     "data": {
      "text/plain": [
       "10288"
      ]
     },
     "execution_count": 58,
     "metadata": {},
     "output_type": "execute_result"
    }
   ],
   "source": [
    "user_cat_out[user_cat_out['is_missed_call'] == True]['duration_per_call'].isna().sum()"
   ]
  },
  {
   "cell_type": "code",
   "execution_count": 59,
   "id": "71cecfa5",
   "metadata": {},
   "outputs": [
    {
     "data": {
      "text/plain": [
       "0"
      ]
     },
     "execution_count": 59,
     "metadata": {},
     "output_type": "execute_result"
    }
   ],
   "source": [
    "user_cat_out['duration_per_call'] = user_cat_out['duration_per_call'].fillna(0)\n",
    "user_cat_out['duration_per_call'].isna().sum()"
   ]
  },
  {
   "cell_type": "markdown",
   "id": "c7c24d91",
   "metadata": {},
   "source": [
    "Рассчитаем среднюю продолжительность звонка оператора в день"
   ]
  },
  {
   "cell_type": "code",
   "execution_count": 60,
   "id": "9f81766b",
   "metadata": {},
   "outputs": [
    {
     "data": {
      "text/html": [
       "<div>\n",
       "<style scoped>\n",
       "    .dataframe tbody tr th:only-of-type {\n",
       "        vertical-align: middle;\n",
       "    }\n",
       "\n",
       "    .dataframe tbody tr th {\n",
       "        vertical-align: top;\n",
       "    }\n",
       "\n",
       "    .dataframe thead th {\n",
       "        text-align: right;\n",
       "    }\n",
       "</style>\n",
       "<table border=\"1\" class=\"dataframe\">\n",
       "  <thead>\n",
       "    <tr style=\"text-align: right;\">\n",
       "      <th></th>\n",
       "      <th>operator_id</th>\n",
       "      <th>avg_duration_per_call</th>\n",
       "    </tr>\n",
       "  </thead>\n",
       "  <tbody>\n",
       "    <tr>\n",
       "      <th>0</th>\n",
       "      <td>879896</td>\n",
       "      <td>1.133333</td>\n",
       "    </tr>\n",
       "    <tr>\n",
       "      <th>1</th>\n",
       "      <td>879898</td>\n",
       "      <td>0.347424</td>\n",
       "    </tr>\n",
       "    <tr>\n",
       "      <th>2</th>\n",
       "      <td>880020</td>\n",
       "      <td>1.060000</td>\n",
       "    </tr>\n",
       "    <tr>\n",
       "      <th>3</th>\n",
       "      <td>880022</td>\n",
       "      <td>1.750000</td>\n",
       "    </tr>\n",
       "    <tr>\n",
       "      <th>4</th>\n",
       "      <td>880026</td>\n",
       "      <td>0.832649</td>\n",
       "    </tr>\n",
       "  </tbody>\n",
       "</table>\n",
       "</div>"
      ],
      "text/plain": [
       "   operator_id  avg_duration_per_call\n",
       "0       879896               1.133333\n",
       "1       879898               0.347424\n",
       "2       880020               1.060000\n",
       "3       880022               1.750000\n",
       "4       880026               0.832649"
      ]
     },
     "execution_count": 60,
     "metadata": {},
     "output_type": "execute_result"
    }
   ],
   "source": [
    "avg_duration_per_call = (\n",
    "    user_cat_out.groupby('operator_id', as_index=False).agg({'duration_per_call': 'mean'})\n",
    "    .rename(columns={'duration_per_call': 'avg_duration_per_call'})\n",
    ")\n",
    "avg_duration_per_call.head()"
   ]
  },
  {
   "cell_type": "markdown",
   "id": "8bb6f672",
   "metadata": {},
   "source": [
    "Добавим данные в таблицу"
   ]
  },
  {
   "cell_type": "code",
   "execution_count": 61,
   "id": "dfcc5605",
   "metadata": {},
   "outputs": [
    {
     "data": {
      "text/html": [
       "<div>\n",
       "<style scoped>\n",
       "    .dataframe tbody tr th:only-of-type {\n",
       "        vertical-align: middle;\n",
       "    }\n",
       "\n",
       "    .dataframe tbody tr th {\n",
       "        vertical-align: top;\n",
       "    }\n",
       "\n",
       "    .dataframe thead th {\n",
       "        text-align: right;\n",
       "    }\n",
       "</style>\n",
       "<table border=\"1\" class=\"dataframe\">\n",
       "  <thead>\n",
       "    <tr style=\"text-align: right;\">\n",
       "      <th></th>\n",
       "      <th>user_id</th>\n",
       "      <th>date</th>\n",
       "      <th>direction</th>\n",
       "      <th>internal</th>\n",
       "      <th>operator_id</th>\n",
       "      <th>is_missed_call</th>\n",
       "      <th>calls_count</th>\n",
       "      <th>call_duration</th>\n",
       "      <th>total_call_duration</th>\n",
       "      <th>user_category</th>\n",
       "      <th>avg_calls_count</th>\n",
       "      <th>duration_per_call</th>\n",
       "      <th>avg_duration_per_call</th>\n",
       "    </tr>\n",
       "  </thead>\n",
       "  <tbody>\n",
       "    <tr>\n",
       "      <th>0</th>\n",
       "      <td>166377</td>\n",
       "      <td>2019-08-05 00:00:00+03:00</td>\n",
       "      <td>out</td>\n",
       "      <td>False</td>\n",
       "      <td>880022</td>\n",
       "      <td>True</td>\n",
       "      <td>3</td>\n",
       "      <td>0.00</td>\n",
       "      <td>0.42</td>\n",
       "      <td>out</td>\n",
       "      <td>3.22</td>\n",
       "      <td>0.00</td>\n",
       "      <td>1.750</td>\n",
       "    </tr>\n",
       "    <tr>\n",
       "      <th>1</th>\n",
       "      <td>166377</td>\n",
       "      <td>2019-08-05 00:00:00+03:00</td>\n",
       "      <td>out</td>\n",
       "      <td>False</td>\n",
       "      <td>880020</td>\n",
       "      <td>False</td>\n",
       "      <td>2</td>\n",
       "      <td>0.05</td>\n",
       "      <td>0.48</td>\n",
       "      <td>out</td>\n",
       "      <td>3.40</td>\n",
       "      <td>0.02</td>\n",
       "      <td>1.060</td>\n",
       "    </tr>\n",
       "    <tr>\n",
       "      <th>2</th>\n",
       "      <td>166377</td>\n",
       "      <td>2019-08-05 00:00:00+03:00</td>\n",
       "      <td>out</td>\n",
       "      <td>False</td>\n",
       "      <td>880020</td>\n",
       "      <td>True</td>\n",
       "      <td>8</td>\n",
       "      <td>0.00</td>\n",
       "      <td>0.83</td>\n",
       "      <td>out</td>\n",
       "      <td>3.40</td>\n",
       "      <td>0.00</td>\n",
       "      <td>1.060</td>\n",
       "    </tr>\n",
       "    <tr>\n",
       "      <th>3</th>\n",
       "      <td>166377</td>\n",
       "      <td>2019-08-06 00:00:00+03:00</td>\n",
       "      <td>out</td>\n",
       "      <td>False</td>\n",
       "      <td>881278</td>\n",
       "      <td>True</td>\n",
       "      <td>3</td>\n",
       "      <td>0.00</td>\n",
       "      <td>0.48</td>\n",
       "      <td>out</td>\n",
       "      <td>2.40</td>\n",
       "      <td>0.00</td>\n",
       "      <td>0.516</td>\n",
       "    </tr>\n",
       "    <tr>\n",
       "      <th>4</th>\n",
       "      <td>166377</td>\n",
       "      <td>2019-08-06 00:00:00+03:00</td>\n",
       "      <td>out</td>\n",
       "      <td>False</td>\n",
       "      <td>880020</td>\n",
       "      <td>True</td>\n",
       "      <td>5</td>\n",
       "      <td>0.00</td>\n",
       "      <td>1.17</td>\n",
       "      <td>out</td>\n",
       "      <td>3.40</td>\n",
       "      <td>0.00</td>\n",
       "      <td>1.060</td>\n",
       "    </tr>\n",
       "  </tbody>\n",
       "</table>\n",
       "</div>"
      ],
      "text/plain": [
       "   user_id                      date direction  internal  operator_id  \\\n",
       "0   166377 2019-08-05 00:00:00+03:00       out     False       880022   \n",
       "1   166377 2019-08-05 00:00:00+03:00       out     False       880020   \n",
       "2   166377 2019-08-05 00:00:00+03:00       out     False       880020   \n",
       "3   166377 2019-08-06 00:00:00+03:00       out     False       881278   \n",
       "4   166377 2019-08-06 00:00:00+03:00       out     False       880020   \n",
       "\n",
       "   is_missed_call  calls_count  call_duration  total_call_duration  \\\n",
       "0            True            3           0.00                 0.42   \n",
       "1           False            2           0.05                 0.48   \n",
       "2            True            8           0.00                 0.83   \n",
       "3            True            3           0.00                 0.48   \n",
       "4            True            5           0.00                 1.17   \n",
       "\n",
       "  user_category  avg_calls_count  duration_per_call  avg_duration_per_call  \n",
       "0           out             3.22               0.00                  1.750  \n",
       "1           out             3.40               0.02                  1.060  \n",
       "2           out             3.40               0.00                  1.060  \n",
       "3           out             2.40               0.00                  0.516  \n",
       "4           out             3.40               0.00                  1.060  "
      ]
     },
     "execution_count": 61,
     "metadata": {},
     "output_type": "execute_result"
    }
   ],
   "source": [
    "user_cat_out = user_cat_out.merge(avg_duration_per_call, on='operator_id', how='left')\n",
    "user_cat_out.head()"
   ]
  },
  {
   "cell_type": "markdown",
   "id": "d8302476",
   "metadata": {},
   "source": [
    "Рассчитаем среднее средней продолжительности звонков в день, будем использовать как порог при категоризации"
   ]
  },
  {
   "cell_type": "code",
   "execution_count": 62,
   "id": "1452a4e9",
   "metadata": {},
   "outputs": [
    {
     "name": "stdout",
     "output_type": "stream",
     "text": [
      "Среднее средней продолжительности звонков в день, минут: 1.01\n"
     ]
    }
   ],
   "source": [
    "print('Среднее средней продолжительности звонков в день, минут:', round(user_cat_out['avg_duration_per_call'].mean(), 2))"
   ]
  },
  {
   "cell_type": "markdown",
   "id": "8b7e3cf2",
   "metadata": {},
   "source": [
    "#### Напишем функцию для категоризации операторов"
   ]
  },
  {
   "cell_type": "code",
   "execution_count": 63,
   "id": "aeb3204a",
   "metadata": {},
   "outputs": [],
   "source": [
    "def out_efficiency(row):\n",
    "     \n",
    "    call_cnt = row['avg_calls_count']\n",
    "    avg_duration = row['avg_duration_per_call']\n",
    "    missed_call = row['is_missed_call']\n",
    "\n",
    "# Если кол-во исходящих меньше среднего, категоризируем как неэффективные\n",
    "    if call_cnt < round(user_cat_out['avg_calls_count'].mean(),2):\n",
    "        return 'неэффективные'\n",
    "\n",
    "# Если кол-во исходящих больше или равно среднему, звонок не пропущен, категоризируем по длительности звонка    \n",
    "    if call_cnt >= round(user_cat_out['avg_calls_count'].mean(),2):\n",
    "        if missed_call == False:\n",
    "            if avg_duration >= round(user_cat_out['avg_duration_per_call'].mean(), 2):\n",
    "                return 'эффективные'\n",
    "    \n",
    "    if call_cnt >= round(user_cat_out['avg_calls_count'].mean(),2):\n",
    "        if missed_call == False:\n",
    "            if avg_duration < round(user_cat_out['avg_duration_per_call'].mean(), 2):\n",
    "                return 'неэффективные'\n",
    "\n",
    "# Если кол-во исходящих больше или равно среднему, звонок пропущен, категоризируем по кол-ву звонков  \n",
    "    if call_cnt >= round(user_cat_out['avg_calls_count'].mean(),2):\n",
    "        if missed_call == True:\n",
    "            return 'эффективные'      \n",
    "            "
   ]
  },
  {
   "cell_type": "code",
   "execution_count": 64,
   "id": "3f60a5cb",
   "metadata": {},
   "outputs": [],
   "source": [
    "user_cat_out['operator_cat'] = user_cat_out.apply(out_efficiency, axis=1)"
   ]
  },
  {
   "cell_type": "markdown",
   "id": "6f700b67",
   "metadata": {},
   "source": [
    "Проверим, есть ли пропуски"
   ]
  },
  {
   "cell_type": "code",
   "execution_count": 65,
   "id": "cf0c66f5",
   "metadata": {},
   "outputs": [
    {
     "data": {
      "text/plain": [
       "0"
      ]
     },
     "execution_count": 65,
     "metadata": {},
     "output_type": "execute_result"
    }
   ],
   "source": [
    "user_cat_out['operator_cat'].isna().sum()"
   ]
  },
  {
   "cell_type": "code",
   "execution_count": 66,
   "id": "097b02b5",
   "metadata": {
    "scrolled": true
   },
   "outputs": [
    {
     "data": {
      "text/html": [
       "<div>\n",
       "<style scoped>\n",
       "    .dataframe tbody tr th:only-of-type {\n",
       "        vertical-align: middle;\n",
       "    }\n",
       "\n",
       "    .dataframe tbody tr th {\n",
       "        vertical-align: top;\n",
       "    }\n",
       "\n",
       "    .dataframe thead th {\n",
       "        text-align: right;\n",
       "    }\n",
       "</style>\n",
       "<table border=\"1\" class=\"dataframe\">\n",
       "  <thead>\n",
       "    <tr style=\"text-align: right;\">\n",
       "      <th></th>\n",
       "      <th>user_id</th>\n",
       "      <th>date</th>\n",
       "      <th>direction</th>\n",
       "      <th>internal</th>\n",
       "      <th>operator_id</th>\n",
       "      <th>is_missed_call</th>\n",
       "      <th>calls_count</th>\n",
       "      <th>call_duration</th>\n",
       "      <th>total_call_duration</th>\n",
       "      <th>user_category</th>\n",
       "      <th>avg_calls_count</th>\n",
       "      <th>duration_per_call</th>\n",
       "      <th>avg_duration_per_call</th>\n",
       "      <th>operator_cat</th>\n",
       "    </tr>\n",
       "  </thead>\n",
       "  <tbody>\n",
       "    <tr>\n",
       "      <th>0</th>\n",
       "      <td>166377</td>\n",
       "      <td>2019-08-05 00:00:00+03:00</td>\n",
       "      <td>out</td>\n",
       "      <td>False</td>\n",
       "      <td>880022</td>\n",
       "      <td>True</td>\n",
       "      <td>3</td>\n",
       "      <td>0.00</td>\n",
       "      <td>0.42</td>\n",
       "      <td>out</td>\n",
       "      <td>3.22</td>\n",
       "      <td>0.00</td>\n",
       "      <td>1.750</td>\n",
       "      <td>неэффективные</td>\n",
       "    </tr>\n",
       "    <tr>\n",
       "      <th>1</th>\n",
       "      <td>166377</td>\n",
       "      <td>2019-08-05 00:00:00+03:00</td>\n",
       "      <td>out</td>\n",
       "      <td>False</td>\n",
       "      <td>880020</td>\n",
       "      <td>False</td>\n",
       "      <td>2</td>\n",
       "      <td>0.05</td>\n",
       "      <td>0.48</td>\n",
       "      <td>out</td>\n",
       "      <td>3.40</td>\n",
       "      <td>0.02</td>\n",
       "      <td>1.060</td>\n",
       "      <td>неэффективные</td>\n",
       "    </tr>\n",
       "    <tr>\n",
       "      <th>2</th>\n",
       "      <td>166377</td>\n",
       "      <td>2019-08-05 00:00:00+03:00</td>\n",
       "      <td>out</td>\n",
       "      <td>False</td>\n",
       "      <td>880020</td>\n",
       "      <td>True</td>\n",
       "      <td>8</td>\n",
       "      <td>0.00</td>\n",
       "      <td>0.83</td>\n",
       "      <td>out</td>\n",
       "      <td>3.40</td>\n",
       "      <td>0.00</td>\n",
       "      <td>1.060</td>\n",
       "      <td>неэффективные</td>\n",
       "    </tr>\n",
       "    <tr>\n",
       "      <th>3</th>\n",
       "      <td>166377</td>\n",
       "      <td>2019-08-06 00:00:00+03:00</td>\n",
       "      <td>out</td>\n",
       "      <td>False</td>\n",
       "      <td>881278</td>\n",
       "      <td>True</td>\n",
       "      <td>3</td>\n",
       "      <td>0.00</td>\n",
       "      <td>0.48</td>\n",
       "      <td>out</td>\n",
       "      <td>2.40</td>\n",
       "      <td>0.00</td>\n",
       "      <td>0.516</td>\n",
       "      <td>неэффективные</td>\n",
       "    </tr>\n",
       "    <tr>\n",
       "      <th>4</th>\n",
       "      <td>166377</td>\n",
       "      <td>2019-08-06 00:00:00+03:00</td>\n",
       "      <td>out</td>\n",
       "      <td>False</td>\n",
       "      <td>880020</td>\n",
       "      <td>True</td>\n",
       "      <td>5</td>\n",
       "      <td>0.00</td>\n",
       "      <td>1.17</td>\n",
       "      <td>out</td>\n",
       "      <td>3.40</td>\n",
       "      <td>0.00</td>\n",
       "      <td>1.060</td>\n",
       "      <td>неэффективные</td>\n",
       "    </tr>\n",
       "  </tbody>\n",
       "</table>\n",
       "</div>"
      ],
      "text/plain": [
       "   user_id                      date direction  internal  operator_id  \\\n",
       "0   166377 2019-08-05 00:00:00+03:00       out     False       880022   \n",
       "1   166377 2019-08-05 00:00:00+03:00       out     False       880020   \n",
       "2   166377 2019-08-05 00:00:00+03:00       out     False       880020   \n",
       "3   166377 2019-08-06 00:00:00+03:00       out     False       881278   \n",
       "4   166377 2019-08-06 00:00:00+03:00       out     False       880020   \n",
       "\n",
       "   is_missed_call  calls_count  call_duration  total_call_duration  \\\n",
       "0            True            3           0.00                 0.42   \n",
       "1           False            2           0.05                 0.48   \n",
       "2            True            8           0.00                 0.83   \n",
       "3            True            3           0.00                 0.48   \n",
       "4            True            5           0.00                 1.17   \n",
       "\n",
       "  user_category  avg_calls_count  duration_per_call  avg_duration_per_call  \\\n",
       "0           out             3.22               0.00                  1.750   \n",
       "1           out             3.40               0.02                  1.060   \n",
       "2           out             3.40               0.00                  1.060   \n",
       "3           out             2.40               0.00                  0.516   \n",
       "4           out             3.40               0.00                  1.060   \n",
       "\n",
       "    operator_cat  \n",
       "0  неэффективные  \n",
       "1  неэффективные  \n",
       "2  неэффективные  \n",
       "3  неэффективные  \n",
       "4  неэффективные  "
      ]
     },
     "execution_count": 66,
     "metadata": {},
     "output_type": "execute_result"
    }
   ],
   "source": [
    "user_cat_out.head()"
   ]
  },
  {
   "cell_type": "markdown",
   "id": "900be7b3",
   "metadata": {},
   "source": [
    "#### Визуализируем долю эффективных и неэффективных операторов. Построим круговую диаграмму."
   ]
  },
  {
   "cell_type": "code",
   "execution_count": 67,
   "id": "77b2342e",
   "metadata": {},
   "outputs": [
    {
     "data": {
      "image/png": "[encoded data removed]",
      "text/plain": [
       "<Figure size 1080x504 with 1 Axes>"
      ]
     },
     "metadata": {},
     "output_type": "display_data"
    }
   ],
   "source": [
    "out_operator_efficiency_ratio = (\n",
    "    user_cat_out.groupby('operator_cat').agg({'operator_id': 'nunique'})\n",
    "    .rename(columns={'operator_id': 'Количество операторов'})\n",
    "   .plot(figsize=(15,7), kind='pie', y='Количество операторов', autopct='%.1f', legend=False)\n",
    ")\n",
    "plt.title('Соотношение эффективных и неэффективных операторов в колл-центрах, спец-ся на исходящих')\n",
    "plt.show()\n"
   ]
  },
  {
   "cell_type": "markdown",
   "id": "8ea0a28f",
   "metadata": {},
   "source": [
    "Только 19,6% операторов эффективны. Судя по имеющимся данным программное обеспечение для оценки операторов будет востребовано клиентами."
   ]
  },
  {
   "cell_type": "markdown",
   "id": "b6df724c",
   "metadata": {},
   "source": [
    "## Проверим статистические гипотезы."
   ]
  },
  {
   "cell_type": "markdown",
   "id": "f73ad7ec",
   "metadata": {},
   "source": [
    "### Первая гипотеза"
   ]
  },
  {
   "cell_type": "markdown",
   "id": "9a9112bb",
   "metadata": {},
   "source": [
    "Но: Средний показатель пропущенных/сброшенных внешних вызовов (is_missed_call) в колл-центрах, специализирующихся на обзвонах равен этому показателю в колл-центрах, специализирующихся на входящих вызовах.  \n",
    "Н1: Средний показатель пропущенных/сброшенных внешних вызовов (is_missed_call) в колл-центрах, специализирующихся на обзвонах не равен этому показателю в колл-центрах, специализирующихся на входящих вызовах."
   ]
  },
  {
   "cell_type": "markdown",
   "id": "20ed25ee",
   "metadata": {},
   "source": [
    "Обе гипотезы будут проверяться с помощью t-теста. Напишем функцию для проверки параметров перед тестом."
   ]
  },
  {
   "cell_type": "code",
   "execution_count": 68,
   "id": "2bb8f0db",
   "metadata": {},
   "outputs": [],
   "source": [
    "def check(sample1, sample2):\n",
    "# Посмотрим на размер выборок\n",
    "    size1 = sample1.shape[0]\n",
    "    size2 = sample2.shape[0]\n",
    "# У нас достаточно маленькие генеральные совокупности, перед тестом посчитаем среднее.\n",
    "    mean1 = round(sample1.mean(),2)\n",
    "    mean2 = round(sample2.mean(),2)\n",
    "    return print('Размер совокупностей:', size1, size2), print('Средние совокупностей:', mean1, mean2)\n"
   ]
  },
  {
   "cell_type": "markdown",
   "id": "1398a02c",
   "metadata": {},
   "source": [
    "Подготовим данные к проверке гипотез: отфильтруем по пропущенным вызовам и оставим столбец с количеством звонков."
   ]
  },
  {
   "cell_type": "code",
   "execution_count": 69,
   "id": "1fa9d6b4",
   "metadata": {},
   "outputs": [],
   "source": [
    "# Колл-центры, спец-ся на входящих\n",
    "missed_calls_cat_in = user_cat_in[user_cat_in['is_missed_call'] == True]['calls_count']\n",
    "# Колл-центры, спец-ся на исходящих\n",
    "missed_calls_cat_out = user_cat_out[user_cat_out['is_missed_call'] == True]['calls_count']"
   ]
  },
  {
   "cell_type": "markdown",
   "id": "2ed3fd04",
   "metadata": {},
   "source": [
    "Оценим размер и средние с помощью функции"
   ]
  },
  {
   "cell_type": "code",
   "execution_count": 70,
   "id": "0cf6c6bc",
   "metadata": {},
   "outputs": [
    {
     "name": "stdout",
     "output_type": "stream",
     "text": [
      "Размер совокупностей: 975 10288\n",
      "Средние совокупностей: 2.46 25.69\n"
     ]
    },
    {
     "data": {
      "text/plain": [
       "(None, None)"
      ]
     },
     "execution_count": 70,
     "metadata": {},
     "output_type": "execute_result"
    }
   ],
   "source": [
    "check(missed_calls_cat_in, missed_calls_cat_out)"
   ]
  },
  {
   "cell_type": "markdown",
   "id": "0b311bbb",
   "metadata": {},
   "source": [
    "Для проверки гипотез будем использовать двухвыборочный t-тест, поскольку выборки независимы, мы проверяем гипотезу о равенстве двух средних. "
   ]
  },
  {
   "cell_type": "code",
   "execution_count": 71,
   "id": "5b642db9",
   "metadata": {},
   "outputs": [
    {
     "name": "stdout",
     "output_type": "stream",
     "text": [
      "p-значение: 1.1703386816560334e-152\n",
      "Отвергаем нулевую гипотезу\n"
     ]
    }
   ],
   "source": [
    "# Выставляем параметр equal_var=False, поскольку у выборок разный размер, и дисперсии выборок могут быть не равны.\n",
    "results = scipy.stats.ttest_ind(missed_calls_cat_in, missed_calls_cat_out, equal_var=False)\n",
    "print('p-значение:', results.pvalue)\n",
    "#Возьмем порог в 5% для стат значимости\n",
    "alpha = 0.05\n",
    "if results.pvalue < alpha:\n",
    "    print('Отвергаем нулевую гипотезу')\n",
    "else:\n",
    "    print('Не получилось отвергнуть нулевую гипотезу') "
   ]
  },
  {
   "cell_type": "markdown",
   "id": "4ce6702d",
   "metadata": {},
   "source": [
    "На основании теста отвергаем нулевую гипотезу о равенстве количества попущенных вызовов в колл-центрах разных категорий.  \n",
    "Можно предположить, что в колл-центрах, специализирующихся на обзвонах средний показатель пропущенных/сброшенных вызовов (is_missed_call) выше, чем в колл-центрах, специализирующихся на входящих вызовах, так как абоненты чаще всего не отвечают на неизвестные номера."
   ]
  },
  {
   "cell_type": "markdown",
   "id": "94150df9",
   "metadata": {},
   "source": [
    "### Вторая гипотеза"
   ]
  },
  {
   "cell_type": "markdown",
   "id": "ad278ad9",
   "metadata": {},
   "source": [
    "Но: Продолжительность внешних звонков в колл-центрах, специализирующихся на обзвонах равна этому показателю в колл-центрах, специализирующихся на входящих вызовах.  \n",
    "Н1: Продолжительность внешних звонков в колл-центрах, специализирующихся на обзвонах не равна этому показателю в колл-центрах, специализирующихся на входящих вызовах."
   ]
  },
  {
   "cell_type": "markdown",
   "id": "bb692b2c",
   "metadata": {},
   "source": [
    "Подготовим данные к проверке гипотез"
   ]
  },
  {
   "cell_type": "code",
   "execution_count": 72,
   "id": "a84d84ce",
   "metadata": {},
   "outputs": [],
   "source": [
    "call_duration_in = user_cat_in['duration_per_call']\n",
    "call_duration_out = user_cat_out['duration_per_call']"
   ]
  },
  {
   "cell_type": "markdown",
   "id": "e2261091",
   "metadata": {},
   "source": [
    "Оценим размер и средние с помощью функции"
   ]
  },
  {
   "cell_type": "code",
   "execution_count": 73,
   "id": "18891845",
   "metadata": {},
   "outputs": [
    {
     "name": "stdout",
     "output_type": "stream",
     "text": [
      "Размер совокупностей: 6092 20320\n",
      "Средние совокупностей: 1.56 1.01\n"
     ]
    },
    {
     "data": {
      "text/plain": [
       "(None, None)"
      ]
     },
     "execution_count": 73,
     "metadata": {},
     "output_type": "execute_result"
    }
   ],
   "source": [
    "check(call_duration_in, call_duration_out)"
   ]
  },
  {
   "cell_type": "markdown",
   "id": "4ca1179e",
   "metadata": {},
   "source": [
    "Для проверки гипотез будем использовать двухвыборочный t-тест, поскольку выборки независимы, мы проверяем гипотезу о равенстве двух средних. "
   ]
  },
  {
   "cell_type": "code",
   "execution_count": 74,
   "id": "1dd512d5",
   "metadata": {},
   "outputs": [
    {
     "name": "stdout",
     "output_type": "stream",
     "text": [
      "p-значение: 5.823096849179522e-74\n",
      "Отвергаем нулевую гипотезу\n"
     ]
    }
   ],
   "source": [
    "# Выставляем параметр equal_var=False, поскольку у выборок разный размер, и дисперсии выборок могут быть не равны.\n",
    "results = scipy.stats.ttest_ind(call_duration_in, call_duration_out, equal_var=False)\n",
    "print('p-значение:', results.pvalue)\n",
    "#Возьмем порог в 5% для стат значимости\n",
    "alpha = 0.05\n",
    "if results.pvalue < alpha:\n",
    "    print('Отвергаем нулевую гипотезу')\n",
    "else:\n",
    "    print('Не получилось отвергнуть нулевую гипотезу') "
   ]
  },
  {
   "cell_type": "markdown",
   "id": "443b6639",
   "metadata": {},
   "source": [
    "На основании теста мы можем отвергнуть нулевую гипотезу: продолжительность одного звонка в колл-центрах разных категорий отличается. Можно предположить, что в колл-центрах, специализирующихся на входящиз, она выше, потому что они отвечают на вопросы клиентов. Клиенты более заинтересованы в том, чтобы дослушать, и не прерывают вызов."
   ]
  },
  {
   "cell_type": "markdown",
   "id": "7c6de159",
   "metadata": {},
   "source": [
    "## Выводы"
   ]
  },
  {
   "cell_type": "markdown",
   "id": "be27d879",
   "metadata": {},
   "source": [
    "Целью нашего исследования было понять, насколько разработанный сервис востребован, есть ли смысл его внедрять. Мы категоризировали колл-центры, разделив на 2 группы: колл-центры, специализирующиеся на обработке входящих звонков, и колл-центры, специализирующиеся на обзвонах.  \n",
    "в наших данных 56,3% колл-центров специализируются на обзвонах и 43,7% - на входящих вызовах. Мы использовали порог в 50%.  \n",
    "В качестве критериев для оценки эффективности операторов колл_центров, специализирующихся на обработке входящих звонков, мы выделили:  \n",
    "- среднее пропущенных внешних входящих вызовов в день\n",
    "- среднюю длительность звонков\n",
    "- среднее время ожидания ответа при входящих вызовах  \n",
    "Для колл-центров, специализирующихся на обзвонах мы взяли 2 критерия:  \n",
    "- среднее количество внешних исходящих звонков  \n",
    "- средняя длительность звонка\n",
    "Как при категоризации, так и при проверке гипотез мы учитывали только внешние вызовы. Именно они важны для бизнеса, влияют на доход и конкурентоспособность.  \n",
    "В результате исследования мы выяснили, что  \n",
    "- в колл-центрах, специализирующихся на обработке входящих звонков доля неэффективных операторов - 85,3%\n",
    "- в колл-центрах, специализирующихся на обзвонах - 80,4%.  \n",
    "Исходя из этого можно с большой уверенностью предполагать, что разработанное решение будет востребовано клиентами.  \n",
    "Также мы выдвинули и проверили 2 гипотезы:\n",
    "- о равенстве средних показателя пропущенных/сброшенных внешних вызовов (is_missed_call) в колл-центрах, специализирующихся на обзвонах и в колл-центрах, специализирующихся на входящих вызовах.\n",
    "- о равенстве средних показателя продолжительности внешних звонков в колл-центрах, специализирующихся на обзвонах и в колл-центрах, специализирующихся на входящих вызовах.  \n",
    "На основании теста мы отвергли нулевые гипотезы в обоих случаях. Средние не равны. Вероятно, абоненты чаще сбрасывают неизвестные входящие звонки; если отвечают, то менее заинтересованы в прослушивании информации и быстрее отключаются."
   ]
  }
 ],
 "metadata": {
  "ExecuteTimeLog": [
   {
    "duration": 1321,
    "start_time": "2023-06-19T12:33:33.696Z"
   },
   {
    "duration": 291,
    "start_time": "2023-06-19T12:33:35.019Z"
   },
   {
    "duration": 16,
    "start_time": "2023-06-19T12:33:35.312Z"
   },
   {
    "duration": 71,
    "start_time": "2023-06-19T12:33:35.330Z"
   },
   {
    "duration": 97,
    "start_time": "2023-06-19T12:33:35.402Z"
   },
   {
    "duration": 173,
    "start_time": "2023-06-19T12:33:35.501Z"
   },
   {
    "duration": 0,
    "start_time": "2023-06-19T12:33:35.677Z"
   },
   {
    "duration": 0,
    "start_time": "2023-06-19T12:33:35.678Z"
   },
   {
    "duration": 0,
    "start_time": "2023-06-19T12:33:35.679Z"
   },
   {
    "duration": 0,
    "start_time": "2023-06-19T12:33:35.680Z"
   },
   {
    "duration": 0,
    "start_time": "2023-06-19T12:33:35.681Z"
   },
   {
    "duration": 0,
    "start_time": "2023-06-19T12:33:35.682Z"
   },
   {
    "duration": 0,
    "start_time": "2023-06-19T12:33:35.683Z"
   },
   {
    "duration": 0,
    "start_time": "2023-06-19T12:33:35.684Z"
   },
   {
    "duration": 0,
    "start_time": "2023-06-19T12:33:35.685Z"
   },
   {
    "duration": 0,
    "start_time": "2023-06-19T12:33:35.687Z"
   },
   {
    "duration": 0,
    "start_time": "2023-06-19T12:33:35.688Z"
   },
   {
    "duration": 0,
    "start_time": "2023-06-19T12:33:35.689Z"
   },
   {
    "duration": 0,
    "start_time": "2023-06-19T12:33:35.690Z"
   },
   {
    "duration": 0,
    "start_time": "2023-06-19T12:33:35.692Z"
   },
   {
    "duration": 0,
    "start_time": "2023-06-19T12:33:35.693Z"
   },
   {
    "duration": 0,
    "start_time": "2023-06-19T12:33:35.694Z"
   },
   {
    "duration": 0,
    "start_time": "2023-06-19T12:33:35.720Z"
   },
   {
    "duration": 0,
    "start_time": "2023-06-19T12:33:35.721Z"
   },
   {
    "duration": 0,
    "start_time": "2023-06-19T12:33:35.723Z"
   },
   {
    "duration": 0,
    "start_time": "2023-06-19T12:33:35.724Z"
   },
   {
    "duration": 0,
    "start_time": "2023-06-19T12:33:35.725Z"
   },
   {
    "duration": 0,
    "start_time": "2023-06-19T12:33:35.726Z"
   },
   {
    "duration": 0,
    "start_time": "2023-06-19T12:33:35.727Z"
   },
   {
    "duration": 0,
    "start_time": "2023-06-19T12:33:35.728Z"
   },
   {
    "duration": 0,
    "start_time": "2023-06-19T12:33:35.729Z"
   },
   {
    "duration": 0,
    "start_time": "2023-06-19T12:33:35.730Z"
   },
   {
    "duration": 0,
    "start_time": "2023-06-19T12:33:35.731Z"
   },
   {
    "duration": 0,
    "start_time": "2023-06-19T12:33:35.731Z"
   },
   {
    "duration": 0,
    "start_time": "2023-06-19T12:33:35.732Z"
   },
   {
    "duration": 0,
    "start_time": "2023-06-19T12:33:35.733Z"
   },
   {
    "duration": 0,
    "start_time": "2023-06-19T12:33:35.734Z"
   },
   {
    "duration": 0,
    "start_time": "2023-06-19T12:33:35.735Z"
   },
   {
    "duration": 0,
    "start_time": "2023-06-19T12:33:35.738Z"
   },
   {
    "duration": 0,
    "start_time": "2023-06-19T12:33:35.739Z"
   },
   {
    "duration": 0,
    "start_time": "2023-06-19T12:33:35.740Z"
   },
   {
    "duration": 0,
    "start_time": "2023-06-19T12:33:35.741Z"
   },
   {
    "duration": 0,
    "start_time": "2023-06-19T12:33:35.742Z"
   },
   {
    "duration": 0,
    "start_time": "2023-06-19T12:33:35.743Z"
   },
   {
    "duration": 0,
    "start_time": "2023-06-19T12:33:35.744Z"
   },
   {
    "duration": 0,
    "start_time": "2023-06-19T12:33:35.744Z"
   },
   {
    "duration": 0,
    "start_time": "2023-06-19T12:33:35.745Z"
   },
   {
    "duration": 0,
    "start_time": "2023-06-19T12:33:35.746Z"
   },
   {
    "duration": 0,
    "start_time": "2023-06-19T12:33:35.747Z"
   },
   {
    "duration": 0,
    "start_time": "2023-06-19T12:33:35.747Z"
   },
   {
    "duration": 0,
    "start_time": "2023-06-19T12:33:35.748Z"
   },
   {
    "duration": 0,
    "start_time": "2023-06-19T12:33:35.749Z"
   },
   {
    "duration": 0,
    "start_time": "2023-06-19T12:33:35.750Z"
   },
   {
    "duration": 0,
    "start_time": "2023-06-19T12:33:35.751Z"
   },
   {
    "duration": 0,
    "start_time": "2023-06-19T12:33:35.752Z"
   },
   {
    "duration": 0,
    "start_time": "2023-06-19T12:33:35.753Z"
   },
   {
    "duration": 0,
    "start_time": "2023-06-19T12:33:35.753Z"
   },
   {
    "duration": 0,
    "start_time": "2023-06-19T12:33:35.755Z"
   },
   {
    "duration": 0,
    "start_time": "2023-06-19T12:33:35.755Z"
   },
   {
    "duration": 0,
    "start_time": "2023-06-19T12:33:35.756Z"
   },
   {
    "duration": 0,
    "start_time": "2023-06-19T12:33:35.757Z"
   },
   {
    "duration": 0,
    "start_time": "2023-06-19T12:33:35.758Z"
   },
   {
    "duration": 0,
    "start_time": "2023-06-19T12:33:35.820Z"
   },
   {
    "duration": 0,
    "start_time": "2023-06-19T12:33:35.822Z"
   },
   {
    "duration": 0,
    "start_time": "2023-06-19T12:33:35.822Z"
   },
   {
    "duration": 0,
    "start_time": "2023-06-19T12:33:35.823Z"
   },
   {
    "duration": 0,
    "start_time": "2023-06-19T12:33:35.824Z"
   },
   {
    "duration": 0,
    "start_time": "2023-06-19T12:33:35.825Z"
   },
   {
    "duration": 22,
    "start_time": "2023-06-19T12:34:39.588Z"
   },
   {
    "duration": 29,
    "start_time": "2023-06-19T12:34:39.612Z"
   },
   {
    "duration": 33,
    "start_time": "2023-06-19T12:34:39.643Z"
   },
   {
    "duration": 12,
    "start_time": "2023-06-19T12:34:39.678Z"
   },
   {
    "duration": 7,
    "start_time": "2023-06-19T12:34:39.720Z"
   },
   {
    "duration": 26,
    "start_time": "2023-06-19T12:34:39.729Z"
   },
   {
    "duration": 14,
    "start_time": "2023-06-19T12:34:39.757Z"
   },
   {
    "duration": 785,
    "start_time": "2023-06-19T12:34:39.773Z"
   },
   {
    "duration": 188,
    "start_time": "2023-06-19T12:34:40.560Z"
   },
   {
    "duration": 13,
    "start_time": "2023-06-19T12:34:40.750Z"
   },
   {
    "duration": 13,
    "start_time": "2023-06-19T12:34:40.765Z"
   },
   {
    "duration": 11,
    "start_time": "2023-06-19T12:34:40.779Z"
   },
   {
    "duration": 42,
    "start_time": "2023-06-19T12:34:40.791Z"
   },
   {
    "duration": 9,
    "start_time": "2023-06-19T12:34:40.835Z"
   },
   {
    "duration": 8,
    "start_time": "2023-06-19T12:34:40.845Z"
   },
   {
    "duration": 24,
    "start_time": "2023-06-19T12:34:40.855Z"
   },
   {
    "duration": 5,
    "start_time": "2023-06-19T12:34:40.880Z"
   },
   {
    "duration": 10,
    "start_time": "2023-06-19T12:34:40.887Z"
   },
   {
    "duration": 23,
    "start_time": "2023-06-19T12:34:40.898Z"
   },
   {
    "duration": 10,
    "start_time": "2023-06-19T12:34:40.922Z"
   },
   {
    "duration": 19,
    "start_time": "2023-06-19T12:34:40.934Z"
   },
   {
    "duration": 381,
    "start_time": "2023-06-19T12:34:40.955Z"
   },
   {
    "duration": 19,
    "start_time": "2023-06-19T12:34:41.337Z"
   },
   {
    "duration": 110,
    "start_time": "2023-06-19T12:34:41.357Z"
   },
   {
    "duration": 7,
    "start_time": "2023-06-19T12:34:41.468Z"
   },
   {
    "duration": 53,
    "start_time": "2023-06-19T12:34:41.476Z"
   },
   {
    "duration": 18,
    "start_time": "2023-06-19T12:34:41.530Z"
   },
   {
    "duration": 14,
    "start_time": "2023-06-19T12:34:41.550Z"
   },
   {
    "duration": 4,
    "start_time": "2023-06-19T12:34:41.566Z"
   },
   {
    "duration": 18,
    "start_time": "2023-06-19T12:34:41.571Z"
   },
   {
    "duration": 35,
    "start_time": "2023-06-19T12:34:41.590Z"
   },
   {
    "duration": 7,
    "start_time": "2023-06-19T12:34:41.626Z"
   },
   {
    "duration": 18,
    "start_time": "2023-06-19T12:34:41.635Z"
   },
   {
    "duration": 8,
    "start_time": "2023-06-19T12:34:41.654Z"
   },
   {
    "duration": 14,
    "start_time": "2023-06-19T12:34:41.663Z"
   },
   {
    "duration": 38,
    "start_time": "2023-06-19T12:34:41.678Z"
   },
   {
    "duration": 6,
    "start_time": "2023-06-19T12:34:41.720Z"
   },
   {
    "duration": 1380,
    "start_time": "2023-06-19T12:34:41.728Z"
   },
   {
    "duration": 14,
    "start_time": "2023-06-19T12:34:43.110Z"
   },
   {
    "duration": 35,
    "start_time": "2023-06-19T12:34:43.126Z"
   },
   {
    "duration": 14,
    "start_time": "2023-06-19T12:34:43.166Z"
   },
   {
    "duration": 22,
    "start_time": "2023-06-19T12:34:43.182Z"
   },
   {
    "duration": 4,
    "start_time": "2023-06-19T12:34:43.221Z"
   },
   {
    "duration": 17,
    "start_time": "2023-06-19T12:34:43.226Z"
   },
   {
    "duration": 11,
    "start_time": "2023-06-19T12:34:43.245Z"
   },
   {
    "duration": 11,
    "start_time": "2023-06-19T12:34:43.257Z"
   },
   {
    "duration": 11,
    "start_time": "2023-06-19T12:34:43.269Z"
   },
   {
    "duration": 19,
    "start_time": "2023-06-19T12:34:43.281Z"
   },
   {
    "duration": 22,
    "start_time": "2023-06-19T12:34:43.320Z"
   },
   {
    "duration": 4,
    "start_time": "2023-06-19T12:34:43.344Z"
   },
   {
    "duration": 5,
    "start_time": "2023-06-19T12:34:43.349Z"
   },
   {
    "duration": 4219,
    "start_time": "2023-06-19T12:34:43.355Z"
   },
   {
    "duration": 5,
    "start_time": "2023-06-19T12:34:47.575Z"
   },
   {
    "duration": 24,
    "start_time": "2023-06-19T12:34:47.582Z"
   },
   {
    "duration": 21,
    "start_time": "2023-06-19T12:34:47.607Z"
   },
   {
    "duration": 3,
    "start_time": "2023-06-19T12:34:47.630Z"
   },
   {
    "duration": 20,
    "start_time": "2023-06-19T12:34:47.634Z"
   },
   {
    "duration": 6,
    "start_time": "2023-06-19T12:34:47.655Z"
   },
   {
    "duration": 8,
    "start_time": "2023-06-19T12:34:47.662Z"
   },
   {
    "duration": 10,
    "start_time": "2023-06-19T12:34:47.671Z"
   },
   {
    "duration": 12,
    "start_time": "2023-06-19T12:34:47.683Z"
   },
   {
    "duration": 13,
    "start_time": "2023-06-19T12:34:47.697Z"
   },
   {
    "duration": 23,
    "start_time": "2023-06-19T12:36:07.377Z"
   }
  ],
  "kernelspec": {
   "display_name": "Python 3 (ipykernel)",
   "language": "python",
   "name": "python3"
  },
  "language_info": {
   "codemirror_mode": {
    "name": "ipython",
    "version": 3
   },
   "file_extension": ".py",
   "mimetype": "text/x-python",
   "name": "python",
   "nbconvert_exporter": "python",
   "pygments_lexer": "ipython3",
   "version": "3.9.12"
  },
  "toc": {
   "base_numbering": 1,
   "nav_menu": {},
   "number_sections": true,
   "sideBar": true,
   "skip_h1_title": true,
   "title_cell": "Table of Contents",
   "title_sidebar": "Contents",
   "toc_cell": true,
   "toc_position": {
    "height": "543.2px",
    "left": "26px",
    "top": "110.525px",
    "width": "299.2px"
   },
   "toc_section_display": true,
   "toc_window_display": true
  }
 },
 "nbformat": 4,
 "nbformat_minor": 5
}
