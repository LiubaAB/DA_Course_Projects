{
 "cells": [
  {
   "cell_type": "markdown",
   "id": "31fa3730",
   "metadata": {
    "toc": true
   },
   "source": [
    "<h1>Table of Contents<span class=\"tocSkip\"></span></h1>\n",
    "<div class=\"toc\"><ul class=\"toc-item\"><li><span><a href=\"#Общие-цели,-этапы-проекта\" data-toc-modified-id=\"Общие-цели,-этапы-проекта-1\"><span class=\"toc-item-num\">1&nbsp;&nbsp;</span>Общие цели, этапы проекта</a></span></li><li><span><a href=\"#Обзор-данных\" data-toc-modified-id=\"Обзор-данных-2\"><span class=\"toc-item-num\">2&nbsp;&nbsp;</span>Обзор данных</a></span><ul class=\"toc-item\"><li><span><a href=\"#Откроем-файл-с-данными-и-изучим-общую-информацию\" data-toc-modified-id=\"Откроем-файл-с-данными-и-изучим-общую-информацию-2.1\"><span class=\"toc-item-num\">2.1&nbsp;&nbsp;</span>Откроем файл с данными и изучим общую информацию</a></span></li></ul></li><li><span><a href=\"#Подготовка-данных\" data-toc-modified-id=\"Подготовка-данных-3\"><span class=\"toc-item-num\">3&nbsp;&nbsp;</span>Подготовка данных</a></span><ul class=\"toc-item\"><li><span><a href=\"#Заменим-названия-столбцов\" data-toc-modified-id=\"Заменим-названия-столбцов-3.1\"><span class=\"toc-item-num\">3.1&nbsp;&nbsp;</span>Заменим названия столбцов</a></span></li></ul></li><li><span><a href=\"#Изучение-и-проверка-данных\" data-toc-modified-id=\"Изучение-и-проверка-данных-4\"><span class=\"toc-item-num\">4&nbsp;&nbsp;</span>Изучение и проверка данных</a></span><ul class=\"toc-item\"><li><span><a href=\"#Посмотрим,-сколько-всего-событий-в-логе\" data-toc-modified-id=\"Посмотрим,-сколько-всего-событий-в-логе-4.1\"><span class=\"toc-item-num\">4.1&nbsp;&nbsp;</span>Посмотрим, сколько всего событий в логе</a></span></li><li><span><a href=\"#Видим,-что-всего-в-логе-5-событий.-Посмотрим,-какие\" data-toc-modified-id=\"Видим,-что-всего-в-логе-5-событий.-Посмотрим,-какие-4.2\"><span class=\"toc-item-num\">4.2&nbsp;&nbsp;</span>Видим, что всего в логе 5 событий. Посмотрим, какие</a></span></li><li><span><a href=\"#Посмотрим,-сколько-всего-пользователей-в-логе\" data-toc-modified-id=\"Посмотрим,-сколько-всего-пользователей-в-логе-4.3\"><span class=\"toc-item-num\">4.3&nbsp;&nbsp;</span>Посмотрим, сколько всего пользователей в логе</a></span></li><li><span><a href=\"#Посмотрим,-сколько-в-среднем-событий-приходится-на-пользователя\" data-toc-modified-id=\"Посмотрим,-сколько-в-среднем-событий-приходится-на-пользователя-4.4\"><span class=\"toc-item-num\">4.4&nbsp;&nbsp;</span>Посмотрим, сколько в среднем событий приходится на пользователя</a></span></li><li><span><a href=\"#Посмотрим,-данными-за-какой-период-мы-располагаем\" data-toc-modified-id=\"Посмотрим,-данными-за-какой-период-мы-располагаем-4.5\"><span class=\"toc-item-num\">4.5&nbsp;&nbsp;</span>Посмотрим, данными за какой период мы располагаем</a></span></li><li><span><a href=\"#Посмотрим,-много-ли-событий-и-пользователей-мы-потеряли,-отбросив-старые-данные\" data-toc-modified-id=\"Посмотрим,-много-ли-событий-и-пользователей-мы-потеряли,-отбросив-старые-данные-4.6\"><span class=\"toc-item-num\">4.6&nbsp;&nbsp;</span>Посмотрим, много ли событий и пользователей мы потеряли, отбросив старые данные</a></span></li><li><span><a href=\"#Проверим,-что-у-нас-есть-пользователи-из-всех-трёх-экспериментальных-групп.\" data-toc-modified-id=\"Проверим,-что-у-нас-есть-пользователи-из-всех-трёх-экспериментальных-групп.-4.7\"><span class=\"toc-item-num\">4.7&nbsp;&nbsp;</span>Проверим, что у нас есть пользователи из всех трёх экспериментальных групп.</a></span></li></ul></li><li><span><a href=\"#Воронка-событий\" data-toc-modified-id=\"Воронка-событий-5\"><span class=\"toc-item-num\">5&nbsp;&nbsp;</span>Воронка событий</a></span><ul class=\"toc-item\"><li><span><a href=\"#Посмотрим,-какие-события-есть-в-логах,-как-часто-они-встречаются.-Отсортируем-события-по-частоте.\" data-toc-modified-id=\"Посмотрим,-какие-события-есть-в-логах,-как-часто-они-встречаются.-Отсортируем-события-по-частоте.-5.1\"><span class=\"toc-item-num\">5.1&nbsp;&nbsp;</span>Посмотрим, какие события есть в логах, как часто они встречаются. Отсортируем события по частоте.</a></span></li><li><span><a href=\"#Посчитаем,-сколько-пользователей-совершали-каждое-из-этих-событий.-Отсортируем-события-по-числу-пользователей.-Посчитаем-долю-пользователей,-которые-хоть-раз-совершали-событие.\" data-toc-modified-id=\"Посчитаем,-сколько-пользователей-совершали-каждое-из-этих-событий.-Отсортируем-события-по-числу-пользователей.-Посчитаем-долю-пользователей,-которые-хоть-раз-совершали-событие.-5.2\"><span class=\"toc-item-num\">5.2&nbsp;&nbsp;</span>Посчитаем, сколько пользователей совершали каждое из этих событий. Отсортируем события по числу пользователей. Посчитаем долю пользователей, которые хоть раз совершали событие.</a></span></li><li><span><a href=\"#По-воронке-событий-посчитаем,-какая-доля-пользователей-проходит-на-следующий-шаг-воронки-(от-числа-пользователей-на-предыдущем).\" data-toc-modified-id=\"По-воронке-событий-посчитаем,-какая-доля-пользователей-проходит-на-следующий-шаг-воронки-(от-числа-пользователей-на-предыдущем).-5.3\"><span class=\"toc-item-num\">5.3&nbsp;&nbsp;</span>По воронке событий посчитаем, какая доля пользователей проходит на следующий шаг воронки (от числа пользователей на предыдущем).</a></span></li></ul></li><li><span><a href=\"#Результаты-эксперимента\" data-toc-modified-id=\"Результаты-эксперимента-6\"><span class=\"toc-item-num\">6&nbsp;&nbsp;</span>Результаты эксперимента</a></span><ul class=\"toc-item\"><li><span><a href=\"#Посмотрим,-сколько-пользователей-в-каждой-экспериментальной-группе\" data-toc-modified-id=\"Посмотрим,-сколько-пользователей-в-каждой-экспериментальной-группе-6.1\"><span class=\"toc-item-num\">6.1&nbsp;&nbsp;</span>Посмотрим, сколько пользователей в каждой экспериментальной группе</a></span></li><li><span><a href=\"#Для-проверки-корректности-всех-механизмов-и-расчётов-посмотрим,-находят-ли-статистические-критерии-разницу-между-выборками-246-и-247-(2-контрольные-группы-для-А/А-эксперимента).\" data-toc-modified-id=\"Для-проверки-корректности-всех-механизмов-и-расчётов-посмотрим,-находят-ли-статистические-критерии-разницу-между-выборками-246-и-247-(2-контрольные-группы-для-А/А-эксперимента).-6.2\"><span class=\"toc-item-num\">6.2&nbsp;&nbsp;</span>Для проверки корректности всех механизмов и расчётов посмотрим, находят ли статистические критерии разницу между выборками 246 и 247 (2 контрольные группы для А/А-эксперимента).</a></span></li><li><span><a href=\"#Проверим,-есть-ли-разница-между-группой-с-изменённым-шрифтом-и-каждой-контрольной-группой-в-отдельности,-а-также-между-группой-с-изменённым-шрифтом-и-объединённой-контрольной-группой.\" data-toc-modified-id=\"Проверим,-есть-ли-разница-между-группой-с-изменённым-шрифтом-и-каждой-контрольной-группой-в-отдельности,-а-также-между-группой-с-изменённым-шрифтом-и-объединённой-контрольной-группой.-6.3\"><span class=\"toc-item-num\">6.3&nbsp;&nbsp;</span>Проверим, есть ли разница между группой с изменённым шрифтом и каждой контрольной группой в отдельности, а также между группой с изменённым шрифтом и объединённой контрольной группой.</a></span></li><li><span><a href=\"#Вывод\" data-toc-modified-id=\"Вывод-6.4\"><span class=\"toc-item-num\">6.4&nbsp;&nbsp;</span>Вывод</a></span></li></ul></li></ul></div>"
   ]
  },
  {
   "cell_type": "markdown",
   "id": "18351d94",
   "metadata": {},
   "source": [
    "# Оценка, анализ количества пользователей, доходящих до покупки с помощью воронки событий. Проведение A/A/B-эксперимента для принятия решения по целесообразности нововведения (новый шрифт в приложении)"
   ]
  },
  {
   "cell_type": "markdown",
   "id": "ba6b2177",
   "metadata": {},
   "source": [
    "## Общие цели, этапы проекта"
   ]
  },
  {
   "cell_type": "markdown",
   "id": "3372b8f2",
   "metadata": {},
   "source": [
    "Мы работаем с данными стартапа, который продаёт продукты питания. Наша цель изучить поведение пользователей в мобильном приложении компании. Для этого мы выполним следующие шаги:  \n",
    "Изучим воронку продаж и путь пользователя до покупки. Определим, сколько пользователей доходит до покупки, а сколько — «застревает» на предыдущих шагах,на каких именно.  \n",
    "Исследуем результаты A/A/B-эксперимента. Дизайнеры захотели поменять шрифты. На основе 3 групп (2 контрольные со старыми шрифтами и одна экспериментальная — с новыми) выясним, какой шрифт лучше.\n"
   ]
  },
  {
   "cell_type": "markdown",
   "id": "4ca02876",
   "metadata": {},
   "source": [
    "## Обзор данных"
   ]
  },
  {
   "cell_type": "markdown",
   "id": "07c4e983",
   "metadata": {},
   "source": [
    "В нашем распоряжении лог с действиями пользователей, или событиями.  \n",
    "\n",
    "Каждая запись в логе — это действие пользователя, или событие.  \n",
    "EventName — название события;  \n",
    "DeviceIDHash — уникальный идентификатор пользователя;  \n",
    "EventTimestamp — время события;  \n",
    "ExpId — номер эксперимента: 246 и 247 — контрольные группы, а 248 — экспериментальная."
   ]
  },
  {
   "cell_type": "markdown",
   "id": "d2a70c40",
   "metadata": {},
   "source": [
    "### Откроем файл с данными и изучим общую информацию"
   ]
  },
  {
   "cell_type": "markdown",
   "id": "095e08fa",
   "metadata": {},
   "source": [
    "Импортируем библиотеки, которые могут понадобится"
   ]
  },
  {
   "cell_type": "code",
   "execution_count": 1,
   "id": "7a3c6ec0",
   "metadata": {},
   "outputs": [],
   "source": [
    "import pandas as pd\n",
    "import numpy as np\n",
    "import math as mth\n",
    "import datetime as dt\n",
    "from datetime import timedelta\n",
    "import matplotlib.pyplot as plt\n",
    "from pandas.plotting import register_matplotlib_converters\n",
    "import warnings\n",
    "# конвертеры, которые позволяют использовать типы pandas в matplotlib  \n",
    "register_matplotlib_converters()\n",
    "import scipy.stats as stats\n",
    "import os"
   ]
  },
  {
   "cell_type": "markdown",
   "id": "ac345e24",
   "metadata": {},
   "source": [
    "Загрузим датасет"
   ]
  },
  {
   "cell_type": "code",
   "execution_count": 2,
   "id": "285e3407",
   "metadata": {},
   "outputs": [],
   "source": [
    "pth_1 = 'C://Users//79111//OneDrive//Рабочий стол//My_Folders//Practicum//Сборный проект 2//logs_exp.csv'\n",
    "pth_2 = '/datasets/logs_exp.csv'\n",
    "\n",
    "if os.path.exists(pth_1):\n",
    "    query_1 = pd.read_csv(pth_1, sep='\\t')\n",
    "elif os.path.exists(pth2):\n",
    "    query_1 = pd.read_csv(pth_2, sep='\\t')\n",
    "else:\n",
    "    print('Something is wrong')"
   ]
  },
  {
   "cell_type": "code",
   "execution_count": 3,
   "id": "7f3ab021",
   "metadata": {},
   "outputs": [],
   "source": [
    "query_1 = pd.read_csv('https://code.s3.yandex.net/datasets/logs_exp.csv', sep='\\t')"
   ]
  },
  {
   "cell_type": "code",
   "execution_count": 4,
   "id": "9ce14499",
   "metadata": {},
   "outputs": [
    {
     "data": {
      "text/html": [
       "<div>\n",
       "<style scoped>\n",
       "    .dataframe tbody tr th:only-of-type {\n",
       "        vertical-align: middle;\n",
       "    }\n",
       "\n",
       "    .dataframe tbody tr th {\n",
       "        vertical-align: top;\n",
       "    }\n",
       "\n",
       "    .dataframe thead th {\n",
       "        text-align: right;\n",
       "    }\n",
       "</style>\n",
       "<table border=\"1\" class=\"dataframe\">\n",
       "  <thead>\n",
       "    <tr style=\"text-align: right;\">\n",
       "      <th></th>\n",
       "      <th>EventName</th>\n",
       "      <th>DeviceIDHash</th>\n",
       "      <th>EventTimestamp</th>\n",
       "      <th>ExpId</th>\n",
       "    </tr>\n",
       "  </thead>\n",
       "  <tbody>\n",
       "    <tr>\n",
       "      <th>0</th>\n",
       "      <td>MainScreenAppear</td>\n",
       "      <td>4575588528974610257</td>\n",
       "      <td>1564029816</td>\n",
       "      <td>246</td>\n",
       "    </tr>\n",
       "    <tr>\n",
       "      <th>1</th>\n",
       "      <td>MainScreenAppear</td>\n",
       "      <td>7416695313311560658</td>\n",
       "      <td>1564053102</td>\n",
       "      <td>246</td>\n",
       "    </tr>\n",
       "    <tr>\n",
       "      <th>2</th>\n",
       "      <td>PaymentScreenSuccessful</td>\n",
       "      <td>3518123091307005509</td>\n",
       "      <td>1564054127</td>\n",
       "      <td>248</td>\n",
       "    </tr>\n",
       "    <tr>\n",
       "      <th>3</th>\n",
       "      <td>CartScreenAppear</td>\n",
       "      <td>3518123091307005509</td>\n",
       "      <td>1564054127</td>\n",
       "      <td>248</td>\n",
       "    </tr>\n",
       "    <tr>\n",
       "      <th>4</th>\n",
       "      <td>PaymentScreenSuccessful</td>\n",
       "      <td>6217807653094995999</td>\n",
       "      <td>1564055322</td>\n",
       "      <td>248</td>\n",
       "    </tr>\n",
       "  </tbody>\n",
       "</table>\n",
       "</div>"
      ],
      "text/plain": [
       "                 EventName         DeviceIDHash  EventTimestamp  ExpId\n",
       "0         MainScreenAppear  4575588528974610257      1564029816    246\n",
       "1         MainScreenAppear  7416695313311560658      1564053102    246\n",
       "2  PaymentScreenSuccessful  3518123091307005509      1564054127    248\n",
       "3         CartScreenAppear  3518123091307005509      1564054127    248\n",
       "4  PaymentScreenSuccessful  6217807653094995999      1564055322    248"
      ]
     },
     "execution_count": 4,
     "metadata": {},
     "output_type": "execute_result"
    }
   ],
   "source": [
    "log = query_1\n",
    "log.head()"
   ]
  },
  {
   "cell_type": "code",
   "execution_count": 5,
   "id": "b0f06a3b",
   "metadata": {},
   "outputs": [
    {
     "name": "stdout",
     "output_type": "stream",
     "text": [
      "<class 'pandas.core.frame.DataFrame'>\n",
      "RangeIndex: 244126 entries, 0 to 244125\n",
      "Data columns (total 4 columns):\n",
      " #   Column          Non-Null Count   Dtype \n",
      "---  ------          --------------   ----- \n",
      " 0   EventName       244126 non-null  object\n",
      " 1   DeviceIDHash    244126 non-null  int64 \n",
      " 2   EventTimestamp  244126 non-null  int64 \n",
      " 3   ExpId           244126 non-null  int64 \n",
      "dtypes: int64(3), object(1)\n",
      "memory usage: 7.5+ MB\n"
     ]
    }
   ],
   "source": [
    "log.info()"
   ]
  },
  {
   "cell_type": "markdown",
   "id": "ffec509c",
   "metadata": {},
   "source": [
    "Общий обзор данных показывает нам необходимость, как минимум, одного действия: приведение даты к формату datetime.  \n",
    "Рассмотрим данные более детально. Для начала изменим названия столбцов на более удобные."
   ]
  },
  {
   "cell_type": "markdown",
   "id": "0a31bd1d",
   "metadata": {},
   "source": [
    "## Подготовка данных"
   ]
  },
  {
   "cell_type": "markdown",
   "id": "6a854eee",
   "metadata": {},
   "source": [
    "### Заменим названия столбцов"
   ]
  },
  {
   "cell_type": "code",
   "execution_count": 6,
   "id": "9f14b866",
   "metadata": {},
   "outputs": [
    {
     "data": {
      "text/html": [
       "<div>\n",
       "<style scoped>\n",
       "    .dataframe tbody tr th:only-of-type {\n",
       "        vertical-align: middle;\n",
       "    }\n",
       "\n",
       "    .dataframe tbody tr th {\n",
       "        vertical-align: top;\n",
       "    }\n",
       "\n",
       "    .dataframe thead th {\n",
       "        text-align: right;\n",
       "    }\n",
       "</style>\n",
       "<table border=\"1\" class=\"dataframe\">\n",
       "  <thead>\n",
       "    <tr style=\"text-align: right;\">\n",
       "      <th></th>\n",
       "      <th>event_name</th>\n",
       "      <th>user_id</th>\n",
       "      <th>date_time</th>\n",
       "      <th>exp_id</th>\n",
       "    </tr>\n",
       "  </thead>\n",
       "  <tbody>\n",
       "    <tr>\n",
       "      <th>0</th>\n",
       "      <td>MainScreenAppear</td>\n",
       "      <td>4575588528974610257</td>\n",
       "      <td>1564029816</td>\n",
       "      <td>246</td>\n",
       "    </tr>\n",
       "    <tr>\n",
       "      <th>1</th>\n",
       "      <td>MainScreenAppear</td>\n",
       "      <td>7416695313311560658</td>\n",
       "      <td>1564053102</td>\n",
       "      <td>246</td>\n",
       "    </tr>\n",
       "    <tr>\n",
       "      <th>2</th>\n",
       "      <td>PaymentScreenSuccessful</td>\n",
       "      <td>3518123091307005509</td>\n",
       "      <td>1564054127</td>\n",
       "      <td>248</td>\n",
       "    </tr>\n",
       "    <tr>\n",
       "      <th>3</th>\n",
       "      <td>CartScreenAppear</td>\n",
       "      <td>3518123091307005509</td>\n",
       "      <td>1564054127</td>\n",
       "      <td>248</td>\n",
       "    </tr>\n",
       "    <tr>\n",
       "      <th>4</th>\n",
       "      <td>PaymentScreenSuccessful</td>\n",
       "      <td>6217807653094995999</td>\n",
       "      <td>1564055322</td>\n",
       "      <td>248</td>\n",
       "    </tr>\n",
       "  </tbody>\n",
       "</table>\n",
       "</div>"
      ],
      "text/plain": [
       "                event_name              user_id   date_time  exp_id\n",
       "0         MainScreenAppear  4575588528974610257  1564029816     246\n",
       "1         MainScreenAppear  7416695313311560658  1564053102     246\n",
       "2  PaymentScreenSuccessful  3518123091307005509  1564054127     248\n",
       "3         CartScreenAppear  3518123091307005509  1564054127     248\n",
       "4  PaymentScreenSuccessful  6217807653094995999  1564055322     248"
      ]
     },
     "execution_count": 6,
     "metadata": {},
     "output_type": "execute_result"
    }
   ],
   "source": [
    "log = log.rename(\n",
    "    columns={'EventName': 'event_name', 'DeviceIDHash': 'user_id', 'EventTimestamp': 'date_time', 'ExpId': 'exp_id'}\n",
    ")\n",
    "log.head()"
   ]
  },
  {
   "cell_type": "markdown",
   "id": "9c50a580",
   "metadata": {},
   "source": [
    "Проверим данные на наличие пропусков."
   ]
  },
  {
   "cell_type": "code",
   "execution_count": 7,
   "id": "e37f065d",
   "metadata": {},
   "outputs": [
    {
     "data": {
      "text/plain": [
       "event_name    0\n",
       "user_id       0\n",
       "date_time     0\n",
       "exp_id        0\n",
       "dtype: int64"
      ]
     },
     "execution_count": 7,
     "metadata": {},
     "output_type": "execute_result"
    }
   ],
   "source": [
    "log.isna().sum()"
   ]
  },
  {
   "cell_type": "markdown",
   "id": "639fe3a6",
   "metadata": {},
   "source": [
    "Откорректируем тип данных в столбце с датой и временем, добавим отдельный столбец дат"
   ]
  },
  {
   "cell_type": "code",
   "execution_count": 8,
   "id": "647d4ed5",
   "metadata": {},
   "outputs": [
    {
     "data": {
      "text/html": [
       "<div>\n",
       "<style scoped>\n",
       "    .dataframe tbody tr th:only-of-type {\n",
       "        vertical-align: middle;\n",
       "    }\n",
       "\n",
       "    .dataframe tbody tr th {\n",
       "        vertical-align: top;\n",
       "    }\n",
       "\n",
       "    .dataframe thead th {\n",
       "        text-align: right;\n",
       "    }\n",
       "</style>\n",
       "<table border=\"1\" class=\"dataframe\">\n",
       "  <thead>\n",
       "    <tr style=\"text-align: right;\">\n",
       "      <th></th>\n",
       "      <th>event_name</th>\n",
       "      <th>user_id</th>\n",
       "      <th>date_time</th>\n",
       "      <th>exp_id</th>\n",
       "      <th>date</th>\n",
       "    </tr>\n",
       "  </thead>\n",
       "  <tbody>\n",
       "    <tr>\n",
       "      <th>0</th>\n",
       "      <td>MainScreenAppear</td>\n",
       "      <td>4575588528974610257</td>\n",
       "      <td>2019-07-25 04:43:36</td>\n",
       "      <td>246</td>\n",
       "      <td>2019-07-25</td>\n",
       "    </tr>\n",
       "    <tr>\n",
       "      <th>1</th>\n",
       "      <td>MainScreenAppear</td>\n",
       "      <td>7416695313311560658</td>\n",
       "      <td>2019-07-25 11:11:42</td>\n",
       "      <td>246</td>\n",
       "      <td>2019-07-25</td>\n",
       "    </tr>\n",
       "    <tr>\n",
       "      <th>2</th>\n",
       "      <td>PaymentScreenSuccessful</td>\n",
       "      <td>3518123091307005509</td>\n",
       "      <td>2019-07-25 11:28:47</td>\n",
       "      <td>248</td>\n",
       "      <td>2019-07-25</td>\n",
       "    </tr>\n",
       "    <tr>\n",
       "      <th>3</th>\n",
       "      <td>CartScreenAppear</td>\n",
       "      <td>3518123091307005509</td>\n",
       "      <td>2019-07-25 11:28:47</td>\n",
       "      <td>248</td>\n",
       "      <td>2019-07-25</td>\n",
       "    </tr>\n",
       "    <tr>\n",
       "      <th>4</th>\n",
       "      <td>PaymentScreenSuccessful</td>\n",
       "      <td>6217807653094995999</td>\n",
       "      <td>2019-07-25 11:48:42</td>\n",
       "      <td>248</td>\n",
       "      <td>2019-07-25</td>\n",
       "    </tr>\n",
       "  </tbody>\n",
       "</table>\n",
       "</div>"
      ],
      "text/plain": [
       "                event_name              user_id           date_time  exp_id  \\\n",
       "0         MainScreenAppear  4575588528974610257 2019-07-25 04:43:36     246   \n",
       "1         MainScreenAppear  7416695313311560658 2019-07-25 11:11:42     246   \n",
       "2  PaymentScreenSuccessful  3518123091307005509 2019-07-25 11:28:47     248   \n",
       "3         CartScreenAppear  3518123091307005509 2019-07-25 11:28:47     248   \n",
       "4  PaymentScreenSuccessful  6217807653094995999 2019-07-25 11:48:42     248   \n",
       "\n",
       "         date  \n",
       "0  2019-07-25  \n",
       "1  2019-07-25  \n",
       "2  2019-07-25  \n",
       "3  2019-07-25  \n",
       "4  2019-07-25  "
      ]
     },
     "execution_count": 8,
     "metadata": {},
     "output_type": "execute_result"
    }
   ],
   "source": [
    "log['date_time'] = pd.to_datetime(log['date_time'], unit='s')\n",
    "log['date'] = pd.to_datetime(log['date_time']).dt.date\n",
    "log.head()"
   ]
  },
  {
   "cell_type": "markdown",
   "id": "71574385",
   "metadata": {},
   "source": [
    "Проверим данные на явные дубликаты и удалим их, если есть"
   ]
  },
  {
   "cell_type": "code",
   "execution_count": 9,
   "id": "dbdd8366",
   "metadata": {},
   "outputs": [
    {
     "name": "stdout",
     "output_type": "stream",
     "text": [
      "Явных дубликатов: 413\n",
      "Всего строк: 244126\n"
     ]
    }
   ],
   "source": [
    "print('Явных дубликатов:', log.duplicated().sum())\n",
    "print('Всего строк:', log.shape[0] )"
   ]
  },
  {
   "cell_type": "markdown",
   "id": "035070c7",
   "metadata": {},
   "source": [
    "Процент дубликатов составляет менее 1%. Удалим их"
   ]
  },
  {
   "cell_type": "code",
   "execution_count": 10,
   "id": "f7e13da4",
   "metadata": {},
   "outputs": [
    {
     "data": {
      "text/plain": [
       "0"
      ]
     },
     "execution_count": 10,
     "metadata": {},
     "output_type": "execute_result"
    }
   ],
   "source": [
    "log = log.drop_duplicates().reset_index(drop=True)\n",
    "log.duplicated().sum()"
   ]
  },
  {
   "cell_type": "markdown",
   "id": "dc6b7229",
   "metadata": {},
   "source": [
    "## Изучение и проверка данных"
   ]
  },
  {
   "cell_type": "markdown",
   "id": "e30d3710",
   "metadata": {},
   "source": [
    "### Посмотрим, сколько всего событий в логе"
   ]
  },
  {
   "cell_type": "code",
   "execution_count": 11,
   "id": "de22c9e4",
   "metadata": {},
   "outputs": [
    {
     "data": {
      "text/plain": [
       "5"
      ]
     },
     "execution_count": 11,
     "metadata": {},
     "output_type": "execute_result"
    }
   ],
   "source": [
    "log['event_name'].nunique()"
   ]
  },
  {
   "cell_type": "markdown",
   "id": "40172d9c",
   "metadata": {},
   "source": [
    "### Видим, что всего в логе 5 событий. Посмотрим, какие"
   ]
  },
  {
   "cell_type": "code",
   "execution_count": 12,
   "id": "4c9c913b",
   "metadata": {},
   "outputs": [
    {
     "data": {
      "text/plain": [
       "array(['MainScreenAppear', 'PaymentScreenSuccessful', 'CartScreenAppear',\n",
       "       'OffersScreenAppear', 'Tutorial'], dtype=object)"
      ]
     },
     "execution_count": 12,
     "metadata": {},
     "output_type": "execute_result"
    }
   ],
   "source": [
    "log['event_name'].unique()"
   ]
  },
  {
   "cell_type": "markdown",
   "id": "376d9a41",
   "metadata": {},
   "source": [
    "### Посмотрим, сколько всего пользователей в логе"
   ]
  },
  {
   "cell_type": "code",
   "execution_count": 13,
   "id": "a6eeaf44",
   "metadata": {
    "scrolled": true
   },
   "outputs": [
    {
     "name": "stdout",
     "output_type": "stream",
     "text": [
      "Всего в логе 7551 пользователь.\n"
     ]
    }
   ],
   "source": [
    "print(f'Всего в логе {log[\"user_id\"].nunique()} пользователь.')"
   ]
  },
  {
   "cell_type": "markdown",
   "id": "df5d1d91",
   "metadata": {},
   "source": [
    "### Посмотрим, сколько в среднем событий приходится на пользователя"
   ]
  },
  {
   "cell_type": "markdown",
   "id": "c2226769",
   "metadata": {},
   "source": [
    "Прежде, чем переходить к рассчёту среднего, посмотрим, есть ли выбросы. Для этого будем использовать boxplot (ящик с усами)."
   ]
  },
  {
   "cell_type": "code",
   "execution_count": 14,
   "id": "2fb6f814",
   "metadata": {},
   "outputs": [
    {
     "data": {
      "image/png": "[encoded data removed]",
      "text/plain": [
       "<Figure size 1296x360 with 1 Axes>"
      ]
     },
     "metadata": {
      "needs_background": "light"
     },
     "output_type": "display_data"
    }
   ],
   "source": [
    "plt.figure(figsize=(18,5))\n",
    "log.groupby('user_id').agg({'event_name': 'value_counts'}).boxplot(vert=False, rot=45)\n",
    "plt.xticks(rotation=45)\n",
    "plt.xlabel('Количество событий на пользователя', fontsize=12)\n",
    "plt.ylabel('События', fontsize=12)\n",
    "plt.title('Число событий на пользователя', fontsize=14)\n",
    "plt.show()"
   ]
  },
  {
   "cell_type": "markdown",
   "id": "0ff34900",
   "metadata": {},
   "source": [
    "По boxplot мы видим, что у нас на основное число пользователей приходится по нескольку десятков событий максимум, но также есть сильные выбросы. Выбросы влияют больше всего на среднее и почти не влияют на медиану. Рассчитаем среднее, а затем медиану."
   ]
  },
  {
   "cell_type": "code",
   "execution_count": 15,
   "id": "3c2a2284",
   "metadata": {
    "scrolled": true
   },
   "outputs": [
    {
     "name": "stdout",
     "output_type": "stream",
     "text": [
      "В среднем на пользователя приходится событий: 32.28\n"
     ]
    }
   ],
   "source": [
    "avg_events_per_user = round(log.groupby('user_id')['event_name'].count().mean(), 2)\n",
    "print('В среднем на пользователя приходится событий:', avg_events_per_user)"
   ]
  },
  {
   "cell_type": "code",
   "execution_count": 16,
   "id": "b368a1d2",
   "metadata": {},
   "outputs": [
    {
     "name": "stdout",
     "output_type": "stream",
     "text": [
      "Медианное число событий на пользователя: 20.0\n"
     ]
    }
   ],
   "source": [
    "print(f'Медианное число событий на пользователя: {round(log.groupby(\"user_id\")[\"event_name\"].count().median(), 2)}')"
   ]
  },
  {
   "cell_type": "markdown",
   "id": "138462b9",
   "metadata": {},
   "source": [
    "Мы получили 32 события в среднем и 20 событий при рассчёте медианы. Учитывая количество выбросов, которое мы видим на boxplot, ориентироваться стоит на медиану. В дальнейшем будем убирать выбросы."
   ]
  },
  {
   "cell_type": "markdown",
   "id": "8f1cd22a",
   "metadata": {},
   "source": [
    "### Посмотрим, данными за какой период мы располагаем"
   ]
  },
  {
   "cell_type": "markdown",
   "id": "93b356e6",
   "metadata": {},
   "source": [
    "Найдём максимальную и минимальную даты."
   ]
  },
  {
   "cell_type": "code",
   "execution_count": 17,
   "id": "37d962e9",
   "metadata": {},
   "outputs": [
    {
     "data": {
      "text/plain": [
       "datetime.date(2019, 7, 25)"
      ]
     },
     "metadata": {},
     "output_type": "display_data"
    },
    {
     "data": {
      "text/plain": [
       "datetime.date(2019, 8, 7)"
      ]
     },
     "metadata": {},
     "output_type": "display_data"
    }
   ],
   "source": [
    "display(log['date'].min(), log['date'].max())"
   ]
  },
  {
   "cell_type": "markdown",
   "id": "74960a21",
   "metadata": {},
   "source": [
    "В нашем распоряжении данные с 25 июля 2019 года по 7 августа 2019 года.  \n",
    "Построим гистограмму по дате и времени"
   ]
  },
  {
   "cell_type": "code",
   "execution_count": 18,
   "id": "50a9a853",
   "metadata": {},
   "outputs": [
    {
     "data": {
      "image/png": "[encoded data removed]",
      "text/plain": [
       "<Figure size 720x504 with 1 Axes>"
      ]
     },
     "metadata": {
      "needs_background": "light"
     },
     "output_type": "display_data"
    }
   ],
   "source": [
    "plt.figure(figsize=(10,7))\n",
    "log['date_time'].hist(bins=7*24)\n",
    "plt.xlabel('Даты')\n",
    "plt.ylabel('Количество событий')\n",
    "plt.title('Гистограмма по дате и времени')\n",
    "plt.show()"
   ]
  },
  {
   "cell_type": "markdown",
   "id": "7d78332c",
   "metadata": {},
   "source": [
    "По гистограмме мы видим, что за период 25.07-01.08.2019 у нас практически нет данных. Посмотрим на распределение при изменённом диапазоне."
   ]
  },
  {
   "cell_type": "code",
   "execution_count": 19,
   "id": "b515baf5",
   "metadata": {},
   "outputs": [
    {
     "data": {
      "image/png": "[encoded data removed]",
      "text/plain": [
       "<Figure size 720x432 with 1 Axes>"
      ]
     },
     "metadata": {
      "needs_background": "light"
     },
     "output_type": "display_data"
    }
   ],
   "source": [
    "plt.figure(figsize=(10,6))\n",
    "log['date_time'].hist(range=('2019-08-01', '2019-08-07'), bins=7*24)\n",
    "plt.xlabel('Даты')\n",
    "plt.ylabel('Количество событий')\n",
    "plt.title('Гистограмма по дате и времени с 01.08.2019')\n",
    "plt.show()"
   ]
  },
  {
   "cell_type": "markdown",
   "id": "9608b5f3",
   "metadata": {},
   "source": [
    "По гистограмме можно сделать вывод, что в период с 25.07 по 01.08 в лог попали последние этапы событий, данные были не полными. Оставим данные, начиная с 1 августа. Таким образом у нас будет воронка со всеми событиями. "
   ]
  },
  {
   "cell_type": "code",
   "execution_count": 20,
   "id": "6777ae01",
   "metadata": {
    "scrolled": true
   },
   "outputs": [],
   "source": [
    "log_upd = log[log['date_time'] >= '2019-08-01']"
   ]
  },
  {
   "cell_type": "markdown",
   "id": "f6595df2",
   "metadata": {},
   "source": [
    "### Посмотрим, много ли событий и пользователей мы потеряли, отбросив старые данные"
   ]
  },
  {
   "cell_type": "code",
   "execution_count": 21,
   "id": "4f8e7744",
   "metadata": {},
   "outputs": [
    {
     "name": "stdout",
     "output_type": "stream",
     "text": [
      "Всего в логе 7534 пользователя.\n"
     ]
    }
   ],
   "source": [
    "print(f'Всего в логе {log_upd[\"user_id\"].nunique()} пользователя.')"
   ]
  },
  {
   "cell_type": "code",
   "execution_count": 22,
   "id": "144c38f0",
   "metadata": {},
   "outputs": [
    {
     "name": "stdout",
     "output_type": "stream",
     "text": [
      "В среднем на пользователя приходится событий: 31.97\n"
     ]
    }
   ],
   "source": [
    "print('В среднем на пользователя приходится событий:', round(log_upd.groupby('user_id')['event_name'].count().mean(), 2))"
   ]
  },
  {
   "cell_type": "markdown",
   "id": "f92ab212",
   "metadata": {},
   "source": [
    "До удаления периода с неполными данными у нас было 7551 пользователей и в среднем 32.28 события на пользовталея. После удаления - 7534 пользователя, 31.97 события на пользователя. Потери минимальные.  \n",
    "Рассчитаем доли пользователей и событий, которые мы потеряли."
   ]
  },
  {
   "cell_type": "code",
   "execution_count": 23,
   "id": "9a00b24c",
   "metadata": {},
   "outputs": [
    {
     "name": "stdout",
     "output_type": "stream",
     "text": [
      "После удаления периода с неполными данными мы потеряли 0.2% пользователей\n"
     ]
    }
   ],
   "source": [
    "print(\n",
    "f'После удаления периода с неполными данными мы потеряли \\\n",
    "{round((log[\"user_id\"].nunique() - log_upd[\"user_id\"].nunique()) / log[\"user_id\"].nunique() *100, 1)}% пользователей'\n",
    ")"
   ]
  },
  {
   "cell_type": "code",
   "execution_count": 24,
   "id": "903166c0",
   "metadata": {},
   "outputs": [
    {
     "name": "stdout",
     "output_type": "stream",
     "text": [
      "После удаления периода с неполными данными мы потеряли 1.2% событий\n"
     ]
    }
   ],
   "source": [
    "print(f'После удаления периода с неполными данными мы потеряли \\\n",
    "{round((log[\"event_name\"].value_counts().sum(axis=0) - log_upd[\"event_name\"].value_counts().sum(axis=0)) / log[\"event_name\"].value_counts().sum(axis=0) *100, 1)}% событий'\n",
    ")"
   ]
  },
  {
   "cell_type": "markdown",
   "id": "967657cf",
   "metadata": {},
   "source": [
    "В процентах мы видим, что потери в пользователях - меньше 1%, в событиях - чуть больше 1%. Потери допустимы."
   ]
  },
  {
   "cell_type": "markdown",
   "id": "bf8b27cf",
   "metadata": {},
   "source": [
    "### Проверим, что у нас есть пользователи из всех трёх экспериментальных групп."
   ]
  },
  {
   "cell_type": "code",
   "execution_count": 25,
   "id": "5ee3e159",
   "metadata": {},
   "outputs": [
    {
     "data": {
      "text/html": [
       "<div>\n",
       "<style scoped>\n",
       "    .dataframe tbody tr th:only-of-type {\n",
       "        vertical-align: middle;\n",
       "    }\n",
       "\n",
       "    .dataframe tbody tr th {\n",
       "        vertical-align: top;\n",
       "    }\n",
       "\n",
       "    .dataframe thead th {\n",
       "        text-align: right;\n",
       "    }\n",
       "</style>\n",
       "<table border=\"1\" class=\"dataframe\">\n",
       "  <thead>\n",
       "    <tr style=\"text-align: right;\">\n",
       "      <th></th>\n",
       "      <th>exp_id</th>\n",
       "      <th>user_id</th>\n",
       "    </tr>\n",
       "  </thead>\n",
       "  <tbody>\n",
       "    <tr>\n",
       "      <th>0</th>\n",
       "      <td>246</td>\n",
       "      <td>2484</td>\n",
       "    </tr>\n",
       "    <tr>\n",
       "      <th>1</th>\n",
       "      <td>247</td>\n",
       "      <td>2513</td>\n",
       "    </tr>\n",
       "    <tr>\n",
       "      <th>2</th>\n",
       "      <td>248</td>\n",
       "      <td>2537</td>\n",
       "    </tr>\n",
       "  </tbody>\n",
       "</table>\n",
       "</div>"
      ],
      "text/plain": [
       "   exp_id  user_id\n",
       "0     246     2484\n",
       "1     247     2513\n",
       "2     248     2537"
      ]
     },
     "execution_count": 25,
     "metadata": {},
     "output_type": "execute_result"
    }
   ],
   "source": [
    "log_upd.groupby('exp_id', as_index=False).agg({'user_id': 'nunique'})"
   ]
  },
  {
   "cell_type": "markdown",
   "id": "1e1d385c",
   "metadata": {},
   "source": [
    "Из технического задания мы знаем, что у нас должны быть 3 группы (246 и 247 — контрольные группы, 248 — экспериментальная). По таблице выше мы видим, что после удаления периода с неполными данными у нас остались пользователи из всех 3 групп, распределение по которым кажется достаточно равномерным на первый взгляд.  \n",
    "Поскольку дальше нам предстоит А/А/В-тест, посмотрим распределение пользователей по группам."
   ]
  },
  {
   "cell_type": "code",
   "execution_count": 26,
   "id": "a5fd36c0",
   "metadata": {},
   "outputs": [
    {
     "data": {
      "text/plain": [
       "exp_id\n",
       "1         7534\n",
       "dtype: int64"
      ]
     },
     "execution_count": 26,
     "metadata": {},
     "output_type": "execute_result"
    }
   ],
   "source": [
    "log_upd.groupby('user_id').agg({'exp_id': 'nunique'}).value_counts()"
   ]
  },
  {
   "cell_type": "markdown",
   "id": "08656865",
   "metadata": {},
   "source": [
    "Видим, что у нас нет пользователей, попавших в несколько групп одновременно. Значит искажений в результатах эксперимента не должно быть."
   ]
  },
  {
   "cell_type": "markdown",
   "id": "048b8a6e",
   "metadata": {},
   "source": [
    "## Воронка событий"
   ]
  },
  {
   "cell_type": "markdown",
   "id": "93343fcc",
   "metadata": {},
   "source": [
    "### Посмотрим, какие события есть в логах, как часто они встречаются. Отсортируем события по частоте."
   ]
  },
  {
   "cell_type": "code",
   "execution_count": 27,
   "id": "0b8c87f5",
   "metadata": {},
   "outputs": [
    {
     "data": {
      "text/plain": [
       "MainScreenAppear           117328\n",
       "OffersScreenAppear          46333\n",
       "CartScreenAppear            42303\n",
       "PaymentScreenSuccessful     33918\n",
       "Tutorial                     1005\n",
       "Name: event_name, dtype: int64"
      ]
     },
     "execution_count": 27,
     "metadata": {},
     "output_type": "execute_result"
    }
   ],
   "source": [
    "log_upd['event_name'].value_counts().sort_values(ascending=False)"
   ]
  },
  {
   "cell_type": "markdown",
   "id": "dbd50b4f",
   "metadata": {},
   "source": [
    "Видим, что чаще всего встречается событие MainScreenAppear, реже всего - Tutorial. Также сразу бросается в глаза большая разница между MainScreenAppear и PaymentScreenSuccessful."
   ]
  },
  {
   "cell_type": "markdown",
   "id": "5db81e36",
   "metadata": {},
   "source": [
    "### Посчитаем, сколько пользователей совершали каждое из этих событий. Отсортируем события по числу пользователей. Посчитаем долю пользователей, которые хоть раз совершали событие."
   ]
  },
  {
   "cell_type": "code",
   "execution_count": 28,
   "id": "add12874",
   "metadata": {},
   "outputs": [
    {
     "data": {
      "text/html": [
       "<div>\n",
       "<style scoped>\n",
       "    .dataframe tbody tr th:only-of-type {\n",
       "        vertical-align: middle;\n",
       "    }\n",
       "\n",
       "    .dataframe tbody tr th {\n",
       "        vertical-align: top;\n",
       "    }\n",
       "\n",
       "    .dataframe thead th {\n",
       "        text-align: right;\n",
       "    }\n",
       "</style>\n",
       "<table border=\"1\" class=\"dataframe\">\n",
       "  <thead>\n",
       "    <tr style=\"text-align: right;\">\n",
       "      <th></th>\n",
       "      <th>event_name</th>\n",
       "      <th>total_users</th>\n",
       "      <th>share</th>\n",
       "    </tr>\n",
       "  </thead>\n",
       "  <tbody>\n",
       "    <tr>\n",
       "      <th>0</th>\n",
       "      <td>MainScreenAppear</td>\n",
       "      <td>7419</td>\n",
       "      <td>98.47</td>\n",
       "    </tr>\n",
       "    <tr>\n",
       "      <th>1</th>\n",
       "      <td>OffersScreenAppear</td>\n",
       "      <td>4593</td>\n",
       "      <td>60.96</td>\n",
       "    </tr>\n",
       "    <tr>\n",
       "      <th>2</th>\n",
       "      <td>CartScreenAppear</td>\n",
       "      <td>3734</td>\n",
       "      <td>49.56</td>\n",
       "    </tr>\n",
       "    <tr>\n",
       "      <th>3</th>\n",
       "      <td>PaymentScreenSuccessful</td>\n",
       "      <td>3539</td>\n",
       "      <td>46.97</td>\n",
       "    </tr>\n",
       "    <tr>\n",
       "      <th>4</th>\n",
       "      <td>Tutorial</td>\n",
       "      <td>840</td>\n",
       "      <td>11.15</td>\n",
       "    </tr>\n",
       "  </tbody>\n",
       "</table>\n",
       "</div>"
      ],
      "text/plain": [
       "                event_name  total_users  share\n",
       "0         MainScreenAppear         7419  98.47\n",
       "1       OffersScreenAppear         4593  60.96\n",
       "2         CartScreenAppear         3734  49.56\n",
       "3  PaymentScreenSuccessful         3539  46.97\n",
       "4                 Tutorial          840  11.15"
      ]
     },
     "execution_count": 28,
     "metadata": {},
     "output_type": "execute_result"
    }
   ],
   "source": [
    "event_user_count = (\n",
    "        log_upd.groupby('event_name', as_index=False)\n",
    "    .agg({'user_id': 'nunique'})\n",
    ".sort_values(by='user_id', ascending=False)\n",
    ".rename(columns={'event_name':'event_name', 'user_id': 'total_users'})\n",
    "    .reset_index(drop=True)\n",
    ")\n",
    "event_user_count['share'] = (event_user_count['total_users'] / log_upd['user_id'].nunique() * 100).round(2)\n",
    "event_user_count\n"
   ]
  },
  {
   "cell_type": "markdown",
   "id": "eaf78e76",
   "metadata": {},
   "source": [
    "Мы посчитали, сколько пользователей совершали каждое событие, порядок убывания по числу пользователей совпадает с порадком по частоте встречаемости.  \n",
    "Также мы рассчитали долю пользователей, которые хоть раз совершали событие. Основной экран (MainScreenAppear) видели 98%, совершали оплату (PaymentScreenSuccessful) 47%, обучение (Tutorial) проходили лишь 11%.  "
   ]
  },
  {
   "cell_type": "markdown",
   "id": "1bea8e6b",
   "metadata": {},
   "source": [
    "Можно предположить, что путь до приобретения товара выглядит так:\n",
    "- MainScreenAppear  \n",
    "- OffersScreenAppear\n",
    "- CartScreenAppear\n",
    "- PaymentScreenSuccessful  \n",
    "\n",
    "Логично предположить, что Tutorial\tдолжен встречаться где-то в самом начале, возможно, до основного экрана (MainScreenAppear). Но, судя по цифрам, большинство пользователей его пропускает. Плюс Tutorial необязателен для покупки - не будем учитывать его при построении воронки.\n",
    "Последовательность событий мы выстраивали, исходя из количество совершивших событие; от большего к меньшему."
   ]
  },
  {
   "cell_type": "markdown",
   "id": "2ba54009",
   "metadata": {},
   "source": [
    "### По воронке событий посчитаем, какая доля пользователей проходит на следующий шаг воронки (от числа пользователей на предыдущем). "
   ]
  },
  {
   "cell_type": "code",
   "execution_count": 29,
   "id": "2e7b1991",
   "metadata": {
    "scrolled": true
   },
   "outputs": [
    {
     "data": {
      "text/html": [
       "<div>\n",
       "<style scoped>\n",
       "    .dataframe tbody tr th:only-of-type {\n",
       "        vertical-align: middle;\n",
       "    }\n",
       "\n",
       "    .dataframe tbody tr th {\n",
       "        vertical-align: top;\n",
       "    }\n",
       "\n",
       "    .dataframe thead th {\n",
       "        text-align: right;\n",
       "    }\n",
       "</style>\n",
       "<table border=\"1\" class=\"dataframe\">\n",
       "  <thead>\n",
       "    <tr style=\"text-align: right;\">\n",
       "      <th></th>\n",
       "      <th>event_name</th>\n",
       "      <th>total_users</th>\n",
       "      <th>share</th>\n",
       "    </tr>\n",
       "  </thead>\n",
       "  <tbody>\n",
       "    <tr>\n",
       "      <th>0</th>\n",
       "      <td>MainScreenAppear</td>\n",
       "      <td>7419</td>\n",
       "      <td>98.47</td>\n",
       "    </tr>\n",
       "    <tr>\n",
       "      <th>1</th>\n",
       "      <td>OffersScreenAppear</td>\n",
       "      <td>4593</td>\n",
       "      <td>60.96</td>\n",
       "    </tr>\n",
       "    <tr>\n",
       "      <th>2</th>\n",
       "      <td>CartScreenAppear</td>\n",
       "      <td>3734</td>\n",
       "      <td>49.56</td>\n",
       "    </tr>\n",
       "    <tr>\n",
       "      <th>3</th>\n",
       "      <td>PaymentScreenSuccessful</td>\n",
       "      <td>3539</td>\n",
       "      <td>46.97</td>\n",
       "    </tr>\n",
       "  </tbody>\n",
       "</table>\n",
       "</div>"
      ],
      "text/plain": [
       "                event_name  total_users  share\n",
       "0         MainScreenAppear         7419  98.47\n",
       "1       OffersScreenAppear         4593  60.96\n",
       "2         CartScreenAppear         3734  49.56\n",
       "3  PaymentScreenSuccessful         3539  46.97"
      ]
     },
     "execution_count": 29,
     "metadata": {},
     "output_type": "execute_result"
    }
   ],
   "source": [
    "# Удалим строку с Tutorial\n",
    "event_user_count = event_user_count.drop(4)\n",
    "event_user_count"
   ]
  },
  {
   "cell_type": "code",
   "execution_count": 30,
   "id": "620c0299",
   "metadata": {},
   "outputs": [
    {
     "data": {
      "text/html": [
       "<div>\n",
       "<style scoped>\n",
       "    .dataframe tbody tr th:only-of-type {\n",
       "        vertical-align: middle;\n",
       "    }\n",
       "\n",
       "    .dataframe tbody tr th {\n",
       "        vertical-align: top;\n",
       "    }\n",
       "\n",
       "    .dataframe thead th {\n",
       "        text-align: right;\n",
       "    }\n",
       "</style>\n",
       "<table border=\"1\" class=\"dataframe\">\n",
       "  <thead>\n",
       "    <tr style=\"text-align: right;\">\n",
       "      <th></th>\n",
       "      <th>event_name</th>\n",
       "      <th>total_users</th>\n",
       "      <th>share</th>\n",
       "      <th>step_share</th>\n",
       "    </tr>\n",
       "  </thead>\n",
       "  <tbody>\n",
       "    <tr>\n",
       "      <th>0</th>\n",
       "      <td>MainScreenAppear</td>\n",
       "      <td>7419</td>\n",
       "      <td>98.47</td>\n",
       "      <td>100.00</td>\n",
       "    </tr>\n",
       "    <tr>\n",
       "      <th>1</th>\n",
       "      <td>OffersScreenAppear</td>\n",
       "      <td>4593</td>\n",
       "      <td>60.96</td>\n",
       "      <td>61.91</td>\n",
       "    </tr>\n",
       "    <tr>\n",
       "      <th>2</th>\n",
       "      <td>CartScreenAppear</td>\n",
       "      <td>3734</td>\n",
       "      <td>49.56</td>\n",
       "      <td>81.30</td>\n",
       "    </tr>\n",
       "    <tr>\n",
       "      <th>3</th>\n",
       "      <td>PaymentScreenSuccessful</td>\n",
       "      <td>3539</td>\n",
       "      <td>46.97</td>\n",
       "      <td>94.78</td>\n",
       "    </tr>\n",
       "  </tbody>\n",
       "</table>\n",
       "</div>"
      ],
      "text/plain": [
       "                event_name  total_users  share  step_share\n",
       "0         MainScreenAppear         7419  98.47      100.00\n",
       "1       OffersScreenAppear         4593  60.96       61.91\n",
       "2         CartScreenAppear         3734  49.56       81.30\n",
       "3  PaymentScreenSuccessful         3539  46.97       94.78"
      ]
     },
     "execution_count": 30,
     "metadata": {},
     "output_type": "execute_result"
    }
   ],
   "source": [
    "# Посчитаем долю переходящих с шага на шаг\n",
    "event_user_count['step_share'] = round(\n",
    "    event_user_count['total_users'] / event_user_count['total_users'].shift(periods=1).fillna(event_user_count['total_users']) * 100, 2\n",
    ")\n",
    "event_user_count"
   ]
  },
  {
   "cell_type": "markdown",
   "id": "226a3926",
   "metadata": {},
   "source": [
    "Мы получили таблицу, в которой видим долю пользователей от общего количества, совершивших каждое событие (share). А также долю пользователей, перешедших с шага на следующий (step_share).  \n",
    "Больше всего пользователей мы теряем на шаге MainScreenAppear: до следующего шага (OffersScreenAppear) доходят только 62% пользователей.  \n"
   ]
  },
  {
   "cell_type": "markdown",
   "id": "cac883c8",
   "metadata": {},
   "source": [
    "Посчитаем, какая доля пользователей доходит от первого события до оплаты."
   ]
  },
  {
   "cell_type": "code",
   "execution_count": 32,
   "id": "c935366f",
   "metadata": {},
   "outputs": [
    {
     "name": "stdout",
     "output_type": "stream",
     "text": [
      "Доля пользователей, которые доходит от первого события до оплаты: 0.48\n"
     ]
    }
   ],
   "source": [
    "paid = round(event_user_count['total_users'][3] / event_user_count['total_users'][0], 2)\n",
    "print('Доля пользователей, которые доходит от первого события до оплаты:', paid)"
   ]
  },
  {
   "cell_type": "markdown",
   "id": "05f27876",
   "metadata": {},
   "source": [
    "Мы видим, что от первого события до оплаты доходит 48%."
   ]
  },
  {
   "cell_type": "markdown",
   "id": "8b7cdbbe",
   "metadata": {},
   "source": [
    "## Результаты эксперимента"
   ]
  },
  {
   "cell_type": "markdown",
   "id": "435050c1",
   "metadata": {},
   "source": [
    "### Посмотрим, сколько пользователей в каждой экспериментальной группе"
   ]
  },
  {
   "cell_type": "code",
   "execution_count": 33,
   "id": "ce17ad29",
   "metadata": {},
   "outputs": [
    {
     "data": {
      "text/html": [
       "<div>\n",
       "<style scoped>\n",
       "    .dataframe tbody tr th:only-of-type {\n",
       "        vertical-align: middle;\n",
       "    }\n",
       "\n",
       "    .dataframe tbody tr th {\n",
       "        vertical-align: top;\n",
       "    }\n",
       "\n",
       "    .dataframe thead th {\n",
       "        text-align: right;\n",
       "    }\n",
       "</style>\n",
       "<table border=\"1\" class=\"dataframe\">\n",
       "  <thead>\n",
       "    <tr style=\"text-align: right;\">\n",
       "      <th></th>\n",
       "      <th>exp_id</th>\n",
       "      <th>user_id</th>\n",
       "    </tr>\n",
       "  </thead>\n",
       "  <tbody>\n",
       "    <tr>\n",
       "      <th>0</th>\n",
       "      <td>246</td>\n",
       "      <td>2484</td>\n",
       "    </tr>\n",
       "    <tr>\n",
       "      <th>1</th>\n",
       "      <td>247</td>\n",
       "      <td>2513</td>\n",
       "    </tr>\n",
       "    <tr>\n",
       "      <th>2</th>\n",
       "      <td>248</td>\n",
       "      <td>2537</td>\n",
       "    </tr>\n",
       "  </tbody>\n",
       "</table>\n",
       "</div>"
      ],
      "text/plain": [
       "   exp_id  user_id\n",
       "0     246     2484\n",
       "1     247     2513\n",
       "2     248     2537"
      ]
     },
     "execution_count": 33,
     "metadata": {},
     "output_type": "execute_result"
    }
   ],
   "source": [
    "log_upd.groupby('exp_id', as_index=False).agg({'user_id': 'nunique'})"
   ]
  },
  {
   "cell_type": "markdown",
   "id": "8932e240",
   "metadata": {},
   "source": [
    "Распределение более менее равномерное. Выше мы уже убедились, что каждый из пользователей попал только в 1 группу."
   ]
  },
  {
   "cell_type": "markdown",
   "id": "8e132824",
   "metadata": {},
   "source": [
    "### Для проверки корректности всех механизмов и расчётов посмотрим, находят ли статистические критерии разницу между выборками 246 и 247 (2 контрольные группы для А/А-эксперимента)."
   ]
  },
  {
   "cell_type": "markdown",
   "id": "ee0c7ee8",
   "metadata": {},
   "source": [
    "Для начала уберём Tutorial, отфильтруем датасет по группам."
   ]
  },
  {
   "cell_type": "code",
   "execution_count": 34,
   "id": "b44f1ea6",
   "metadata": {},
   "outputs": [],
   "source": [
    "a_a_log = log_upd[log_upd['event_name'] != 'Tutorial'].reset_index(drop=True)"
   ]
  },
  {
   "cell_type": "markdown",
   "id": "58e813a1",
   "metadata": {},
   "source": [
    "Выдвинем гипотезы:  \n",
    "Но: доли выборок равны  \n",
    "Н1: доли выборок не равны.   \n",
    "Перейдём к проверке. Посмотрим самое популярное событие в группах."
   ]
  },
  {
   "cell_type": "code",
   "execution_count": 35,
   "id": "684a04a8",
   "metadata": {
    "scrolled": true
   },
   "outputs": [
    {
     "data": {
      "text/html": [
       "<div>\n",
       "<style scoped>\n",
       "    .dataframe tbody tr th:only-of-type {\n",
       "        vertical-align: middle;\n",
       "    }\n",
       "\n",
       "    .dataframe tbody tr th {\n",
       "        vertical-align: top;\n",
       "    }\n",
       "\n",
       "    .dataframe thead th {\n",
       "        text-align: right;\n",
       "    }\n",
       "</style>\n",
       "<table border=\"1\" class=\"dataframe\">\n",
       "  <thead>\n",
       "    <tr style=\"text-align: right;\">\n",
       "      <th></th>\n",
       "      <th>event_name</th>\n",
       "      <th>exp_id</th>\n",
       "      <th>users_count</th>\n",
       "    </tr>\n",
       "  </thead>\n",
       "  <tbody>\n",
       "    <tr>\n",
       "      <th>0</th>\n",
       "      <td>MainScreenAppear</td>\n",
       "      <td>248</td>\n",
       "      <td>2493</td>\n",
       "    </tr>\n",
       "    <tr>\n",
       "      <th>1</th>\n",
       "      <td>OffersScreenAppear</td>\n",
       "      <td>248</td>\n",
       "      <td>1531</td>\n",
       "    </tr>\n",
       "    <tr>\n",
       "      <th>2</th>\n",
       "      <td>CartScreenAppear</td>\n",
       "      <td>248</td>\n",
       "      <td>1230</td>\n",
       "    </tr>\n",
       "    <tr>\n",
       "      <th>3</th>\n",
       "      <td>PaymentScreenSuccessful</td>\n",
       "      <td>248</td>\n",
       "      <td>1181</td>\n",
       "    </tr>\n",
       "    <tr>\n",
       "      <th>4</th>\n",
       "      <td>MainScreenAppear</td>\n",
       "      <td>247</td>\n",
       "      <td>2476</td>\n",
       "    </tr>\n",
       "    <tr>\n",
       "      <th>5</th>\n",
       "      <td>OffersScreenAppear</td>\n",
       "      <td>247</td>\n",
       "      <td>1520</td>\n",
       "    </tr>\n",
       "    <tr>\n",
       "      <th>6</th>\n",
       "      <td>CartScreenAppear</td>\n",
       "      <td>247</td>\n",
       "      <td>1238</td>\n",
       "    </tr>\n",
       "    <tr>\n",
       "      <th>7</th>\n",
       "      <td>PaymentScreenSuccessful</td>\n",
       "      <td>247</td>\n",
       "      <td>1158</td>\n",
       "    </tr>\n",
       "    <tr>\n",
       "      <th>8</th>\n",
       "      <td>MainScreenAppear</td>\n",
       "      <td>246</td>\n",
       "      <td>2450</td>\n",
       "    </tr>\n",
       "    <tr>\n",
       "      <th>9</th>\n",
       "      <td>OffersScreenAppear</td>\n",
       "      <td>246</td>\n",
       "      <td>1542</td>\n",
       "    </tr>\n",
       "    <tr>\n",
       "      <th>10</th>\n",
       "      <td>CartScreenAppear</td>\n",
       "      <td>246</td>\n",
       "      <td>1266</td>\n",
       "    </tr>\n",
       "    <tr>\n",
       "      <th>11</th>\n",
       "      <td>PaymentScreenSuccessful</td>\n",
       "      <td>246</td>\n",
       "      <td>1200</td>\n",
       "    </tr>\n",
       "  </tbody>\n",
       "</table>\n",
       "</div>"
      ],
      "text/plain": [
       "                 event_name  exp_id  users_count\n",
       "0          MainScreenAppear     248         2493\n",
       "1        OffersScreenAppear     248         1531\n",
       "2          CartScreenAppear     248         1230\n",
       "3   PaymentScreenSuccessful     248         1181\n",
       "4          MainScreenAppear     247         2476\n",
       "5        OffersScreenAppear     247         1520\n",
       "6          CartScreenAppear     247         1238\n",
       "7   PaymentScreenSuccessful     247         1158\n",
       "8          MainScreenAppear     246         2450\n",
       "9        OffersScreenAppear     246         1542\n",
       "10         CartScreenAppear     246         1266\n",
       "11  PaymentScreenSuccessful     246         1200"
      ]
     },
     "execution_count": 35,
     "metadata": {},
     "output_type": "execute_result"
    }
   ],
   "source": [
    "groups = (\n",
    "    a_a_log.groupby(['event_name', 'exp_id'])\n",
    "    .agg({'user_id': 'nunique'}).reset_index()\n",
    "    .rename(columns={'user_id': 'users_count'}).\n",
    "    sort_values(by=['exp_id', 'users_count'], ascending=False)\n",
    "    .reset_index(drop=True)\n",
    ")\n",
    "groups"
   ]
  },
  {
   "cell_type": "markdown",
   "id": "7d8aa936",
   "metadata": {},
   "source": [
    " Видим, что больше всего пользователей у нас на первом шаге (MainScreenAppear). Проверим, есть ли стат. значимая разница между контрольными группами(246 и 247). Напишем функцию для проверки."
   ]
  },
  {
   "cell_type": "code",
   "execution_count": 36,
   "id": "27af13e5",
   "metadata": {},
   "outputs": [],
   "source": [
    "# Напишем функцию для проверки статистической значимости различий в конверсиях\n",
    "alpha = 0.05 \n",
    "def z_test(df1, df2, event, alpha, n):\n",
    "    bonferroni = alpha / n    \n",
    "    # n - поправка Бонферрони для критического уровня статистической значимости    \n",
    "    n_users = np.array([df1['user_id'].nunique(), \n",
    "                        df2['user_id'].nunique()])\n",
    "    # число пользователей, совершивших событие в группе 1 и группе 2    \n",
    "    success = np.array([df1[df1['event_name'] == event]['user_id'].nunique(), \n",
    "                        df2[df2['event_name'] == event]['user_id'].nunique()])\n",
    "    # пропорции успехов в группах:    \n",
    "    p1 = success[0]/n_users[0]\n",
    "    p2 = success[1]/n_users[1]    \n",
    "    # пропорция успехов в комбинированном датасете:    \n",
    "    p_combined = (success[0] + success[1]) / (n_users[0] + n_users[1])\n",
    "    # разница пропорций в датасетах\n",
    "    difference = p1 - p2 \n",
    "    # считаем статистику в ст.отклонениях стандартного нормального распределения    \n",
    "    z_value = difference /  np.sqrt(p_combined * (1 - p_combined) * (1/n_users[0] + 1/n_users[1]))\n",
    "    # задаем стандартное нормальное распределение (среднее 0, ст.отклонение 1)\n",
    "    distr = stats.norm(0, 1)  \n",
    "    p_value = (1 - distr.cdf(abs(z_value))) * 2     \n",
    "    print('Событие:', event)    \n",
    "    print('p-значение: ', p_value)\n",
    "    if p_value < bonferroni:\n",
    "        print('Отвергаем нулевую гипотезу: между долями есть значимая разница')    \n",
    "    else:\n",
    "        print('Не получилось отвергнуть нулевую гипотезу, нет оснований считать доли разными')"
   ]
  },
  {
   "cell_type": "code",
   "execution_count": 37,
   "id": "2482960c",
   "metadata": {},
   "outputs": [
    {
     "name": "stdout",
     "output_type": "stream",
     "text": [
      "Событие: MainScreenAppear\n",
      "p-значение:  0.7526703436483038\n",
      "Не получилось отвергнуть нулевую гипотезу, нет оснований считать доли разными\n",
      "\n",
      "Событие: OffersScreenAppear\n",
      "p-значение:  0.24786096925282264\n",
      "Не получилось отвергнуть нулевую гипотезу, нет оснований считать доли разными\n",
      "\n",
      "Событие: CartScreenAppear\n",
      "p-значение:  0.22867643757335676\n",
      "Не получилось отвергнуть нулевую гипотезу, нет оснований считать доли разными\n",
      "\n",
      "Событие: PaymentScreenSuccessful\n",
      "p-значение:  0.11446627829276612\n",
      "Не получилось отвергнуть нулевую гипотезу, нет оснований считать доли разными\n",
      "\n"
     ]
    }
   ],
   "source": [
    "for event in a_a_log['event_name'].unique():    \n",
    "    z_test(a_a_log[a_a_log['exp_id'] == 246], a_a_log[a_a_log['exp_id'] == 247], event, 0.05, 16)\n",
    "    print()"
   ]
  },
  {
   "cell_type": "markdown",
   "id": "aa3a6934",
   "metadata": {},
   "source": [
    "Мы видим, что статистически значимых различий между группами нет ни на одном из шагов. Можно утверждать, что разбиение на группы работает корректно."
   ]
  },
  {
   "cell_type": "markdown",
   "id": "fa3afef1",
   "metadata": {},
   "source": [
    "### Проверим, есть ли разница между группой с изменённым шрифтом и каждой контрольной группой в отдельности, а также между группой с изменённым шрифтом и объединённой контрольной группой."
   ]
  },
  {
   "cell_type": "code",
   "execution_count": 38,
   "id": "b319b7ae",
   "metadata": {},
   "outputs": [
    {
     "name": "stdout",
     "output_type": "stream",
     "text": [
      "Событие: MainScreenAppear\n",
      "p-значение:  0.3387114076159288\n",
      "Не получилось отвергнуть нулевую гипотезу, нет оснований считать доли разными\n",
      "\n",
      "Событие: OffersScreenAppear\n",
      "p-значение:  0.21442476639710506\n",
      "Не получилось отвергнуть нулевую гипотезу, нет оснований считать доли разными\n",
      "\n",
      "Событие: CartScreenAppear\n",
      "p-значение:  0.08067367598823139\n",
      "Не получилось отвергнуть нулевую гипотезу, нет оснований считать доли разными\n",
      "\n",
      "Событие: PaymentScreenSuccessful\n",
      "p-значение:  0.21693033984516674\n",
      "Не получилось отвергнуть нулевую гипотезу, нет оснований считать доли разными\n",
      "\n"
     ]
    }
   ],
   "source": [
    "# Сравним контрольную группу 246 и группу с изменённым шрифтом 248\n",
    "for event in a_a_log['event_name'].unique():    \n",
    "    z_test(a_a_log[a_a_log['exp_id'] == 246], a_a_log[a_a_log['exp_id'] == 248], event, 0.05, 16)\n",
    "    print()"
   ]
  },
  {
   "cell_type": "code",
   "execution_count": 39,
   "id": "b4e984a4",
   "metadata": {},
   "outputs": [
    {
     "name": "stdout",
     "output_type": "stream",
     "text": [
      "Событие: MainScreenAppear\n",
      "p-значение:  0.5194964354051703\n",
      "Не получилось отвергнуть нулевую гипотезу, нет оснований считать доли разными\n",
      "\n",
      "Событие: OffersScreenAppear\n",
      "p-значение:  0.9333751305879443\n",
      "Не получилось отвергнуть нулевую гипотезу, нет оснований считать доли разными\n",
      "\n",
      "Событие: CartScreenAppear\n",
      "p-значение:  0.5878284605111943\n",
      "Не получилось отвергнуть нулевую гипотезу, нет оснований считать доли разными\n",
      "\n",
      "Событие: PaymentScreenSuccessful\n",
      "p-значение:  0.7275718682261119\n",
      "Не получилось отвергнуть нулевую гипотезу, нет оснований считать доли разными\n",
      "\n"
     ]
    }
   ],
   "source": [
    "# Сравним контрольную группу 247 и группу с изменённым шрифтом 248\n",
    "for event in a_a_log['event_name'].unique():    \n",
    "    z_test(a_a_log[a_a_log['exp_id'] == 247], a_a_log[a_a_log['exp_id'] == 248], event, 0.05, 16)\n",
    "    print()"
   ]
  },
  {
   "cell_type": "code",
   "execution_count": 40,
   "id": "e2361ea8",
   "metadata": {
    "scrolled": true
   },
   "outputs": [
    {
     "name": "stdout",
     "output_type": "stream",
     "text": [
      "Событие: MainScreenAppear\n",
      "p-значение:  0.3486684291093256\n",
      "Не получилось отвергнуть нулевую гипотезу, нет оснований считать доли разными\n",
      "\n",
      "Событие: OffersScreenAppear\n",
      "p-значение:  0.44582745409482394\n",
      "Не получилось отвергнуть нулевую гипотезу, нет оснований считать доли разными\n",
      "\n",
      "Событие: CartScreenAppear\n",
      "p-значение:  0.18683558686831558\n",
      "Не получилось отвергнуть нулевую гипотезу, нет оснований считать доли разными\n",
      "\n",
      "Событие: PaymentScreenSuccessful\n",
      "p-значение:  0.6107918742187335\n",
      "Не получилось отвергнуть нулевую гипотезу, нет оснований считать доли разными\n",
      "\n"
     ]
    }
   ],
   "source": [
    "# Сравним объединённую контрольную группу и группу с изменённым шрифтом 248\n",
    "for event in a_a_log['event_name'].unique():    \n",
    "    z_test(a_a_log[a_a_log['exp_id'] != 248], a_a_log[a_a_log['exp_id'] == 248], event, 0.05, 16)\n",
    "    print()"
   ]
  },
  {
   "cell_type": "markdown",
   "id": "689bef0a",
   "metadata": {},
   "source": [
    "### Вывод"
   ]
  },
  {
   "cell_type": "markdown",
   "id": "d36175f3",
   "metadata": {},
   "source": [
    "Наш эксперимент показал, что доли в контрольных и экспериментальной группах равны.  \n",
    "Мы сделали 16 проверок статистических гипотез. Чтобы снизить групповую вероятность ошибки первого рода и скорректировать требуемые уровни значимости мы использовали поправку Бонферрони.  \n",
    "В качестве уровня значимости мы изпользовали 5%, потому что при выборе 10% увеличивается риск совершить ошибку первого рода, то есть отвергнуть верную нулевую гипотезу.  \n",
    "На основании нашего теста можно сделать вывод, что изменение шрифта не имеет существенного влияния на поведение пользователей."
   ]
  }
 ],
 "metadata": {
  "ExecuteTimeLog": [
   {
    "duration": 1096,
    "start_time": "2023-04-29T17:49:24.221Z"
   },
   {
    "duration": 145,
    "start_time": "2023-04-29T17:49:25.319Z"
   },
   {
    "duration": 0,
    "start_time": "2023-04-29T17:49:25.466Z"
   },
   {
    "duration": 0,
    "start_time": "2023-04-29T17:49:25.467Z"
   },
   {
    "duration": 0,
    "start_time": "2023-04-29T17:49:25.469Z"
   },
   {
    "duration": 0,
    "start_time": "2023-04-29T17:49:25.470Z"
   },
   {
    "duration": 0,
    "start_time": "2023-04-29T17:49:25.471Z"
   },
   {
    "duration": 0,
    "start_time": "2023-04-29T17:49:25.471Z"
   },
   {
    "duration": 0,
    "start_time": "2023-04-29T17:49:25.472Z"
   },
   {
    "duration": 0,
    "start_time": "2023-04-29T17:49:25.473Z"
   },
   {
    "duration": 0,
    "start_time": "2023-04-29T17:49:25.474Z"
   },
   {
    "duration": 0,
    "start_time": "2023-04-29T17:49:25.475Z"
   },
   {
    "duration": 0,
    "start_time": "2023-04-29T17:49:25.477Z"
   },
   {
    "duration": 0,
    "start_time": "2023-04-29T17:49:25.478Z"
   },
   {
    "duration": 1,
    "start_time": "2023-04-29T17:49:25.494Z"
   },
   {
    "duration": 0,
    "start_time": "2023-04-29T17:49:25.495Z"
   },
   {
    "duration": 0,
    "start_time": "2023-04-29T17:49:25.497Z"
   },
   {
    "duration": 0,
    "start_time": "2023-04-29T17:49:25.498Z"
   },
   {
    "duration": 0,
    "start_time": "2023-04-29T17:49:25.498Z"
   },
   {
    "duration": 0,
    "start_time": "2023-04-29T17:49:25.500Z"
   },
   {
    "duration": 0,
    "start_time": "2023-04-29T17:49:25.500Z"
   },
   {
    "duration": 0,
    "start_time": "2023-04-29T17:49:25.501Z"
   },
   {
    "duration": 0,
    "start_time": "2023-04-29T17:49:25.503Z"
   },
   {
    "duration": 0,
    "start_time": "2023-04-29T17:49:25.504Z"
   },
   {
    "duration": 0,
    "start_time": "2023-04-29T17:49:25.505Z"
   },
   {
    "duration": 0,
    "start_time": "2023-04-29T17:49:25.505Z"
   },
   {
    "duration": 0,
    "start_time": "2023-04-29T17:49:25.506Z"
   },
   {
    "duration": 0,
    "start_time": "2023-04-29T17:49:25.508Z"
   },
   {
    "duration": 0,
    "start_time": "2023-04-29T17:49:25.509Z"
   },
   {
    "duration": 0,
    "start_time": "2023-04-29T17:49:25.510Z"
   },
   {
    "duration": 0,
    "start_time": "2023-04-29T17:49:25.511Z"
   },
   {
    "duration": 0,
    "start_time": "2023-04-29T17:49:25.512Z"
   },
   {
    "duration": 0,
    "start_time": "2023-04-29T17:49:25.513Z"
   },
   {
    "duration": 0,
    "start_time": "2023-04-29T17:49:25.514Z"
   },
   {
    "duration": 60,
    "start_time": "2023-04-29T17:50:31.247Z"
   },
   {
    "duration": 67,
    "start_time": "2023-04-29T17:52:37.849Z"
   },
   {
    "duration": 63,
    "start_time": "2023-04-29T17:52:42.215Z"
   },
   {
    "duration": 3,
    "start_time": "2023-04-29T17:53:29.772Z"
   },
   {
    "duration": 2,
    "start_time": "2023-04-29T17:53:34.958Z"
   },
   {
    "duration": 9,
    "start_time": "2023-04-29T17:53:34.963Z"
   },
   {
    "duration": 0,
    "start_time": "2023-04-29T17:53:34.974Z"
   },
   {
    "duration": 0,
    "start_time": "2023-04-29T17:53:34.975Z"
   },
   {
    "duration": 0,
    "start_time": "2023-04-29T17:53:34.977Z"
   },
   {
    "duration": 0,
    "start_time": "2023-04-29T17:53:34.978Z"
   },
   {
    "duration": 0,
    "start_time": "2023-04-29T17:53:34.979Z"
   },
   {
    "duration": 0,
    "start_time": "2023-04-29T17:53:34.980Z"
   },
   {
    "duration": 0,
    "start_time": "2023-04-29T17:53:34.981Z"
   },
   {
    "duration": 0,
    "start_time": "2023-04-29T17:53:34.982Z"
   },
   {
    "duration": 0,
    "start_time": "2023-04-29T17:53:34.983Z"
   },
   {
    "duration": 0,
    "start_time": "2023-04-29T17:53:34.984Z"
   },
   {
    "duration": 0,
    "start_time": "2023-04-29T17:53:34.985Z"
   },
   {
    "duration": 0,
    "start_time": "2023-04-29T17:53:34.986Z"
   },
   {
    "duration": 0,
    "start_time": "2023-04-29T17:53:34.987Z"
   },
   {
    "duration": 0,
    "start_time": "2023-04-29T17:53:34.988Z"
   },
   {
    "duration": 1,
    "start_time": "2023-04-29T17:53:34.990Z"
   },
   {
    "duration": 0,
    "start_time": "2023-04-29T17:53:34.992Z"
   },
   {
    "duration": 13,
    "start_time": "2023-04-29T17:53:34.995Z"
   },
   {
    "duration": 0,
    "start_time": "2023-04-29T17:53:35.010Z"
   },
   {
    "duration": 0,
    "start_time": "2023-04-29T17:53:35.011Z"
   },
   {
    "duration": 0,
    "start_time": "2023-04-29T17:53:35.012Z"
   },
   {
    "duration": 0,
    "start_time": "2023-04-29T17:53:35.015Z"
   },
   {
    "duration": 0,
    "start_time": "2023-04-29T17:53:35.016Z"
   },
   {
    "duration": 0,
    "start_time": "2023-04-29T17:53:35.017Z"
   },
   {
    "duration": 0,
    "start_time": "2023-04-29T17:53:35.017Z"
   },
   {
    "duration": 0,
    "start_time": "2023-04-29T17:53:35.018Z"
   },
   {
    "duration": 0,
    "start_time": "2023-04-29T17:53:35.019Z"
   },
   {
    "duration": 0,
    "start_time": "2023-04-29T17:53:35.020Z"
   },
   {
    "duration": 0,
    "start_time": "2023-04-29T17:53:35.021Z"
   },
   {
    "duration": 0,
    "start_time": "2023-04-29T17:53:35.022Z"
   },
   {
    "duration": 0,
    "start_time": "2023-04-29T17:53:35.023Z"
   },
   {
    "duration": 0,
    "start_time": "2023-04-29T17:53:35.024Z"
   },
   {
    "duration": 9,
    "start_time": "2023-04-29T17:57:39.964Z"
   },
   {
    "duration": 8,
    "start_time": "2023-04-29T17:57:50.357Z"
   },
   {
    "duration": 2,
    "start_time": "2023-04-29T17:57:53.360Z"
   },
   {
    "duration": 8,
    "start_time": "2023-04-29T17:57:54.958Z"
   },
   {
    "duration": 336,
    "start_time": "2023-04-29T17:59:12.861Z"
   },
   {
    "duration": 20,
    "start_time": "2023-04-29T17:59:14.688Z"
   },
   {
    "duration": 15,
    "start_time": "2023-04-29T17:59:17.761Z"
   },
   {
    "duration": 45,
    "start_time": "2023-04-29T17:59:34.271Z"
   },
   {
    "duration": 1104,
    "start_time": "2023-04-29T17:59:36.607Z"
   },
   {
    "duration": 147,
    "start_time": "2023-04-29T17:59:42.438Z"
   },
   {
    "duration": 151,
    "start_time": "2023-04-29T17:59:46.060Z"
   },
   {
    "duration": 10,
    "start_time": "2023-04-29T17:59:46.213Z"
   },
   {
    "duration": 18,
    "start_time": "2023-04-29T17:59:46.225Z"
   },
   {
    "duration": 11,
    "start_time": "2023-04-29T17:59:46.244Z"
   },
   {
    "duration": 41,
    "start_time": "2023-04-29T17:59:46.256Z"
   },
   {
    "duration": 96,
    "start_time": "2023-04-29T17:59:46.298Z"
   },
   {
    "duration": 74,
    "start_time": "2023-04-29T17:59:46.396Z"
   },
   {
    "duration": 160,
    "start_time": "2023-04-29T17:59:46.472Z"
   },
   {
    "duration": 25,
    "start_time": "2023-04-29T17:59:46.634Z"
   },
   {
    "duration": 34,
    "start_time": "2023-04-29T17:59:46.661Z"
   },
   {
    "duration": 6,
    "start_time": "2023-04-29T17:59:46.697Z"
   },
   {
    "duration": 22,
    "start_time": "2023-04-29T17:59:46.705Z"
   },
   {
    "duration": 39,
    "start_time": "2023-04-29T17:59:46.729Z"
   },
   {
    "duration": 466,
    "start_time": "2023-04-29T17:59:46.769Z"
   },
   {
    "duration": 225,
    "start_time": "2023-04-29T17:59:47.237Z"
   },
   {
    "duration": 12,
    "start_time": "2023-04-29T17:59:47.464Z"
   },
   {
    "duration": 19,
    "start_time": "2023-04-29T17:59:47.478Z"
   },
   {
    "duration": 16,
    "start_time": "2023-04-29T17:59:47.499Z"
   },
   {
    "duration": 34,
    "start_time": "2023-04-29T17:59:47.517Z"
   },
   {
    "duration": 64,
    "start_time": "2023-04-29T17:59:47.553Z"
   },
   {
    "duration": 19,
    "start_time": "2023-04-29T17:59:47.619Z"
   },
   {
    "duration": 79,
    "start_time": "2023-04-29T17:59:47.640Z"
   },
   {
    "duration": 8,
    "start_time": "2023-04-29T17:59:47.720Z"
   },
   {
    "duration": 12,
    "start_time": "2023-04-29T17:59:47.729Z"
   },
   {
    "duration": 4,
    "start_time": "2023-04-29T17:59:47.742Z"
   },
   {
    "duration": 59,
    "start_time": "2023-04-29T17:59:47.747Z"
   },
   {
    "duration": 38,
    "start_time": "2023-04-29T17:59:47.808Z"
   },
   {
    "duration": 76,
    "start_time": "2023-04-29T17:59:47.850Z"
   },
   {
    "duration": 6,
    "start_time": "2023-04-29T17:59:47.927Z"
   },
   {
    "duration": 126,
    "start_time": "2023-04-29T17:59:47.935Z"
   },
   {
    "duration": 133,
    "start_time": "2023-04-29T17:59:48.063Z"
   },
   {
    "duration": 130,
    "start_time": "2023-04-29T17:59:48.198Z"
   },
   {
    "duration": 169,
    "start_time": "2023-04-29T17:59:48.330Z"
   },
   {
    "duration": 1019,
    "start_time": "2023-05-01T20:25:53.941Z"
   },
   {
    "duration": 145,
    "start_time": "2023-05-01T20:25:54.962Z"
   },
   {
    "duration": 0,
    "start_time": "2023-05-01T20:25:55.110Z"
   },
   {
    "duration": 0,
    "start_time": "2023-05-01T20:25:55.112Z"
   },
   {
    "duration": 0,
    "start_time": "2023-05-01T20:25:55.113Z"
   },
   {
    "duration": 0,
    "start_time": "2023-05-01T20:25:55.114Z"
   },
   {
    "duration": 0,
    "start_time": "2023-05-01T20:25:55.115Z"
   },
   {
    "duration": 0,
    "start_time": "2023-05-01T20:25:55.116Z"
   },
   {
    "duration": 0,
    "start_time": "2023-05-01T20:25:55.117Z"
   },
   {
    "duration": 0,
    "start_time": "2023-05-01T20:25:55.118Z"
   },
   {
    "duration": 0,
    "start_time": "2023-05-01T20:25:55.118Z"
   },
   {
    "duration": 0,
    "start_time": "2023-05-01T20:25:55.119Z"
   },
   {
    "duration": 0,
    "start_time": "2023-05-01T20:25:55.134Z"
   },
   {
    "duration": 0,
    "start_time": "2023-05-01T20:25:55.135Z"
   },
   {
    "duration": 0,
    "start_time": "2023-05-01T20:25:55.136Z"
   },
   {
    "duration": 0,
    "start_time": "2023-05-01T20:25:55.137Z"
   },
   {
    "duration": 0,
    "start_time": "2023-05-01T20:25:55.138Z"
   },
   {
    "duration": 0,
    "start_time": "2023-05-01T20:25:55.139Z"
   },
   {
    "duration": 0,
    "start_time": "2023-05-01T20:25:55.140Z"
   },
   {
    "duration": 0,
    "start_time": "2023-05-01T20:25:55.141Z"
   },
   {
    "duration": 0,
    "start_time": "2023-05-01T20:25:55.141Z"
   },
   {
    "duration": 0,
    "start_time": "2023-05-01T20:25:55.142Z"
   },
   {
    "duration": 0,
    "start_time": "2023-05-01T20:25:55.143Z"
   },
   {
    "duration": 0,
    "start_time": "2023-05-01T20:25:55.144Z"
   },
   {
    "duration": 0,
    "start_time": "2023-05-01T20:25:55.145Z"
   },
   {
    "duration": 0,
    "start_time": "2023-05-01T20:25:55.146Z"
   },
   {
    "duration": 0,
    "start_time": "2023-05-01T20:25:55.147Z"
   },
   {
    "duration": 0,
    "start_time": "2023-05-01T20:25:55.149Z"
   },
   {
    "duration": 0,
    "start_time": "2023-05-01T20:25:55.150Z"
   },
   {
    "duration": 0,
    "start_time": "2023-05-01T20:25:55.151Z"
   },
   {
    "duration": 0,
    "start_time": "2023-05-01T20:25:55.152Z"
   },
   {
    "duration": 0,
    "start_time": "2023-05-01T20:25:55.153Z"
   },
   {
    "duration": 0,
    "start_time": "2023-05-01T20:25:55.154Z"
   },
   {
    "duration": 0,
    "start_time": "2023-05-01T20:25:55.155Z"
   },
   {
    "duration": 0,
    "start_time": "2023-05-01T20:25:55.156Z"
   },
   {
    "duration": 0,
    "start_time": "2023-05-01T20:25:55.157Z"
   },
   {
    "duration": 0,
    "start_time": "2023-05-01T20:25:55.158Z"
   },
   {
    "duration": 0,
    "start_time": "2023-05-01T20:25:55.159Z"
   },
   {
    "duration": 0,
    "start_time": "2023-05-01T20:25:55.160Z"
   },
   {
    "duration": 487,
    "start_time": "2023-05-01T20:28:24.695Z"
   },
   {
    "duration": 13,
    "start_time": "2023-05-01T20:28:26.934Z"
   },
   {
    "duration": 14,
    "start_time": "2023-05-01T20:28:29.840Z"
   },
   {
    "duration": 35,
    "start_time": "2023-05-01T20:28:29.856Z"
   },
   {
    "duration": 13,
    "start_time": "2023-05-01T20:28:29.892Z"
   },
   {
    "duration": 41,
    "start_time": "2023-05-01T20:28:29.907Z"
   },
   {
    "duration": 91,
    "start_time": "2023-05-01T20:28:29.950Z"
   },
   {
    "duration": 83,
    "start_time": "2023-05-01T20:28:30.042Z"
   },
   {
    "duration": 169,
    "start_time": "2023-05-01T20:28:30.126Z"
   },
   {
    "duration": 38,
    "start_time": "2023-05-01T20:28:30.297Z"
   },
   {
    "duration": 18,
    "start_time": "2023-05-01T20:28:30.351Z"
   },
   {
    "duration": 21,
    "start_time": "2023-05-01T20:28:30.370Z"
   },
   {
    "duration": 236,
    "start_time": "2023-05-01T20:28:30.394Z"
   },
   {
    "duration": 28,
    "start_time": "2023-05-01T20:28:30.638Z"
   },
   {
    "duration": 47,
    "start_time": "2023-05-01T20:28:30.669Z"
   },
   {
    "duration": 63,
    "start_time": "2023-05-01T20:28:30.718Z"
   },
   {
    "duration": 514,
    "start_time": "2023-05-01T20:28:30.783Z"
   },
   {
    "duration": 400,
    "start_time": "2023-05-01T20:28:31.298Z"
   },
   {
    "duration": 12,
    "start_time": "2023-05-01T20:28:31.699Z"
   },
   {
    "duration": 40,
    "start_time": "2023-05-01T20:28:31.712Z"
   },
   {
    "duration": 26,
    "start_time": "2023-05-01T20:28:31.754Z"
   },
   {
    "duration": 13,
    "start_time": "2023-05-01T20:28:31.782Z"
   },
   {
    "duration": 77,
    "start_time": "2023-05-01T20:28:31.796Z"
   },
   {
    "duration": 50,
    "start_time": "2023-05-01T20:28:31.874Z"
   },
   {
    "duration": 38,
    "start_time": "2023-05-01T20:28:31.926Z"
   },
   {
    "duration": 21,
    "start_time": "2023-05-01T20:28:31.965Z"
   },
   {
    "duration": 132,
    "start_time": "2023-05-01T20:28:31.988Z"
   },
   {
    "duration": 28,
    "start_time": "2023-05-01T20:28:32.121Z"
   },
   {
    "duration": 12,
    "start_time": "2023-05-01T20:28:32.151Z"
   },
   {
    "duration": 1063,
    "start_time": "2023-05-01T20:28:32.165Z"
   },
   {
    "duration": 9,
    "start_time": "2023-05-01T20:28:33.231Z"
   },
   {
    "duration": 52,
    "start_time": "2023-05-01T20:28:33.247Z"
   },
   {
    "duration": 67,
    "start_time": "2023-05-01T20:28:33.300Z"
   },
   {
    "duration": 89,
    "start_time": "2023-05-01T20:28:33.369Z"
   },
   {
    "duration": 5,
    "start_time": "2023-05-01T20:28:33.460Z"
   },
   {
    "duration": 126,
    "start_time": "2023-05-01T20:28:33.466Z"
   },
   {
    "duration": 134,
    "start_time": "2023-05-01T20:28:33.594Z"
   },
   {
    "duration": 133,
    "start_time": "2023-05-01T20:28:33.734Z"
   },
   {
    "duration": 180,
    "start_time": "2023-05-01T20:28:33.868Z"
   },
   {
    "duration": 10,
    "start_time": "2023-05-01T20:33:44.159Z"
   },
   {
    "duration": 10,
    "start_time": "2023-05-01T20:33:57.381Z"
   },
   {
    "duration": 1237,
    "start_time": "2023-05-02T12:03:40.517Z"
   },
   {
    "duration": 118,
    "start_time": "2023-05-02T12:03:43.914Z"
   },
   {
    "duration": 44,
    "start_time": "2023-05-02T12:03:48.307Z"
   },
   {
    "duration": 561,
    "start_time": "2023-05-02T12:03:49.520Z"
   },
   {
    "duration": 11,
    "start_time": "2023-05-02T12:03:50.825Z"
   }
  ],
  "kernelspec": {
   "display_name": "Python 3 (ipykernel)",
   "language": "python",
   "name": "python3"
  },
  "language_info": {
   "codemirror_mode": {
    "name": "ipython",
    "version": 3
   },
   "file_extension": ".py",
   "mimetype": "text/x-python",
   "name": "python",
   "nbconvert_exporter": "python",
   "pygments_lexer": "ipython3",
   "version": "3.9.12"
  },
  "toc": {
   "base_numbering": 1,
   "nav_menu": {},
   "number_sections": true,
   "sideBar": true,
   "skip_h1_title": true,
   "title_cell": "Table of Contents",
   "title_sidebar": "Contents",
   "toc_cell": true,
   "toc_position": {
    "height": "calc(100% - 180px)",
    "left": "10px",
    "top": "150px",
    "width": "299.2px"
   },
   "toc_section_display": true,
   "toc_window_display": true
  }
 },
 "nbformat": 4,
 "nbformat_minor": 5
}
